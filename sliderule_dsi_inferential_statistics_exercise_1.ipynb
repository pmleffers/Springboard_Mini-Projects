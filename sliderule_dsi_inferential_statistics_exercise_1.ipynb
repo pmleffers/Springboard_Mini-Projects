{
 "cells": [
  {
   "cell_type": "code",
   "execution_count": 37,
   "metadata": {},
   "outputs": [],
   "source": [
    "from IPython.display import HTML\n",
    "from IPython.display import Image\n",
    "import warnings\n",
    "warnings.filterwarnings(\"ignore\")"
   ]
  },
  {
   "cell_type": "markdown",
   "metadata": {},
   "source": [
    "<img src='carl-wunderlich-german-physician-science-source.jpg' width=\"300\" height=\"300\" align=\"center\">"
   ]
  },
  {
   "cell_type": "markdown",
   "metadata": {},
   "source": [
    "# What is the True Normal Human Body Temperature? \n"
   ]
  },
  {
   "cell_type": "code",
   "execution_count": 36,
   "metadata": {},
   "outputs": [
    {
     "data": {
      "text/html": [
       "<script>\n",
       "  function code_toggle() {\n",
       "    if (code_shown){\n",
       "      $('div.input').hide('500');\n",
       "      $('#toggleButton').val('Show Code')\n",
       "    } else {\n",
       "      $('div.input').show('500');\n",
       "      $('#toggleButton').val('Hide Code')\n",
       "    }\n",
       "    code_shown = !code_shown\n",
       "  }\n",
       "\n",
       "  $( document ).ready(function(){\n",
       "    code_shown=false;\n",
       "    $('div.input').hide()\n",
       "  });\n",
       "</script>\n",
       "<form action=\"javascript:code_toggle()\"><input type=\"submit\" id=\"toggleButton\" value=\"Show Code\"></form>"
      ],
      "text/plain": [
       "<IPython.core.display.HTML object>"
      ]
     },
     "execution_count": 36,
     "metadata": {},
     "output_type": "execute_result"
    }
   ],
   "source": [
    "HTML('''<script>\n",
    "  function code_toggle() {\n",
    "    if (code_shown){\n",
    "      $('div.input').hide('500');\n",
    "      $('#toggleButton').val('Show Code')\n",
    "    } else {\n",
    "      $('div.input').show('500');\n",
    "      $('#toggleButton').val('Hide Code')\n",
    "    }\n",
    "    code_shown = !code_shown\n",
    "  }\n",
    "\n",
    "  $( document ).ready(function(){\n",
    "    code_shown=false;\n",
    "    $('div.input').hide()\n",
    "  });\n",
    "</script>\n",
    "<form action=\"javascript:code_toggle()\"><input type=\"submit\" id=\"toggleButton\" value=\"Show Code\"></form>''')"
   ]
  },
  {
   "cell_type": "markdown",
   "metadata": {},
   "source": [
    "\n",
    "#### Background\n",
    "\n",
    "The mean normal body temperature was held to be 37$^{\\circ}$C or 98.6$^{\\circ}$F for more than 120 years since it was first conceptualized and reported by Carl Wunderlich in a famous 1868 book. But, is this value statistically correct?"
   ]
  },
  {
   "cell_type": "markdown",
   "metadata": {},
   "source": [
    "<h3>Exercises</h3>\n",
    "\n",
    "<p>In this exercise, you will analyze a dataset of human body temperatures and employ the concepts of hypothesis testing, confidence intervals, and statistical significance.</p>\n",
    "\n",
    "<p>Answer the following questions <b>in this notebook below and submit to your Github account</b>.</p> \n",
    "\n",
    "<ol>\n",
    "<li>  Is the distribution of body temperatures normal? \n",
    "    <ul>\n",
    "    <li> Although this is not a requirement for the Central Limit Theorem to hold (read the introduction on Wikipedia's page about the CLT carefully: https://en.wikipedia.org/wiki/Central_limit_theorem), it gives us some peace of mind that the population may also be normally distributed if we assume that this sample is representative of the population.\n",
    "    <li> Think about the way you're going to check for the normality of the distribution. Graphical methods are usually used first, but there are also other ways: https://en.wikipedia.org/wiki/Normality_test\n",
    "    </ul>\n",
    "<li>  Is the sample size large? Are the observations independent?\n",
    "    <ul>\n",
    "    <li> Remember that this is a condition for the Central Limit Theorem, and hence the statistical tests we are using, to apply.\n",
    "    </ul>\n",
    "<li>  Is the true population mean really 98.6 degrees F?\n",
    "    <ul>\n",
    "    <li> First, try a bootstrap hypothesis test.\n",
    "    <li> Now, let's try frequentist statistical testing. Would you use a one-sample or two-sample test? Why?\n",
    "    <li> In this situation, is it appropriate to use the $t$ or $z$ statistic? \n",
    "    <li> Now try using the other test. How is the result be different? Why?\n",
    "    </ul>\n",
    "<li>  Draw a small sample of size 10 from the data and repeat both frequentist tests. \n",
    "    <ul>\n",
    "    <li> Which one is the correct one to use? \n",
    "    <li> What do you notice? What does this tell you about the difference in application of the $t$ and $z$ statistic?\n",
    "    </ul>\n",
    "<li>  At what temperature should we consider someone's temperature to be \"abnormal\"?\n",
    "    <ul>\n",
    "    <li> As in the previous example, try calculating everything using the boostrap approach, as well as the frequentist approach.\n",
    "    <li> Start by computing the margin of error and confidence interval. When calculating the confidence interval, keep in mind that you should use the appropriate formula for one draw, and not N draws.\n",
    "    </ul>\n",
    "<li>  Is there a significant difference between males and females in normal temperature?\n",
    "    <ul>\n",
    "    <li> What testing approach did you use and why?\n",
    "    <li> Write a story with your conclusion in the context of the original problem.\n",
    "    </ul>\n",
    "</ol>\n",
    "\n",
    "You can include written notes in notebook cells using Markdown: \n",
    "   - In the control panel at the top, choose Cell > Cell Type > Markdown\n",
    "   - Markdown syntax: http://nestacms.com/docs/creating-content/markdown-cheat-sheet\n",
    "\n",
    "#### Resources\n",
    "\n",
    "+ Information and data sources: http://www.amstat.org/publications/jse/datasets/normtemp.txt, http://www.amstat.org/publications/jse/jse_data_archive.htm\n",
    "+ Markdown syntax: http://nestacms.com/docs/creating-content/markdown-cheat-sheet\n",
    "\n",
    "****"
   ]
  },
  {
   "cell_type": "markdown",
   "metadata": {},
   "source": [
    "import packages"
   ]
  },
  {
   "cell_type": "code",
   "execution_count": 296,
   "metadata": {},
   "outputs": [],
   "source": [
    "import pandas as pd\n",
    "import matplotlib.pyplot as plt\n",
    "import numpy as np\n",
    "import seaborn as sns\n",
    "from scipy import stats \n",
    "from scipy.stats import truncnorm\n",
    "import statsmodels.api as sm\n",
    "import pylab\n",
    "from statsmodels.stats.weightstats import ztest\n",
    "from IPython.display import display, Math, Latex\n",
    "#from numpy.random import randn\n",
    "%matplotlib inline"
   ]
  },
  {
   "cell_type": "markdown",
   "metadata": {},
   "source": [
    "import data"
   ]
  },
  {
   "cell_type": "code",
   "execution_count": null,
   "metadata": {},
   "outputs": [],
   "source": [
    "df = pd.read_csv('data/human_body_temperature.csv')"
   ]
  },
  {
   "cell_type": "markdown",
   "metadata": {},
   "source": [
    "**Is the distribution of body temperatures normal?**\n",
    "\n",
    "    Although this is not a requirement for the Central Limit Theorem to hold (read the introduction on Wikipedia's page about the CLT carefully: https://en.wikipedia.org/wiki/Central_limit_theorem), it gives us some peace of mind that the population may also be normally distributed if we assume that this sample is representative of the population.\n",
    "    \n",
    "    Think about the way you're going to check for the normality of the distribution. Graphical methods are usually used first, but there are also other ways: https://en.wikipedia.org/wiki/Normality_test "
   ]
  },
  {
   "cell_type": "code",
   "execution_count": 39,
   "metadata": {},
   "outputs": [
    {
     "data": {
      "text/html": [
       "<div>\n",
       "<style scoped>\n",
       "    .dataframe tbody tr th:only-of-type {\n",
       "        vertical-align: middle;\n",
       "    }\n",
       "\n",
       "    .dataframe tbody tr th {\n",
       "        vertical-align: top;\n",
       "    }\n",
       "\n",
       "    .dataframe thead th {\n",
       "        text-align: right;\n",
       "    }\n",
       "</style>\n",
       "<table border=\"1\" class=\"dataframe\">\n",
       "  <thead>\n",
       "    <tr style=\"text-align: right;\">\n",
       "      <th></th>\n",
       "      <th>temperature</th>\n",
       "      <th>gender</th>\n",
       "      <th>heart_rate</th>\n",
       "    </tr>\n",
       "  </thead>\n",
       "  <tbody>\n",
       "    <tr>\n",
       "      <th>0</th>\n",
       "      <td>99.3</td>\n",
       "      <td>F</td>\n",
       "      <td>68.0</td>\n",
       "    </tr>\n",
       "    <tr>\n",
       "      <th>1</th>\n",
       "      <td>98.4</td>\n",
       "      <td>F</td>\n",
       "      <td>81.0</td>\n",
       "    </tr>\n",
       "    <tr>\n",
       "      <th>2</th>\n",
       "      <td>97.8</td>\n",
       "      <td>M</td>\n",
       "      <td>73.0</td>\n",
       "    </tr>\n",
       "    <tr>\n",
       "      <th>3</th>\n",
       "      <td>99.2</td>\n",
       "      <td>F</td>\n",
       "      <td>66.0</td>\n",
       "    </tr>\n",
       "    <tr>\n",
       "      <th>4</th>\n",
       "      <td>98.0</td>\n",
       "      <td>F</td>\n",
       "      <td>73.0</td>\n",
       "    </tr>\n",
       "  </tbody>\n",
       "</table>\n",
       "</div>"
      ],
      "text/plain": [
       "   temperature gender  heart_rate\n",
       "0         99.3      F        68.0\n",
       "1         98.4      F        81.0\n",
       "2         97.8      M        73.0\n",
       "3         99.2      F        66.0\n",
       "4         98.0      F        73.0"
      ]
     },
     "execution_count": 39,
     "metadata": {},
     "output_type": "execute_result"
    }
   ],
   "source": [
    "# Your work here.\n",
    "df.head()"
   ]
  },
  {
   "cell_type": "markdown",
   "metadata": {},
   "source": [
    "*At first blush the mean body temperature appears to be approximately 96.3 degrees, with a standard deviation of .73. Which could means that 68% of observations seem to fall within 97.52 and 98.98.*"
   ]
  },
  {
   "cell_type": "code",
   "execution_count": 40,
   "metadata": {},
   "outputs": [
    {
     "name": "stdout",
     "output_type": "stream",
     "text": [
      "Among 130 observations:\n",
      "The mean of temperature: 98.24923076923078\n",
      "The standard deviation of temperature: 0.7331831580389454\n",
      "Therefore 68% of the temperature observations lie between 97.51604761119184 and 98.98241392726972 .\n"
     ]
    },
    {
     "data": {
      "text/html": [
       "<div>\n",
       "<style scoped>\n",
       "    .dataframe tbody tr th:only-of-type {\n",
       "        vertical-align: middle;\n",
       "    }\n",
       "\n",
       "    .dataframe tbody tr th {\n",
       "        vertical-align: top;\n",
       "    }\n",
       "\n",
       "    .dataframe thead th {\n",
       "        text-align: right;\n",
       "    }\n",
       "</style>\n",
       "<table border=\"1\" class=\"dataframe\">\n",
       "  <thead>\n",
       "    <tr style=\"text-align: right;\">\n",
       "      <th></th>\n",
       "      <th>temperature</th>\n",
       "      <th>heart_rate</th>\n",
       "    </tr>\n",
       "  </thead>\n",
       "  <tbody>\n",
       "    <tr>\n",
       "      <th>count</th>\n",
       "      <td>130.000000</td>\n",
       "      <td>130.000000</td>\n",
       "    </tr>\n",
       "    <tr>\n",
       "      <th>mean</th>\n",
       "      <td>98.249231</td>\n",
       "      <td>73.761538</td>\n",
       "    </tr>\n",
       "    <tr>\n",
       "      <th>std</th>\n",
       "      <td>0.733183</td>\n",
       "      <td>7.062077</td>\n",
       "    </tr>\n",
       "    <tr>\n",
       "      <th>min</th>\n",
       "      <td>96.300000</td>\n",
       "      <td>57.000000</td>\n",
       "    </tr>\n",
       "    <tr>\n",
       "      <th>25%</th>\n",
       "      <td>97.800000</td>\n",
       "      <td>69.000000</td>\n",
       "    </tr>\n",
       "    <tr>\n",
       "      <th>50%</th>\n",
       "      <td>98.300000</td>\n",
       "      <td>74.000000</td>\n",
       "    </tr>\n",
       "    <tr>\n",
       "      <th>75%</th>\n",
       "      <td>98.700000</td>\n",
       "      <td>79.000000</td>\n",
       "    </tr>\n",
       "    <tr>\n",
       "      <th>max</th>\n",
       "      <td>100.800000</td>\n",
       "      <td>89.000000</td>\n",
       "    </tr>\n",
       "  </tbody>\n",
       "</table>\n",
       "</div>"
      ],
      "text/plain": [
       "       temperature  heart_rate\n",
       "count   130.000000  130.000000\n",
       "mean     98.249231   73.761538\n",
       "std       0.733183    7.062077\n",
       "min      96.300000   57.000000\n",
       "25%      97.800000   69.000000\n",
       "50%      98.300000   74.000000\n",
       "75%      98.700000   79.000000\n",
       "max     100.800000   89.000000"
      ]
     },
     "execution_count": 40,
     "metadata": {},
     "output_type": "execute_result"
    }
   ],
   "source": [
    "print('Among',df.temperature.count(),'observations:')\n",
    "print('The mean of temperature:',df.temperature.mean())\n",
    "print('The standard deviation of temperature:',df.temperature.std())\n",
    "print('Therefore 68% of the temperature observations lie between',df.temperature.mean()-df.temperature.std(),'and',df.temperature.mean()+df.temperature.std(),'.')\n",
    "df.describe()"
   ]
  },
  {
   "cell_type": "code",
   "execution_count": 109,
   "metadata": {},
   "outputs": [
    {
     "data": {
      "image/png": "[encoded data removed]",
      "text/plain": [
       "<Figure size 432x288 with 1 Axes>"
      ]
     },
     "metadata": {},
     "output_type": "display_data"
    }
   ],
   "source": [
    "temp_array=np.array(df.temperature)\n",
    "sns.set()\n",
    "_ = sns.distplot(temp_array, kde=False, fit=stats.gamma)\n",
    "_ = plt.title('Distribution of Temperature Data')\n",
    "_ = plt.xlabel('body temperature')\n",
    "_ = plt.ylabel('observed counts')\n",
    "\n",
    "plt.show()"
   ]
  },
  {
   "cell_type": "code",
   "execution_count": 42,
   "metadata": {},
   "outputs": [],
   "source": [
    "def boxPlot(variable):\n",
    "    sns.set_style(\"whitegrid\")\n",
    "    #sns.load_dataset(\"tips\")\n",
    "    sns.boxplot(x=variable)\n",
    "    return plt.show(),plt.clf()"
   ]
  },
  {
   "cell_type": "code",
   "execution_count": 43,
   "metadata": {},
   "outputs": [],
   "source": [
    "def CDFPlot(variable):\n",
    "    lower,upper=variable.min(),variable.max()\n",
    "    mu,sigma = variable.mean(),variable.std()\n",
    "    values = stats.truncnorm((lower - mu) / sigma, (upper - mu) / sigma, loc=mu, scale=sigma)\n",
    "#    values = np.random.normal(mu, sigma, 10000)\n",
    "    sns.kdeplot(variable,cumulative=True,label=variable.name+\" CDF\",color='b')\n",
    "    sns.kdeplot(values.rvs(1000),cumulative=True,label=\"Gaussian CDF\",color='r')\n",
    "    plt.suptitle(\"Cumulative Distribution Frequency of Temperature Against Normal Gaussian distribution.\")\n",
    "    plt.figure()\n",
    "    return plt.show(),plt.clf()"
   ]
  },
  {
   "cell_type": "code",
   "execution_count": 44,
   "metadata": {},
   "outputs": [
    {
     "data": {
      "image/png": "[encoded data removed]",
      "text/plain": [
       "<Figure size 432x288 with 1 Axes>"
      ]
     },
     "metadata": {},
     "output_type": "display_data"
    },
    {
     "data": {
      "text/plain": [
       "(None, None)"
      ]
     },
     "execution_count": 44,
     "metadata": {},
     "output_type": "execute_result"
    },
    {
     "data": {
      "text/plain": [
       "<Figure size 432x288 with 0 Axes>"
      ]
     },
     "metadata": {},
     "output_type": "display_data"
    }
   ],
   "source": [
    "boxPlot(df['temperature'])"
   ]
  },
  {
   "cell_type": "code",
   "execution_count": 57,
   "metadata": {},
   "outputs": [],
   "source": [
    "Observed_Column=df.temperature\n",
    "quartile_1=np.percentile(Observed_Column, 25)\n",
    "quartile_3=np.percentile(Observed_Column, 75)\n",
    "inter_quartile_range=quartile_3-quartile_1\n",
    "Inner_fence=1.5*(inter_quartile_range)\n",
    "Outer_fence=3*inter_quartile_range\n",
    "#Fences for viewing outliers\n",
    "#mild outliers\n",
    "inner_lower_fence=quartile_1-Inner_fence\n",
    "inner_upper_fence=quartile_3+Inner_fence\n",
    "#strong outliers\n",
    "outer_lower_fence=quartile_1-Outer_fence\n",
    "outer_upper_fence=quartile_3+Outer_fence"
   ]
  },
  {
   "cell_type": "code",
   "execution_count": 97,
   "metadata": {},
   "outputs": [
    {
     "name": "stdout",
     "output_type": "stream",
     "text": [
      "Strong Outliers:\n",
      "There are no strong outliers.\n"
     ]
    },
    {
     "data": {
      "text/html": [
       "<div>\n",
       "<style scoped>\n",
       "    .dataframe tbody tr th:only-of-type {\n",
       "        vertical-align: middle;\n",
       "    }\n",
       "\n",
       "    .dataframe tbody tr th {\n",
       "        vertical-align: top;\n",
       "    }\n",
       "\n",
       "    .dataframe thead th {\n",
       "        text-align: right;\n",
       "    }\n",
       "</style>\n",
       "<table border=\"1\" class=\"dataframe\">\n",
       "  <thead>\n",
       "    <tr style=\"text-align: right;\">\n",
       "      <th></th>\n",
       "      <th>temperature</th>\n",
       "      <th>gender</th>\n",
       "      <th>heart_rate</th>\n",
       "    </tr>\n",
       "  </thead>\n",
       "  <tbody>\n",
       "  </tbody>\n",
       "</table>\n",
       "</div>"
      ],
      "text/plain": [
       "Empty DataFrame\n",
       "Columns: [temperature, gender, heart_rate]\n",
       "Index: []"
      ]
     },
     "execution_count": 97,
     "metadata": {},
     "output_type": "execute_result"
    }
   ],
   "source": [
    "print('Strong Outliers:')\n",
    "print('There are no strong outliers.')\n",
    "comparison=(df['temperature']<outer_lower_fence) | (df['temperature']>outer_upper_fence)\n",
    "df[comparison]\n"
   ]
  },
  {
   "cell_type": "code",
   "execution_count": 94,
   "metadata": {},
   "outputs": [
    {
     "name": "stdout",
     "output_type": "stream",
     "text": [
      "Mild Outliers:\n",
      "Median: 98.3\n",
      "Inner Fence: 96.44999999999999 & 100.05000000000001\n"
     ]
    },
    {
     "data": {
      "text/html": [
       "<div>\n",
       "<style scoped>\n",
       "    .dataframe tbody tr th:only-of-type {\n",
       "        vertical-align: middle;\n",
       "    }\n",
       "\n",
       "    .dataframe tbody tr th {\n",
       "        vertical-align: top;\n",
       "    }\n",
       "\n",
       "    .dataframe thead th {\n",
       "        text-align: right;\n",
       "    }\n",
       "</style>\n",
       "<table border=\"1\" class=\"dataframe\">\n",
       "  <thead>\n",
       "    <tr style=\"text-align: right;\">\n",
       "      <th></th>\n",
       "      <th>temperature</th>\n",
       "      <th>gender</th>\n",
       "      <th>heart_rate</th>\n",
       "    </tr>\n",
       "  </thead>\n",
       "  <tbody>\n",
       "    <tr>\n",
       "      <th>39</th>\n",
       "      <td>96.4</td>\n",
       "      <td>F</td>\n",
       "      <td>69.0</td>\n",
       "    </tr>\n",
       "    <tr>\n",
       "      <th>116</th>\n",
       "      <td>100.8</td>\n",
       "      <td>F</td>\n",
       "      <td>77.0</td>\n",
       "    </tr>\n",
       "    <tr>\n",
       "      <th>125</th>\n",
       "      <td>96.3</td>\n",
       "      <td>M</td>\n",
       "      <td>70.0</td>\n",
       "    </tr>\n",
       "  </tbody>\n",
       "</table>\n",
       "</div>"
      ],
      "text/plain": [
       "     temperature gender  heart_rate\n",
       "39          96.4      F        69.0\n",
       "116        100.8      F        77.0\n",
       "125         96.3      M        70.0"
      ]
     },
     "execution_count": 94,
     "metadata": {},
     "output_type": "execute_result"
    }
   ],
   "source": [
    "print('Mild Outliers:')\n",
    "print('Median:',df.temperature.median())\n",
    "print('Inner Fence:',inner_lower_fence,'&',inner_upper_fence)\n",
    "comparison=(df['temperature']<inner_lower_fence) | (df['temperature']>inner_upper_fence)\n",
    "df[comparison]"
   ]
  },
  {
   "cell_type": "markdown",
   "metadata": {},
   "source": [
    "**Description**: Above we can see mild outliers for **temperature** that will have a *dragging effect* on the distribution."
   ]
  },
  {
   "cell_type": "code",
   "execution_count": 45,
   "metadata": {},
   "outputs": [
    {
     "data": {
      "image/png": "[encoded data removed]",
      "text/plain": [
       "<Figure size 432x288 with 1 Axes>"
      ]
     },
     "metadata": {},
     "output_type": "display_data"
    },
    {
     "data": {
      "text/plain": [
       "<Figure size 432x288 with 0 Axes>"
      ]
     },
     "metadata": {},
     "output_type": "display_data"
    },
    {
     "data": {
      "text/plain": [
       "(None, None)"
      ]
     },
     "execution_count": 45,
     "metadata": {},
     "output_type": "execute_result"
    },
    {
     "data": {
      "text/plain": [
       "<Figure size 432x288 with 0 Axes>"
      ]
     },
     "metadata": {},
     "output_type": "display_data"
    }
   ],
   "source": [
    "CDFPlot(df['temperature'])"
   ]
  },
  {
   "cell_type": "code",
   "execution_count": 92,
   "metadata": {},
   "outputs": [
    {
     "name": "stdout",
     "output_type": "stream",
     "text": [
      "Here we can see how different the 100.8 observation is from the other observations. \n"
     ]
    }
   ],
   "source": [
    "print('Here we can see how different the',df['temperature'].max(),'observation is from the other observations. ')"
   ]
  },
  {
   "cell_type": "code",
   "execution_count": 93,
   "metadata": {},
   "outputs": [
    {
     "data": {
      "image/png": "[encoded data removed]",
      "text/plain": [
       "<Figure size 432x288 with 1 Axes>"
      ]
     },
     "metadata": {},
     "output_type": "display_data"
    }
   ],
   "source": [
    "stats.probplot(df['temperature'], dist=\"norm\", plot=pylab)\n",
    "pylab.show()"
   ]
  },
  {
   "cell_type": "markdown",
   "metadata": {},
   "source": [
    "It would appear as though the observations fall within a roughly normal Gaussian curve. "
   ]
  },
  {
   "cell_type": "code",
   "execution_count": 235,
   "metadata": {},
   "outputs": [
    {
     "name": "stdout",
     "output_type": "stream",
     "text": [
      "test statistic:  2.703801433319203\n",
      "P-value:  0.2587479863488254 \n",
      "Conclusion: A normal distribution.\n"
     ]
    }
   ],
   "source": [
    "from scipy import stats\n",
    "#https://docs.scipy.org/doc/scipy/reference/generated/scipy.stats.normaltest.html\n",
    "norm=stats.normaltest(df.temperature)\n",
    "print('test statistic: ',norm[0])\n",
    "if(norm[1] < 0.055):\n",
    "    print(\"P-value: \",norm[1],\"\\nConclusion: Not a normal distribution.\")\n",
    "else:\n",
    "    print(\"P-value: \",norm[1],\"\\nConclusion: A normal distribution.\")"
   ]
  },
  {
   "cell_type": "markdown",
   "metadata": {},
   "source": [
    "**Is the sample size large? Are the observations independent?**\n",
    "\n",
    "        Remember that this is a condition for the Central Limit Theorem, and hence the statistical tests we are using, to apply. "
   ]
  },
  {
   "cell_type": "markdown",
   "metadata": {},
   "source": [
    "I don't need to run a statistical test to tell you that the sample size *(n=130)* is small for describing the world's population; even for the German population in 1868 which probably ranged between 30 and 40 million.\n",
    "https://en.wikipedia.org/wiki/Demographics_of_Germany\n",
    "\n",
    "For representing the population of Germany *(30 million)* at the time I would probably want to have a sample of *at least* 500 observations to do a population study.\n",
    "(https://www.research-advisors.com/tools/SampleSize.htm) However, for a simple one-sided statistical test we would need at least a sample of 30 observations for the central limit theorem to apply; which we do.\n",
    "\n",
    "I think it is important to point out that this data is small compared to Wunderlich's original data set of 25,000 individuals and several million observations.\n",
    "https://pdfs.semanticscholar.org/dfa9/deb7ab1ca1a83a54aca52e8bff8e92e81a8e.pdf\n",
    "\n",
    "** Perhaps it would be better to rephrase the inherent question. Rather than making claims from the data about the body temperature of normal individuals at the population level (Germany or *all humans*); we can see if our data is are consistent with Wunderlich's estimates. **\n",
    "\n",
    "    N= 25,000\n",
    "    Mean=98.6\n",
    "    \n",
    "\n",
    "*According to Wunderlich, women have slightly higher normal temperatures than men and often show greater and more sudden changes in temperature*"
   ]
  },
  {
   "cell_type": "markdown",
   "metadata": {},
   "source": [
    "**Independance**\n",
    "- The individual observations are independant from each other, by that, on person's personal temperature measurement can't possibly have an effect on anothers unless perhaps they were doing a convenience sample and they all got sick from one of the people in the study. \n",
    "\n",
    "- Since our sample is far less than 10% of the total population we can assume that the observations are statistically independant.\n",
    "\n",
    "- I think it is important also to know that Wunderlich didn't describe his sampling methods in his data so there is no true reason to assume the observations are truly independant in nature and there could be repeat observations of individuals from different parts of the body. *(He measured the temperature from the body extremities with a mercury themometer as opposed to orally.)*\n",
    "\n",
    "**Randomness**\n",
    "- As pointed out previously, we don't know Wunderlich's sampling methodology, most likely a convenience sample, where he observed patients within his clinic and recorded the observations. I think you could make a justifiable case that if they were a sample of convenience that the observations although random, may be biased because individuals go to the doctor's office because they are sick and not because they are healthy.\n",
    "\n",
    "**Normal**\n",
    "- The original population is most likely a normal distribution.\n",
    "- The sample size is greater than 30.\n",
    "- As previously explored the sampling distribution visually appears to be roughly normal. There are outliers but not strong outliers.\n",
    "\n"
   ]
  },
  {
   "cell_type": "markdown",
   "metadata": {},
   "source": [
    "\n",
    "**Is the true population mean really 98.6 degrees F?**\n",
    "\n",
    "- First, try a bootstrap hypothesis test.\n",
    "- Now, let's try frequentist statistical testing. Would you use a one-sample or two-sample test? Why? \n",
    "- In this situation, is it appropriate to use the t or z statistic? \n",
    "- Now try using the other test. How is the result be different? Why? "
   ]
  },
  {
   "cell_type": "markdown",
   "metadata": {},
   "source": [
    "*Note: We don't know what the true population mean is since we only can calculate figures from a sample of the true population.*"
   ]
  },
  {
   "cell_type": "markdown",
   "metadata": {},
   "source": [
    "**For this test using a one-sided t-test is most appropriate since we are comparing against a single population estimate of 98.6 without any other information given about the distribution or data.**"
   ]
  },
  {
   "cell_type": "code",
   "execution_count": 315,
   "metadata": {},
   "outputs": [
    {
     "name": "stdout",
     "output_type": "stream",
     "text": [
      "If we fail to reject the null hypothesis then the data would seem consistent with the claim that the sample population body temperature is equivalent to 98.6. \n"
     ]
    },
    {
     "data": {
      "text/latex": [
       "$$H_{0} : \\mu_{w} - \\bar x_{s} = 0 \\\\ H_{1} : \\mu_{w} > \\bar x_{s} $$"
      ],
      "text/plain": [
       "<IPython.core.display.Math object>"
      ]
     },
     "execution_count": 315,
     "metadata": {},
     "output_type": "execute_result"
    }
   ],
   "source": [
    "print('If we fail to reject the null hypothesis then the data would seem consistent with the claim that the sample population body temperature is equivalent to 98.6. ')\n",
    "Math(r'H_{0} : \\mu_{w} - \\bar x_{s} = 0 \\\\ H_{1} : \\mu_{w} > \\bar x_{s} ')\n"
   ]
  },
  {
   "cell_type": "markdown",
   "metadata": {},
   "source": [
    "Bootstrap hypothesis test"
   ]
  },
  {
   "cell_type": "code",
   "execution_count": 183,
   "metadata": {},
   "outputs": [],
   "source": [
    "# Generate 25,000 bootstrap replicates of the variance: bs_replicates\n",
    "def bootstrap_replicate_1d(data, func):\n",
    "    return func(np.random.choice(data, size=len(data)))\n",
    "\n",
    "def draw_bs_reps(data, func, size=1):\n",
    "    return np.array([bootstrap_replicate_1d(data, func) for _ in range(size)])"
   ]
  },
  {
   "cell_type": "code",
   "execution_count": 247,
   "metadata": {},
   "outputs": [
    {
     "data": {
      "image/png": "[encoded data removed]",
      "text/plain": [
       "<Figure size 432x288 with 1 Axes>"
      ]
     },
     "metadata": {},
     "output_type": "display_data"
    },
    {
     "name": "stdout",
     "output_type": "stream",
     "text": [
      "p =  0.0\n",
      "Our sample mean: 98.24923076923078 (blue)\n",
      "Wunderlich's mean: 98.6 (red)\n",
      "Conclusion: We reject the null hypothesis and find that the data is not consistent with the claim that our sample mean is equivalent to Wunderlich's average body temperature of 98.6(F).\n"
     ]
    }
   ],
   "source": [
    "# Make an array of translated temperatures\n",
    "translated_force_b = df.temperature - np.mean(df.temperature) + 98.6\n",
    "# Take bootstrap replicates of our sample temperatures translated\n",
    "bs_replicates = draw_bs_reps(translated_force_b, np.mean, 25000)\n",
    "# Compute fraction of replicates that are less than the observed \n",
    "p = np.sum(bs_replicates <= np.mean(df.temperature)) / 25000\n",
    "\n",
    "# Make a histogram of the results\n",
    "#_ = plt.hist(bs_replicates, normed=True, bins=50)\n",
    "_ = sns.distplot(bs_replicates, hist=False, rug=False)\n",
    "_ = sns.distplot(df.temperature, hist=False, rug=False)\n",
    "_ = plt.xlabel('variance of body temperatures (F)')\n",
    "_ = plt.ylabel('PDF')\n",
    "_ = plt.axvline(98.6, 0,6,color='red')\n",
    "_ = plt.axvline(df.temperature.mean(), 0,6,color='blue')\n",
    "# Show the plot\n",
    "plt.show()\n",
    "\n",
    "# Print the p-value\n",
    "print('p = ', p)\n",
    "if p<.05:\n",
    "    print('Our sample mean:',df.temperature.mean(), '(blue)')\n",
    "    print(\"Wunderlich's mean:\",98.6,'(red)')\n",
    "    print(\"Conclusion: We reject the null hypothesis and find that the data is not consistent with the claim that our sample mean is equivalent to Wunderlich's average body temperature of 98.6(F).\")\n",
    "else:\n",
    "    print(\"Conclusion: We fail reject the null hypothesis and find that the data is consistent with the claim that our sample mean is equivalent to Wunderlich's average body temperature of 98.6(F).\")"
   ]
  },
  {
   "cell_type": "markdown",
   "metadata": {},
   "source": [
    "Frequentist statistical testing"
   ]
  },
  {
   "cell_type": "code",
   "execution_count": 287,
   "metadata": {},
   "outputs": [
    {
     "data": {
      "text/latex": [
       "$$t: = \\dfrac{(x_i - \\mu_i)}{ \\dfrac{s_i}{ \\sqrt{n}}} $$"
      ],
      "text/plain": [
       "<IPython.core.display.Math object>"
      ]
     },
     "execution_count": 287,
     "metadata": {},
     "output_type": "execute_result"
    }
   ],
   "source": [
    "Math(r't: = \\dfrac{(x_i - \\mu_i)}{ \\dfrac{s_i}{ \\sqrt{n}}}')"
   ]
  },
  {
   "cell_type": "code",
   "execution_count": 301,
   "metadata": {},
   "outputs": [
    {
     "name": "stdout",
     "output_type": "stream",
     "text": [
      "t-statistic: -5.4548232923645195  \n",
      " p-value: 2.4106320415561276e-07\n",
      "Our sample mean: 98.24923076923078\n",
      "Conclusion: We reject the null hypothesis and find that the data is not consistent with the claim that our sample mean is equivalent to Wunderlich's average body temperature of 98.6(F).\n"
     ]
    }
   ],
   "source": [
    "#from table 95% confidence interval with 129 degrees of freedom=1.980\n",
    "ttest = (df.temperature.mean() - 98.6) / (df.temperature.std() / np.sqrt(df.temperature.count()))\n",
    "\n",
    "ttest = stats.ttest_1samp(df.temperature, popmean=98.6)\n",
    "print('t-statistic:', ttest[0],' \\n p-value:', ttest[1])\n",
    "if ttest[1]<.05:\n",
    "    print('Our sample mean:',df.temperature.mean())\n",
    "    print(\"Conclusion: We reject the null hypothesis and find that the data is not consistent with the claim that our sample mean is equivalent to Wunderlich's average body temperature of 98.6(F).\")\n",
    "else:\n",
    "    print(\"Conclusion: We fail reject the null hypothesis and find that the data is consistent with the claim that our sample mean is equivalent to Wunderlich's average body temperature of 98.6(F).\")"
   ]
  },
  {
   "cell_type": "code",
   "execution_count": 289,
   "metadata": {},
   "outputs": [
    {
     "data": {
      "text/latex": [
       "$$z: = \\dfrac{x_i - \\mu_i}{s_i}$$"
      ],
      "text/plain": [
       "<IPython.core.display.Math object>"
      ]
     },
     "execution_count": 289,
     "metadata": {},
     "output_type": "execute_result"
    }
   ],
   "source": [
    "Math(r'z: = \\dfrac{x_i - \\mu_i}{s_i}')"
   ]
  },
  {
   "cell_type": "code",
   "execution_count": 305,
   "metadata": {},
   "outputs": [
    {
     "name": "stdout",
     "output_type": "stream",
     "text": [
      "z-statistic: -5.4548232923645195  \n",
      " p-value: 4.9021570141012155e-08\n",
      "Our sample mean: 98.24923076923078\n",
      "Conclusion: We reject the null hypothesis and find that the data is not consistent with the claim that our sample mean is equivalent to Wunderlich's average body temperature of 98.6(F).\n"
     ]
    }
   ],
   "source": [
    "z = (df.temperature.mean() - 98.6) / (df.temperature.std())\n",
    "z=ztest(df.temperature,value=98.6)\n",
    "print('z-statistic:', z[0],' \\n p-value:', z[1])\n",
    "if z[1]<.05:\n",
    "    print('Our sample mean:',df.temperature.mean())\n",
    "    print(\"Conclusion: We reject the null hypothesis and find that the data is not consistent with the claim that our sample mean is equivalent to Wunderlich's average body temperature of 98.6(F).\")\n",
    "else:\n",
    "    print(\"Conclusion: We fail reject the null hypothesis and find that the data is consistent with the claim that our sample mean is equivalent to Wunderlich's average body temperature of 98.6(F).\")"
   ]
  },
  {
   "cell_type": "code",
   "execution_count": 308,
   "metadata": {},
   "outputs": [
    {
     "name": "stdout",
     "output_type": "stream",
     "text": [
      "If we fail to reject the null hypothesis then the data would seem consistent with the claim that the sample population body temperature is equivalent to 98.6. \n"
     ]
    },
    {
     "data": {
      "text/latex": [
       "$$H_{0} : \\mu_{w} - \\bar x_{s} = 0 \\\\ H_{1} : \\mu_{w} - \\bar x_{s} \\neq 0$$"
      ],
      "text/plain": [
       "<IPython.core.display.Math object>"
      ]
     },
     "execution_count": 308,
     "metadata": {},
     "output_type": "execute_result"
    }
   ],
   "source": [
    "print('If we fail to reject the null hypothesis then the data would seem consistent with the claim that the sample population body temperature is equivalent to 98.6. ')\n",
    "Math(r'H_{0} : \\mu_{w} - \\bar x_{s} = 0 \\\\ H_{1} : \\mu_{w} - \\bar x_{s} \\neq 0')\n"
   ]
  },
  {
   "cell_type": "markdown",
   "metadata": {},
   "source": [
    "*Note: this has to be done comparing the replicate distribution and sample distribution.*"
   ]
  },
  {
   "cell_type": "code",
   "execution_count": 319,
   "metadata": {},
   "outputs": [
    {
     "data": {
      "text/latex": [
       "$$T = \\frac{\\bar{Y_{1}} - \\bar{Y_{2}}}{\\sqrt{{s^{2}_{1}}/N_{1} + {s^{2}_{2}}/N_{2}}}$$"
      ],
      "text/plain": [
       "<IPython.core.display.Math object>"
      ]
     },
     "execution_count": 319,
     "metadata": {},
     "output_type": "execute_result"
    }
   ],
   "source": [
    "Math(r'T = \\frac{\\bar{Y_{1}} - \\bar{Y_{2}}}{\\sqrt{{s^{2}_{1}}/N_{1} + {s^{2}_{2}}/N_{2}}}')"
   ]
  },
  {
   "cell_type": "code",
   "execution_count": 328,
   "metadata": {},
   "outputs": [
    {
     "name": "stdout",
     "output_type": "stream",
     "text": [
      "t-statistic: -48.13575244243265  \n",
      " p-value: 0.0\n",
      "Our sample mean: 98.24923076923078\n",
      "Conclusion: We reject the null hypothesis and find that the data is not consistent with the claim that our sample mean is equivalent to Wunderlich's average body temperature of 98.6(F).\n"
     ]
    }
   ],
   "source": [
    "ttest = stats.ttest_ind(df.temperature, bs_replicates)\n",
    "\n",
    "print('t-statistic:', ttest[0],' \\n p-value:', ttest[1])\n",
    "if ttest[1]<.05:\n",
    "    print('Our sample mean:',df.temperature.mean())\n",
    "    print(\"Conclusion: We reject the null hypothesis and find that the data is not consistent with the claim that our sample mean is equivalent to Wunderlich's average body temperature of 98.6(F).\")\n",
    "else:\n",
    "    print(\"Conclusion: We fail reject the null hypothesis and find that the data is consistent with the claim that our sample mean is equivalent to Wunderlich's average body temperature of 98.6(F).\")"
   ]
  },
  {
   "cell_type": "markdown",
   "metadata": {},
   "source": [
    "**Draw a small sample of size 10 from the data and repeat both frequentist tests.**\n",
    "\n",
    "- Which one is the correct one to use?\n",
    "- What do you notice? What does this tell you about the difference in application of the t and z statistic? "
   ]
  },
  {
   "cell_type": "code",
   "execution_count": 330,
   "metadata": {},
   "outputs": [
    {
     "data": {
      "text/plain": [
       "array([98.2, 97.9, 98.2, 98. , 98.1, 97.9, 97.8, 98.2, 98.8, 98.5])"
      ]
     },
     "execution_count": 330,
     "metadata": {},
     "output_type": "execute_result"
    }
   ],
   "source": [
    "srs = np.random.choice(x, size=10)\n",
    "srs"
   ]
  },
  {
   "cell_type": "markdown",
   "metadata": {},
   "source": [
    "The results are roughly equivalent but the t-test provides a more conservative estimate and can hand small sample sizes more effectively."
   ]
  },
  {
   "cell_type": "code",
   "execution_count": 333,
   "metadata": {},
   "outputs": [
    {
     "name": "stdout",
     "output_type": "stream",
     "text": [
      "z-statistic: -5.4548232923645195  p-value: 4.9021570141012155e-08\n",
      "t-statistic: -5.4548232923645195   p-value: 2.4106320415561276e-07\n"
     ]
    }
   ],
   "source": [
    "z=ztest(df.temperature,value=98.6)\n",
    "print('z-statistic:', z[0],' p-value:', z[1])\n",
    "ttest = stats.ttest_1samp(df.temperature, popmean=98.6)\n",
    "print('t-statistic:', ttest[0],'  p-value:', ttest[1])\n"
   ]
  },
  {
   "cell_type": "markdown",
   "metadata": {},
   "source": [
    "**At what temperature should we consider someone's temperature to be \"abnormal\"?**\n",
    "- As in the previous example, try calculating everything using the boostrap approach, as well as the frequentist approach.\n",
    "- Start by computing the margin of error and confidence interval. When calculating the confidence interval, keep in mind that you should use the appropriate formula for one draw, and not N draws. "
   ]
  },
  {
   "cell_type": "code",
   "execution_count": 346,
   "metadata": {},
   "outputs": [
    {
     "name": "stdout",
     "output_type": "stream",
     "text": [
      "Observations between 97.51604761119184 and 98.98241392726972 would be considered normal.\n"
     ]
    }
   ],
   "source": [
    "lower_bound=df.temperature.mean()-df.temperature.std()\n",
    "upper_bound=df.temperature.mean()+df.temperature.std()\n",
    "print('Observations between',lower_bound,'and',upper_bound,'would be considered normal.')"
   ]
  },
  {
   "cell_type": "markdown",
   "metadata": {},
   "source": [
    "**Is there a significant difference between males and females in normal temperature?**\n",
    "\n",
    "- What testing approach did you use and why?\n",
    "- Write a story with your conclusion in the context of the original problem. "
   ]
  },
  {
   "cell_type": "code",
   "execution_count": 366,
   "metadata": {},
   "outputs": [
    {
     "name": "stdout",
     "output_type": "stream",
     "text": [
      "If we fail to reject the null hypothesis then the data would seem consistent with the claim that our two sample body temperatures are equivalent.\n"
     ]
    },
    {
     "data": {
      "text/latex": [
       "$$H_{0} : \\bar x_{males} - \\bar x_{femals} = 0 \\\\ H_{1} : \\bar x_{males} - \\bar x_{females} \\neq 0$$"
      ],
      "text/plain": [
       "<IPython.core.display.Math object>"
      ]
     },
     "execution_count": 366,
     "metadata": {},
     "output_type": "execute_result"
    }
   ],
   "source": [
    "print('If we fail to reject the null hypothesis then the data would seem consistent with the claim that our two sample body temperatures are equivalent.')\n",
    "Math(r'H_{0} : \\bar x_{males} - \\bar x_{femals} = 0 \\\\ H_{1} : \\bar x_{males} - \\bar x_{females} \\neq 0')\n"
   ]
  },
  {
   "cell_type": "code",
   "execution_count": 364,
   "metadata": {},
   "outputs": [
    {
     "name": "stdout",
     "output_type": "stream",
     "text": [
      "t-statistic: -2.2854345381656103 \n",
      "p-value: 0.02393188312239561\n",
      "Male Mean: 98.1046153846154\n",
      "Female Mean: 98.39384615384613\n",
      "Conclusion: We reject the null hypothesis and find that the data is not consistent with the claim that our sample means are equivalent.\n"
     ]
    }
   ],
   "source": [
    "males=df.gender == 'M'\n",
    "males = df.temperature[males]\n",
    "females=df.gender == 'F'\n",
    "females = df.temperature[females]\n",
    "\n",
    "ttest = stats.ttest_ind(males, females)\n",
    "print('t-statistic:',ttest[0],'\\np-value:',ttest[1])\n",
    "if ttest[1]<.05:\n",
    "    print('Male Mean: '+str(np.mean(males))+'\\nFemale Mean: '+str(np.mean(females)))\n",
    "    print(\"Conclusion: We reject the null hypothesis and find that the data is not consistent with the claim that our sample means are equivalent.\")\n",
    "else:\n",
    "    print(\"Conclusion: We fail to reject reject the null hypothesis and find that the data is not consistent with the claim that our sample means are equivalent.\")"
   ]
  },
  {
   "cell_type": "markdown",
   "metadata": {},
   "source": [
    "**Conclusion: The data show seem to show sufficient evidence to support the claim that the average body temperature is not 98.6, despite the convention. We also find further evidence to support the claim that male and femaile body temperatures are different from each other.**"
   ]
  },
  {
   "cell_type": "code",
   "execution_count": null,
   "metadata": {},
   "outputs": [],
   "source": []
  }
 ],
 "metadata": {
  "kernelspec": {
   "display_name": "Python 3",
   "language": "python",
   "name": "python3"
  },
  "language_info": {
   "codemirror_mode": {
    "name": "ipython",
    "version": 3
   },
   "file_extension": ".py",
   "mimetype": "text/x-python",
   "name": "python",
   "nbconvert_exporter": "python",
   "pygments_lexer": "ipython3",
   "version": "3.6.5"
  }
 },
 "nbformat": 4,
 "nbformat_minor": 1
}
