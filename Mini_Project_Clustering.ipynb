{
 "cells": [
  {
   "cell_type": "code",
   "execution_count": 1,
   "metadata": {},
   "outputs": [],
   "source": [
    "from IPython.display import HTML\n",
    "from IPython.display import Image\n",
    "import warnings\n",
    "warnings.filterwarnings(\"ignore\")"
   ]
  },
  {
   "cell_type": "markdown",
   "metadata": {},
   "source": [
    "# Customer Segmentation using Clustering\n",
    "***\n",
    "This mini-project is based on [this blog post](http://blog.yhat.com/posts/customer-segmentation-using-python.html) by yhat. Please feel free to refer to the post for additional information, and solutions."
   ]
  },
  {
   "cell_type": "code",
   "execution_count": 2,
   "metadata": {},
   "outputs": [
    {
     "data": {
      "text/html": [
       "<script>\n",
       "  function code_toggle() {\n",
       "    if (code_shown){\n",
       "      $('div.input').hide('500');\n",
       "      $('#toggleButton').val('Show Code')\n",
       "    } else {\n",
       "      $('div.input').show('500');\n",
       "      $('#toggleButton').val('Hide Code')\n",
       "    }\n",
       "    code_shown = !code_shown\n",
       "  }\n",
       "\n",
       "  $( document ).ready(function(){\n",
       "    code_shown=false;\n",
       "    $('div.input').hide()\n",
       "  });\n",
       "</script>\n",
       "<form action=\"javascript:code_toggle()\"><input type=\"submit\" id=\"toggleButton\" value=\"Show Code\"></form>"
      ],
      "text/plain": [
       "<IPython.core.display.HTML object>"
      ]
     },
     "execution_count": 2,
     "metadata": {},
     "output_type": "execute_result"
    }
   ],
   "source": [
    "HTML('''<script>\n",
    "  function code_toggle() {\n",
    "    if (code_shown){\n",
    "      $('div.input').hide('500');\n",
    "      $('#toggleButton').val('Show Code')\n",
    "    } else {\n",
    "      $('div.input').show('500');\n",
    "      $('#toggleButton').val('Hide Code')\n",
    "    }\n",
    "    code_shown = !code_shown\n",
    "  }\n",
    "\n",
    "  $( document ).ready(function(){\n",
    "    code_shown=false;\n",
    "    $('div.input').hide()\n",
    "  });\n",
    "</script>\n",
    "<form action=\"javascript:code_toggle()\"><input type=\"submit\" id=\"toggleButton\" value=\"Show Code\"></form>''')"
   ]
  },
  {
   "cell_type": "code",
   "execution_count": 2,
   "metadata": {},
   "outputs": [],
   "source": [
    "%matplotlib inline\n",
    "import pandas as pd\n",
    "import sklearn\n",
    "import matplotlib.pyplot as plt\n",
    "import seaborn as sns\n",
    "import scipy\n",
    "from sklearn.cluster import KMeans\n",
    "from sklearn.cluster import AffinityPropagation\n",
    "from sklearn.cluster import SpectralClustering\n",
    "from sklearn.cluster import AgglomerativeClustering\n",
    "from sklearn.cluster import DBSCAN\n",
    "from sklearn.metrics import silhouette_score \n",
    "import numpy as np\n",
    "from sklearn.decomposition import PCA\n",
    "\n",
    "# Setup Seaborn\n",
    "sns.set_style(\"whitegrid\")\n",
    "sns.set_context(\"poster\")"
   ]
  },
  {
   "cell_type": "markdown",
   "metadata": {},
   "source": [
    "## Data\n",
    "\n",
    "The dataset contains information on marketing newsletters/e-mail campaigns (e-mail offers sent to customers) and transaction level data from customers. The transactional data shows which offer customers responded to, and what the customer ended up buying. The data is presented as an Excel workbook containing two worksheets. Each worksheet contains a different dataset."
   ]
  },
  {
   "cell_type": "code",
   "execution_count": 3,
   "metadata": {},
   "outputs": [
    {
     "data": {
      "text/html": [
       "<div>\n",
       "<style scoped>\n",
       "    .dataframe tbody tr th:only-of-type {\n",
       "        vertical-align: middle;\n",
       "    }\n",
       "\n",
       "    .dataframe tbody tr th {\n",
       "        vertical-align: top;\n",
       "    }\n",
       "\n",
       "    .dataframe thead th {\n",
       "        text-align: right;\n",
       "    }\n",
       "</style>\n",
       "<table border=\"1\" class=\"dataframe\">\n",
       "  <thead>\n",
       "    <tr style=\"text-align: right;\">\n",
       "      <th></th>\n",
       "      <th>offer_id</th>\n",
       "      <th>campaign</th>\n",
       "      <th>varietal</th>\n",
       "      <th>min_qty</th>\n",
       "      <th>discount</th>\n",
       "      <th>origin</th>\n",
       "      <th>past_peak</th>\n",
       "    </tr>\n",
       "  </thead>\n",
       "  <tbody>\n",
       "    <tr>\n",
       "      <th>0</th>\n",
       "      <td>1</td>\n",
       "      <td>January</td>\n",
       "      <td>Malbec</td>\n",
       "      <td>72</td>\n",
       "      <td>56</td>\n",
       "      <td>France</td>\n",
       "      <td>False</td>\n",
       "    </tr>\n",
       "    <tr>\n",
       "      <th>1</th>\n",
       "      <td>2</td>\n",
       "      <td>January</td>\n",
       "      <td>Pinot Noir</td>\n",
       "      <td>72</td>\n",
       "      <td>17</td>\n",
       "      <td>France</td>\n",
       "      <td>False</td>\n",
       "    </tr>\n",
       "    <tr>\n",
       "      <th>2</th>\n",
       "      <td>3</td>\n",
       "      <td>February</td>\n",
       "      <td>Espumante</td>\n",
       "      <td>144</td>\n",
       "      <td>32</td>\n",
       "      <td>Oregon</td>\n",
       "      <td>True</td>\n",
       "    </tr>\n",
       "    <tr>\n",
       "      <th>3</th>\n",
       "      <td>4</td>\n",
       "      <td>February</td>\n",
       "      <td>Champagne</td>\n",
       "      <td>72</td>\n",
       "      <td>48</td>\n",
       "      <td>France</td>\n",
       "      <td>True</td>\n",
       "    </tr>\n",
       "    <tr>\n",
       "      <th>4</th>\n",
       "      <td>5</td>\n",
       "      <td>February</td>\n",
       "      <td>Cabernet Sauvignon</td>\n",
       "      <td>144</td>\n",
       "      <td>44</td>\n",
       "      <td>New Zealand</td>\n",
       "      <td>True</td>\n",
       "    </tr>\n",
       "  </tbody>\n",
       "</table>\n",
       "</div>"
      ],
      "text/plain": [
       "   offer_id  campaign            varietal  min_qty  discount       origin  \\\n",
       "0         1   January              Malbec       72        56       France   \n",
       "1         2   January          Pinot Noir       72        17       France   \n",
       "2         3  February           Espumante      144        32       Oregon   \n",
       "3         4  February           Champagne       72        48       France   \n",
       "4         5  February  Cabernet Sauvignon      144        44  New Zealand   \n",
       "\n",
       "   past_peak  \n",
       "0      False  \n",
       "1      False  \n",
       "2       True  \n",
       "3       True  \n",
       "4       True  "
      ]
     },
     "execution_count": 3,
     "metadata": {},
     "output_type": "execute_result"
    }
   ],
   "source": [
    "df_offers = pd.read_excel(\"./WineKMC.xlsx\", sheet_name=0)\n",
    "df_offers.columns = [\"offer_id\", \"campaign\", \"varietal\", \"min_qty\", \"discount\", \"origin\", \"past_peak\"]\n",
    "df_offers.head()"
   ]
  },
  {
   "cell_type": "markdown",
   "metadata": {},
   "source": [
    "We see that the first dataset contains information about each offer such as the month it is in effect and several attributes about the wine that the offer refers to: the variety, minimum quantity, discount, country of origin and whether or not it is past peak. The second dataset in the second worksheet contains transactional data -- which offer each customer responded to."
   ]
  },
  {
   "cell_type": "code",
   "execution_count": 4,
   "metadata": {},
   "outputs": [
    {
     "data": {
      "text/html": [
       "<div>\n",
       "<style scoped>\n",
       "    .dataframe tbody tr th:only-of-type {\n",
       "        vertical-align: middle;\n",
       "    }\n",
       "\n",
       "    .dataframe tbody tr th {\n",
       "        vertical-align: top;\n",
       "    }\n",
       "\n",
       "    .dataframe thead th {\n",
       "        text-align: right;\n",
       "    }\n",
       "</style>\n",
       "<table border=\"1\" class=\"dataframe\">\n",
       "  <thead>\n",
       "    <tr style=\"text-align: right;\">\n",
       "      <th></th>\n",
       "      <th>customer_name</th>\n",
       "      <th>offer_id</th>\n",
       "      <th>n</th>\n",
       "    </tr>\n",
       "  </thead>\n",
       "  <tbody>\n",
       "    <tr>\n",
       "      <th>0</th>\n",
       "      <td>Smith</td>\n",
       "      <td>2</td>\n",
       "      <td>1</td>\n",
       "    </tr>\n",
       "    <tr>\n",
       "      <th>1</th>\n",
       "      <td>Smith</td>\n",
       "      <td>24</td>\n",
       "      <td>1</td>\n",
       "    </tr>\n",
       "    <tr>\n",
       "      <th>2</th>\n",
       "      <td>Johnson</td>\n",
       "      <td>17</td>\n",
       "      <td>1</td>\n",
       "    </tr>\n",
       "    <tr>\n",
       "      <th>3</th>\n",
       "      <td>Johnson</td>\n",
       "      <td>24</td>\n",
       "      <td>1</td>\n",
       "    </tr>\n",
       "    <tr>\n",
       "      <th>4</th>\n",
       "      <td>Johnson</td>\n",
       "      <td>26</td>\n",
       "      <td>1</td>\n",
       "    </tr>\n",
       "  </tbody>\n",
       "</table>\n",
       "</div>"
      ],
      "text/plain": [
       "  customer_name  offer_id  n\n",
       "0         Smith         2  1\n",
       "1         Smith        24  1\n",
       "2       Johnson        17  1\n",
       "3       Johnson        24  1\n",
       "4       Johnson        26  1"
      ]
     },
     "execution_count": 4,
     "metadata": {},
     "output_type": "execute_result"
    }
   ],
   "source": [
    "df_transactions = pd.read_excel(\"./WineKMC.xlsx\", sheet_name=1)\n",
    "df_transactions.columns = [\"customer_name\", \"offer_id\"]\n",
    "df_transactions['n'] = 1\n",
    "df_transactions.head()"
   ]
  },
  {
   "cell_type": "markdown",
   "metadata": {},
   "source": [
    "## Data wrangling"
   ]
  },
  {
   "cell_type": "markdown",
   "metadata": {},
   "source": [
    "We're trying to learn more about how our customers behave, so we can use their behavior (whether or not they purchased something based on an offer) as a way to group similar minded customers together. We can then study those groups to look for patterns and trends which can help us formulate future offers.\n",
    "\n",
    "The first thing we need is a way to compare customers. To do this, we're going to create a matrix that contains each customer and a 0/1 indicator for whether or not they responded to a given offer. "
   ]
  },
  {
   "cell_type": "markdown",
   "metadata": {},
   "source": [
    "<div class=\"span5 alert alert-info\">\n",
    "<h3>Checkup Exercise Set I</h3>\n",
    "\n",
    "<p><b>Exercise:</b> Create a data frame where each row has the following columns (Use the pandas [`merge`](http://pandas.pydata.org/pandas-docs/stable/generated/pandas.DataFrame.merge.html) and [`pivot_table`](http://pandas.pydata.org/pandas-docs/stable/generated/pandas.pivot_table.html) functions for this purpose):\n",
    "<ul>\n",
    "<li> customer_name\n",
    "<li> One column for each offer, with a 1 if the customer responded to the offer\n",
    "</ul>\n",
    "<p>Make sure you also deal with any weird values such as `NaN`. Read the documentation to develop your solution.</p>\n",
    "</div>"
   ]
  },
  {
   "cell_type": "code",
   "execution_count": 5,
   "metadata": {
    "scrolled": true
   },
   "outputs": [
    {
     "data": {
      "text/html": [
       "<div>\n",
       "<style scoped>\n",
       "    .dataframe tbody tr th:only-of-type {\n",
       "        vertical-align: middle;\n",
       "    }\n",
       "\n",
       "    .dataframe tbody tr th {\n",
       "        vertical-align: top;\n",
       "    }\n",
       "\n",
       "    .dataframe thead th {\n",
       "        text-align: right;\n",
       "    }\n",
       "</style>\n",
       "<table border=\"1\" class=\"dataframe\">\n",
       "  <thead>\n",
       "    <tr style=\"text-align: right;\">\n",
       "      <th></th>\n",
       "      <th>offer_id_1</th>\n",
       "      <th>offer_id_2</th>\n",
       "      <th>offer_id_3</th>\n",
       "      <th>offer_id_4</th>\n",
       "      <th>offer_id_5</th>\n",
       "      <th>offer_id_6</th>\n",
       "      <th>offer_id_7</th>\n",
       "      <th>offer_id_8</th>\n",
       "      <th>offer_id_9</th>\n",
       "      <th>offer_id_10</th>\n",
       "      <th>...</th>\n",
       "      <th>offer_id_23</th>\n",
       "      <th>offer_id_24</th>\n",
       "      <th>offer_id_25</th>\n",
       "      <th>offer_id_26</th>\n",
       "      <th>offer_id_27</th>\n",
       "      <th>offer_id_28</th>\n",
       "      <th>offer_id_29</th>\n",
       "      <th>offer_id_30</th>\n",
       "      <th>offer_id_31</th>\n",
       "      <th>offer_id_32</th>\n",
       "    </tr>\n",
       "    <tr>\n",
       "      <th>customer_name</th>\n",
       "      <th></th>\n",
       "      <th></th>\n",
       "      <th></th>\n",
       "      <th></th>\n",
       "      <th></th>\n",
       "      <th></th>\n",
       "      <th></th>\n",
       "      <th></th>\n",
       "      <th></th>\n",
       "      <th></th>\n",
       "      <th></th>\n",
       "      <th></th>\n",
       "      <th></th>\n",
       "      <th></th>\n",
       "      <th></th>\n",
       "      <th></th>\n",
       "      <th></th>\n",
       "      <th></th>\n",
       "      <th></th>\n",
       "      <th></th>\n",
       "      <th></th>\n",
       "    </tr>\n",
       "  </thead>\n",
       "  <tbody>\n",
       "    <tr>\n",
       "      <th>Adams</th>\n",
       "      <td>0.0</td>\n",
       "      <td>0.0</td>\n",
       "      <td>0.0</td>\n",
       "      <td>0.0</td>\n",
       "      <td>0.0</td>\n",
       "      <td>0.0</td>\n",
       "      <td>0.0</td>\n",
       "      <td>0.0</td>\n",
       "      <td>0.0</td>\n",
       "      <td>0.0</td>\n",
       "      <td>...</td>\n",
       "      <td>0.0</td>\n",
       "      <td>0.0</td>\n",
       "      <td>0.0</td>\n",
       "      <td>0.0</td>\n",
       "      <td>0.0</td>\n",
       "      <td>0.0</td>\n",
       "      <td>1.0</td>\n",
       "      <td>1.0</td>\n",
       "      <td>0.0</td>\n",
       "      <td>0.0</td>\n",
       "    </tr>\n",
       "    <tr>\n",
       "      <th>Allen</th>\n",
       "      <td>0.0</td>\n",
       "      <td>0.0</td>\n",
       "      <td>0.0</td>\n",
       "      <td>0.0</td>\n",
       "      <td>0.0</td>\n",
       "      <td>0.0</td>\n",
       "      <td>0.0</td>\n",
       "      <td>0.0</td>\n",
       "      <td>1.0</td>\n",
       "      <td>0.0</td>\n",
       "      <td>...</td>\n",
       "      <td>0.0</td>\n",
       "      <td>0.0</td>\n",
       "      <td>0.0</td>\n",
       "      <td>0.0</td>\n",
       "      <td>1.0</td>\n",
       "      <td>0.0</td>\n",
       "      <td>0.0</td>\n",
       "      <td>0.0</td>\n",
       "      <td>0.0</td>\n",
       "      <td>0.0</td>\n",
       "    </tr>\n",
       "    <tr>\n",
       "      <th>Anderson</th>\n",
       "      <td>0.0</td>\n",
       "      <td>0.0</td>\n",
       "      <td>0.0</td>\n",
       "      <td>0.0</td>\n",
       "      <td>0.0</td>\n",
       "      <td>0.0</td>\n",
       "      <td>0.0</td>\n",
       "      <td>0.0</td>\n",
       "      <td>0.0</td>\n",
       "      <td>0.0</td>\n",
       "      <td>...</td>\n",
       "      <td>0.0</td>\n",
       "      <td>1.0</td>\n",
       "      <td>0.0</td>\n",
       "      <td>1.0</td>\n",
       "      <td>0.0</td>\n",
       "      <td>0.0</td>\n",
       "      <td>0.0</td>\n",
       "      <td>0.0</td>\n",
       "      <td>0.0</td>\n",
       "      <td>0.0</td>\n",
       "    </tr>\n",
       "    <tr>\n",
       "      <th>Bailey</th>\n",
       "      <td>0.0</td>\n",
       "      <td>0.0</td>\n",
       "      <td>0.0</td>\n",
       "      <td>0.0</td>\n",
       "      <td>0.0</td>\n",
       "      <td>0.0</td>\n",
       "      <td>1.0</td>\n",
       "      <td>0.0</td>\n",
       "      <td>0.0</td>\n",
       "      <td>0.0</td>\n",
       "      <td>...</td>\n",
       "      <td>0.0</td>\n",
       "      <td>0.0</td>\n",
       "      <td>0.0</td>\n",
       "      <td>0.0</td>\n",
       "      <td>0.0</td>\n",
       "      <td>0.0</td>\n",
       "      <td>0.0</td>\n",
       "      <td>1.0</td>\n",
       "      <td>0.0</td>\n",
       "      <td>0.0</td>\n",
       "    </tr>\n",
       "    <tr>\n",
       "      <th>Baker</th>\n",
       "      <td>0.0</td>\n",
       "      <td>0.0</td>\n",
       "      <td>0.0</td>\n",
       "      <td>0.0</td>\n",
       "      <td>0.0</td>\n",
       "      <td>0.0</td>\n",
       "      <td>1.0</td>\n",
       "      <td>0.0</td>\n",
       "      <td>0.0</td>\n",
       "      <td>1.0</td>\n",
       "      <td>...</td>\n",
       "      <td>0.0</td>\n",
       "      <td>0.0</td>\n",
       "      <td>0.0</td>\n",
       "      <td>0.0</td>\n",
       "      <td>0.0</td>\n",
       "      <td>0.0</td>\n",
       "      <td>0.0</td>\n",
       "      <td>0.0</td>\n",
       "      <td>1.0</td>\n",
       "      <td>0.0</td>\n",
       "    </tr>\n",
       "  </tbody>\n",
       "</table>\n",
       "<p>5 rows × 32 columns</p>\n",
       "</div>"
      ],
      "text/plain": [
       "               offer_id_1  offer_id_2  offer_id_3  offer_id_4  offer_id_5  \\\n",
       "customer_name                                                               \n",
       "Adams                 0.0         0.0         0.0         0.0         0.0   \n",
       "Allen                 0.0         0.0         0.0         0.0         0.0   \n",
       "Anderson              0.0         0.0         0.0         0.0         0.0   \n",
       "Bailey                0.0         0.0         0.0         0.0         0.0   \n",
       "Baker                 0.0         0.0         0.0         0.0         0.0   \n",
       "\n",
       "               offer_id_6  offer_id_7  offer_id_8  offer_id_9  offer_id_10  \\\n",
       "customer_name                                                                \n",
       "Adams                 0.0         0.0         0.0         0.0          0.0   \n",
       "Allen                 0.0         0.0         0.0         1.0          0.0   \n",
       "Anderson              0.0         0.0         0.0         0.0          0.0   \n",
       "Bailey                0.0         1.0         0.0         0.0          0.0   \n",
       "Baker                 0.0         1.0         0.0         0.0          1.0   \n",
       "\n",
       "                  ...       offer_id_23  offer_id_24  offer_id_25  \\\n",
       "customer_name     ...                                               \n",
       "Adams             ...               0.0          0.0          0.0   \n",
       "Allen             ...               0.0          0.0          0.0   \n",
       "Anderson          ...               0.0          1.0          0.0   \n",
       "Bailey            ...               0.0          0.0          0.0   \n",
       "Baker             ...               0.0          0.0          0.0   \n",
       "\n",
       "               offer_id_26  offer_id_27  offer_id_28  offer_id_29  \\\n",
       "customer_name                                                       \n",
       "Adams                  0.0          0.0          0.0          1.0   \n",
       "Allen                  0.0          1.0          0.0          0.0   \n",
       "Anderson               1.0          0.0          0.0          0.0   \n",
       "Bailey                 0.0          0.0          0.0          0.0   \n",
       "Baker                  0.0          0.0          0.0          0.0   \n",
       "\n",
       "               offer_id_30  offer_id_31  offer_id_32  \n",
       "customer_name                                         \n",
       "Adams                  1.0          0.0          0.0  \n",
       "Allen                  0.0          0.0          0.0  \n",
       "Anderson               0.0          0.0          0.0  \n",
       "Bailey                 1.0          0.0          0.0  \n",
       "Baker                  0.0          1.0          0.0  \n",
       "\n",
       "[5 rows x 32 columns]"
      ]
     },
     "execution_count": 5,
     "metadata": {},
     "output_type": "execute_result"
    }
   ],
   "source": [
    "pivot_transactions=df_transactions.pivot_table(index='customer_name', columns=['offer_id'], values=['n'])\n",
    "pivot_transactions=pivot_transactions.fillna(0)\n",
    "pivot_transactions = pivot_transactions.xs('n', axis=1, drop_level=True)\n",
    "col_list=list(pivot_transactions.columns)\n",
    "col_list = list(map(str, col_list))\n",
    "col_list = ['offer_id_'+str(x) for x in col_list]\n",
    "pivot_transactions.columns=col_list\n",
    "pivot_transactions.head()\n"
   ]
  },
  {
   "cell_type": "markdown",
   "metadata": {},
   "source": [
    "## K-Means Clustering\n",
    "\n",
    "Recall that in K-Means Clustering we want to *maximize* the distance between centroids and *minimize* the distance between data points and the respective centroid for the cluster they are in. True evaluation for unsupervised learning would require labeled data; however, we can use a variety of intuitive metrics to try to pick the number of clusters K. We will introduce two methods: the Elbow method, the Silhouette method and the gap statistic."
   ]
  },
  {
   "cell_type": "markdown",
   "metadata": {},
   "source": [
    "### Choosing K: The Elbow Sum-of-Squares Method\n",
    "\n",
    "The first method looks at the sum-of-squares error in each cluster against $K$. We compute the distance from each data point to the center of the cluster (centroid) to which the data point was assigned. \n",
    "\n",
    "$$SS = \\sum_k \\sum_{x_i \\in C_k} \\sum_{x_j \\in C_k} \\left( x_i - x_j \\right)^2 = \\sum_k \\sum_{x_i \\in C_k} \\left( x_i - \\mu_k \\right)^2$$\n",
    "\n",
    "where $x_i$ is a point, $C_k$ represents cluster $k$ and $\\mu_k$ is the centroid for cluster $k$. We can plot SS vs. $K$ and choose the *elbow point* in the plot as the best value for $K$. The elbow point is the point at which the plot starts descending much more slowly. "
   ]
  },
  {
   "cell_type": "markdown",
   "metadata": {},
   "source": [
    "<div class=\"span5 alert alert-info\">\n",
    "<h3>Checkup Exercise Set II</h3>\n",
    "\n",
    "<p><b>Exercise:</b></p> \n",
    "<ul>\n",
    "<li> What values of $SS$ do you believe represent better clusterings? Why?\n",
    "<li> Create a numpy matrix `x_cols` with only the columns representing the offers (i.e. the 0/1 colums) \n",
    "<li> Write code that applies the [`KMeans`](http://scikit-learn.org/stable/modules/generated/sklearn.cluster.KMeans.html) clustering method from scikit-learn to this matrix. \n",
    "<li> Construct a plot showing $SS$ for each $K$ and pick $K$ using this plot. For simplicity, test $2 \\le K \\le 10$.\n",
    "<li> Make a bar chart showing the number of points in each cluster for k-means under the best $K$.\n",
    "<li> What challenges did you experience using the Elbow method to pick $K$?\n",
    "</ul>\n",
    "</div>"
   ]
  },
  {
   "cell_type": "code",
   "execution_count": 6,
   "metadata": {},
   "outputs": [
    {
     "data": {
      "text/html": [
       "<script type=\"text/javascript\">window.PlotlyConfig = {MathJaxConfig: 'local'};</script><script type=\"text/javascript\">if (window.MathJax) {MathJax.Hub.Config({SVG: {font: \"STIX-Web\"}});}</script><script>requirejs.config({paths: { 'plotly': ['https://cdn.plot.ly/plotly-latest.min']},});if(!window._Plotly) {require(['plotly'],function(plotly) {window._Plotly=plotly;});}</script>"
      ],
      "text/vnd.plotly.v1+html": [
       "<script type=\"text/javascript\">window.PlotlyConfig = {MathJaxConfig: 'local'};</script><script type=\"text/javascript\">if (window.MathJax) {MathJax.Hub.Config({SVG: {font: \"STIX-Web\"}});}</script><script>requirejs.config({paths: { 'plotly': ['https://cdn.plot.ly/plotly-latest.min']},});if(!window._Plotly) {require(['plotly'],function(plotly) {window._Plotly=plotly;});}</script>"
      ]
     },
     "metadata": {},
     "output_type": "display_data"
    }
   ],
   "source": [
    "import plotly.offline as py\n",
    "import plotly.graph_objs as go\n",
    "py.init_notebook_mode(connected=True)\n"
   ]
  },
  {
   "cell_type": "code",
   "execution_count": 7,
   "metadata": {},
   "outputs": [
    {
     "data": {
      "application/vnd.plotly.v1+json": {
       "config": {
        "linkText": "Export to plot.ly",
        "plotlyServerURL": "https://plot.ly",
        "showLink": false
       },
       "data": [
        {
         "type": "scatter",
         "uid": "1938020c-3eda-4932-a8da-47498024f08a",
         "x": [
          2,
          3,
          4,
          5,
          6,
          7,
          8,
          9,
          10
         ],
         "y": [
          251.46031746031744,
          227.98503490702979,
          214.99549539170505,
          206.54292929292927,
          194.44642857142856,
          189.2625541125541,
          180.05064374646292,
          171.9429292929293,
          167.14128787878786
         ]
        }
       ],
       "layout": {
        "xaxis": {
         "exponentformat": "e",
         "showexponent": "all",
         "showticklabels": true,
         "tickangle": 45,
         "tickfont": {
          "color": "black",
          "family": "Old Standard TT, serif",
          "size": 14
         },
         "title": {
          "font": {
           "color": "lightgrey",
           "family": "Arial, sans-serif",
           "size": 18
          },
          "text": "K"
         }
        },
        "yaxis": {
         "exponentformat": "e",
         "showexponent": "all",
         "showticklabels": true,
         "tickangle": 45,
         "tickfont": {
          "color": "black",
          "family": "Old Standard TT, serif",
          "size": 14
         },
         "title": {
          "font": {
           "color": "lightgrey",
           "family": "Arial, sans-serif",
           "size": 18
          },
          "text": "Sums of Squares"
         }
        }
       }
      },
      "text/html": [
       "<div id=\"1de751d4-909a-49bd-9338-2df4d720f0fc\" style=\"height: 525px; width: 100%;\" class=\"plotly-graph-div\"></div><script type=\"text/javascript\">require([\"plotly\"], function(Plotly) { window.PLOTLYENV=window.PLOTLYENV || {};window.PLOTLYENV.BASE_URL=\"https://plot.ly\";Plotly.newPlot(\"1de751d4-909a-49bd-9338-2df4d720f0fc\", [{\"x\": [2, 3, 4, 5, 6, 7, 8, 9, 10], \"y\": [251.46031746031744, 227.98503490702979, 214.99549539170505, 206.54292929292927, 194.44642857142856, 189.2625541125541, 180.05064374646292, 171.9429292929293, 167.14128787878786], \"type\": \"scatter\", \"uid\": \"1938020c-3eda-4932-a8da-47498024f08a\"}], {\"xaxis\": {\"exponentformat\": \"e\", \"showexponent\": \"all\", \"showticklabels\": true, \"tickangle\": 45, \"tickfont\": {\"color\": \"black\", \"family\": \"Old Standard TT, serif\", \"size\": 14}, \"title\": {\"font\": {\"color\": \"lightgrey\", \"family\": \"Arial, sans-serif\", \"size\": 18}, \"text\": \"K\"}}, \"yaxis\": {\"exponentformat\": \"e\", \"showexponent\": \"all\", \"showticklabels\": true, \"tickangle\": 45, \"tickfont\": {\"color\": \"black\", \"family\": \"Old Standard TT, serif\", \"size\": 14}, \"title\": {\"font\": {\"color\": \"lightgrey\", \"family\": \"Arial, sans-serif\", \"size\": 18}, \"text\": \"Sums of Squares\"}}}, {\"showLink\": false, \"linkText\": \"Export to plot.ly\", \"plotlyServerURL\": \"https://plot.ly\"})});</script><script type=\"text/javascript\">window.addEventListener(\"resize\", function(){window._Plotly.Plots.resize(document.getElementById(\"1de751d4-909a-49bd-9338-2df4d720f0fc\"));});</script>"
      ],
      "text/vnd.plotly.v1+html": [
       "<div id=\"1de751d4-909a-49bd-9338-2df4d720f0fc\" style=\"height: 525px; width: 100%;\" class=\"plotly-graph-div\"></div><script type=\"text/javascript\">require([\"plotly\"], function(Plotly) { window.PLOTLYENV=window.PLOTLYENV || {};window.PLOTLYENV.BASE_URL=\"https://plot.ly\";Plotly.newPlot(\"1de751d4-909a-49bd-9338-2df4d720f0fc\", [{\"x\": [2, 3, 4, 5, 6, 7, 8, 9, 10], \"y\": [251.46031746031744, 227.98503490702979, 214.99549539170505, 206.54292929292927, 194.44642857142856, 189.2625541125541, 180.05064374646292, 171.9429292929293, 167.14128787878786], \"type\": \"scatter\", \"uid\": \"1938020c-3eda-4932-a8da-47498024f08a\"}], {\"xaxis\": {\"exponentformat\": \"e\", \"showexponent\": \"all\", \"showticklabels\": true, \"tickangle\": 45, \"tickfont\": {\"color\": \"black\", \"family\": \"Old Standard TT, serif\", \"size\": 14}, \"title\": {\"font\": {\"color\": \"lightgrey\", \"family\": \"Arial, sans-serif\", \"size\": 18}, \"text\": \"K\"}}, \"yaxis\": {\"exponentformat\": \"e\", \"showexponent\": \"all\", \"showticklabels\": true, \"tickangle\": 45, \"tickfont\": {\"color\": \"black\", \"family\": \"Old Standard TT, serif\", \"size\": 14}, \"title\": {\"font\": {\"color\": \"lightgrey\", \"family\": \"Arial, sans-serif\", \"size\": 18}, \"text\": \"Sums of Squares\"}}}, {\"showLink\": false, \"linkText\": \"Export to plot.ly\", \"plotlyServerURL\": \"https://plot.ly\"})});</script><script type=\"text/javascript\">window.addEventListener(\"resize\", function(){window._Plotly.Plots.resize(document.getElementById(\"1de751d4-909a-49bd-9338-2df4d720f0fc\"));});</script>"
      ]
     },
     "metadata": {},
     "output_type": "display_data"
    }
   ],
   "source": [
    "import plotly.graph_objs as go\n",
    "# Create random data with numpy\n",
    "X_matrix=np.matrix(pivot_transactions)\n",
    "K=list(range(2,11))\n",
    "y=[]\n",
    "for i in K:\n",
    "    kmeans=KMeans(n_clusters=i, random_state=1, init='k-means++')\n",
    "    kmeans.fit(X_matrix)\n",
    "    labels=kmeans.labels_\n",
    "    y.append(kmeans.inertia_)\n",
    "    \n",
    "# Create a trace\n",
    "trace = go.Scatter(x = K, y = y)\n",
    "\n",
    "data = [trace]\n",
    "layout = go.Layout(\n",
    "    xaxis=dict(\n",
    "        title='K',\n",
    "        titlefont=dict(\n",
    "            family='Arial, sans-serif',\n",
    "            size=18,\n",
    "            color='lightgrey'\n",
    "        ),\n",
    "        showticklabels=True,\n",
    "        tickangle=45,\n",
    "        tickfont=dict(\n",
    "            family='Old Standard TT, serif',\n",
    "            size=14,\n",
    "            color='black'\n",
    "        ),\n",
    "        exponentformat='e',\n",
    "        showexponent='all'\n",
    "    ),\n",
    "    yaxis=dict(\n",
    "        title='Sums of Squares',\n",
    "        titlefont=dict(\n",
    "            family='Arial, sans-serif',\n",
    "            size=18,\n",
    "            color='lightgrey'\n",
    "        ),\n",
    "        showticklabels=True,\n",
    "        tickangle=45,\n",
    "        tickfont=dict(\n",
    "            family='Old Standard TT, serif',\n",
    "            size=14,\n",
    "            color='black'\n",
    "        ),\n",
    "        exponentformat='e',\n",
    "        showexponent='all'\n",
    "    )\n",
    ")\n",
    "fig = go.Figure(data=data, layout=layout)\n",
    "py.iplot(fig)"
   ]
  },
  {
   "cell_type": "code",
   "execution_count": 8,
   "metadata": {},
   "outputs": [
    {
     "data": {
      "application/vnd.plotly.v1+json": {
       "config": {
        "linkText": "Export to plot.ly",
        "plotlyServerURL": "https://plot.ly",
        "showLink": false
       },
       "data": [
        {
         "marker": {
          "color": [
           "rgb(217,217,217)",
           "rgb(217,217,217)",
           "rgb(217,217,217)",
           "rgb(217,217,217)"
          ],
          "line": {
           "color": "rgb(68,68,68)",
           "width": 1.5
          }
         },
         "opacity": 0.6,
         "text": [
          "31",
          "28",
          "25",
          "16"
         ],
         "textposition": "outside",
         "type": "bar",
         "uid": "ff59353a-dd93-4573-bc35-2472bfe8eb51",
         "x": [
          "cluster_number_2",
          "cluster_number_3",
          "cluster_number_0",
          "cluster_number_1"
         ],
         "y": [
          31,
          28,
          25,
          16
         ]
        }
       ],
       "layout": {
        "title": {
         "text": "Number of points in each cluster for k-means under the best K."
        },
        "xaxis": {
         "tickangle": 0,
         "ticks": ""
        },
        "yaxis": {
         "showgrid": false,
         "showticklabels": false,
         "ticks": "",
         "title": {
          "font": {
           "color": "rgb(107, 107, 107)",
           "family": "Arial, sans-serif",
           "size": 18
          },
          "text": "Size</b>"
         }
        }
       }
      },
      "text/html": [
       "<div id=\"8099cdcf-559c-4006-8730-381b266e5d47\" style=\"height: 525px; width: 100%;\" class=\"plotly-graph-div\"></div><script type=\"text/javascript\">require([\"plotly\"], function(Plotly) { window.PLOTLYENV=window.PLOTLYENV || {};window.PLOTLYENV.BASE_URL=\"https://plot.ly\";Plotly.newPlot(\"8099cdcf-559c-4006-8730-381b266e5d47\", [{\"marker\": {\"color\": [\"rgb(217,217,217)\", \"rgb(217,217,217)\", \"rgb(217,217,217)\", \"rgb(217,217,217)\"], \"line\": {\"color\": \"rgb(68,68,68)\", \"width\": 1.5}}, \"opacity\": 0.6, \"text\": [\"31\", \"28\", \"25\", \"16\"], \"textposition\": \"outside\", \"x\": [\"cluster_number_2\", \"cluster_number_3\", \"cluster_number_0\", \"cluster_number_1\"], \"y\": [31, 28, 25, 16], \"type\": \"bar\", \"uid\": \"ff59353a-dd93-4573-bc35-2472bfe8eb51\"}], {\"title\": {\"text\": \"Number of points in each cluster for k-means under the best K.\"}, \"xaxis\": {\"tickangle\": 0, \"ticks\": \"\"}, \"yaxis\": {\"showgrid\": false, \"showticklabels\": false, \"ticks\": \"\", \"title\": {\"font\": {\"color\": \"rgb(107, 107, 107)\", \"family\": \"Arial, sans-serif\", \"size\": 18}, \"text\": \"Size</b>\"}}}, {\"showLink\": false, \"linkText\": \"Export to plot.ly\", \"plotlyServerURL\": \"https://plot.ly\"})});</script><script type=\"text/javascript\">window.addEventListener(\"resize\", function(){window._Plotly.Plots.resize(document.getElementById(\"8099cdcf-559c-4006-8730-381b266e5d47\"));});</script>"
      ],
      "text/vnd.plotly.v1+html": [
       "<div id=\"8099cdcf-559c-4006-8730-381b266e5d47\" style=\"height: 525px; width: 100%;\" class=\"plotly-graph-div\"></div><script type=\"text/javascript\">require([\"plotly\"], function(Plotly) { window.PLOTLYENV=window.PLOTLYENV || {};window.PLOTLYENV.BASE_URL=\"https://plot.ly\";Plotly.newPlot(\"8099cdcf-559c-4006-8730-381b266e5d47\", [{\"marker\": {\"color\": [\"rgb(217,217,217)\", \"rgb(217,217,217)\", \"rgb(217,217,217)\", \"rgb(217,217,217)\"], \"line\": {\"color\": \"rgb(68,68,68)\", \"width\": 1.5}}, \"opacity\": 0.6, \"text\": [\"31\", \"28\", \"25\", \"16\"], \"textposition\": \"outside\", \"x\": [\"cluster_number_2\", \"cluster_number_3\", \"cluster_number_0\", \"cluster_number_1\"], \"y\": [31, 28, 25, 16], \"type\": \"bar\", \"uid\": \"ff59353a-dd93-4573-bc35-2472bfe8eb51\"}], {\"title\": {\"text\": \"Number of points in each cluster for k-means under the best K.\"}, \"xaxis\": {\"tickangle\": 0, \"ticks\": \"\"}, \"yaxis\": {\"showgrid\": false, \"showticklabels\": false, \"ticks\": \"\", \"title\": {\"font\": {\"color\": \"rgb(107, 107, 107)\", \"family\": \"Arial, sans-serif\", \"size\": 18}, \"text\": \"Size</b>\"}}}, {\"showLink\": false, \"linkText\": \"Export to plot.ly\", \"plotlyServerURL\": \"https://plot.ly\"})});</script><script type=\"text/javascript\">window.addEventListener(\"resize\", function(){window._Plotly.Plots.resize(document.getElementById(\"8099cdcf-559c-4006-8730-381b266e5d47\"));});</script>"
      ]
     },
     "metadata": {},
     "output_type": "display_data"
    }
   ],
   "source": [
    "cluster=KMeans(n_clusters=4, random_state=1)\n",
    "pivot_transactions['cluster']=cluster.fit_predict(X_matrix)\n",
    "\n",
    "series_dict = dict(pivot_transactions.cluster.value_counts())\n",
    "xlabels = list(map(str, (list(series_dict.keys()))))\n",
    "xlabels = ['cluster_number_'+str(x) for x in xlabels]\n",
    "\n",
    "data = [go.Bar(x=xlabels,y=list(series_dict.values()),text=(list(series_dict.values())),\n",
    "               textposition='outside',marker=dict(\n",
    "               color=['rgb(217,217,217)','rgb(217,217,217)','rgb(217,217,217)','rgb(217,217,217)'],line=dict(color='rgb(68,68,68)',\n",
    "               width=1.5),),opacity=0.6)]\n",
    "\n",
    "layout = go.Layout(\n",
    "                title='Number of points in each cluster for k-means under the best K.',\n",
    "                yaxis=dict(title='Size</b>',ticks='',showticklabels=False,showgrid=False,\n",
    "                titlefont=dict(family='Arial, sans-serif',size=18,color='rgb(107, 107, 107)',))\n",
    "                ,xaxis=dict(ticks='',tickangle=0))\n",
    "\n",
    "#py.iplot(data, filename='basic-bar')\n",
    "\n",
    "fig = go.Figure(data=data, layout=layout)\n",
    "py.iplot(fig, filename='text-hover-bar')"
   ]
  },
  {
   "cell_type": "markdown",
   "metadata": {},
   "source": [
    "### Choosing K: The Silhouette Method\n",
    "\n",
    "There exists another method that measures how well each datapoint $x_i$ \"fits\" its assigned cluster *and also* how poorly it fits into other clusters. This is a different way of looking at the same objective. Denote $a_{x_i}$ as the *average* distance from $x_i$ to all other points within its own cluster $k$. The lower the value, the better. On the other hand $b_{x_i}$ is the minimum average distance from $x_i$ to points in a different cluster, minimized over clusters. That is, compute separately for each cluster the average distance from $x_i$ to the points within that cluster, and then take the minimum. The silhouette $s(x_i)$ is defined as\n",
    "\n",
    "$$s(x_i) = \\frac{b_{x_i} - a_{x_i}}{\\max{\\left( a_{x_i}, b_{x_i}\\right)}}$$\n",
    "\n",
    "The silhouette score is computed on *every datapoint in every cluster*. The silhouette score ranges from -1 (a poor clustering) to +1 (a very dense clustering) with 0 denoting the situation where clusters overlap. Some criteria for the silhouette coefficient is provided in the table below."
   ]
  },
  {
   "cell_type": "markdown",
   "metadata": {},
   "source": [
    "<pre>\n",
    "\n",
    "| Range       | Interpretation                                |\n",
    "|-------------|-----------------------------------------------|\n",
    "| 0.71 - 1.0  | A strong structure has been found.            |\n",
    "| 0.51 - 0.7  | A reasonable structure has been found.        |\n",
    "| 0.26 - 0.5  | The structure is weak and could be artificial.|\n",
    "| < 0.25      | No substantial structure has been found.      |\n",
    "\n",
    "</pre>\n",
    "Source: http://www.stat.berkeley.edu/~spector/s133/Clus.html"
   ]
  },
  {
   "cell_type": "markdown",
   "metadata": {},
   "source": [
    "Fortunately, scikit-learn provides a function to compute this for us (phew!) called [`sklearn.metrics.silhouette_score`](http://scikit-learn.org/stable/modules/generated/sklearn.metrics.silhouette_score.html). Take a look at [this article](http://scikit-learn.org/stable/auto_examples/cluster/plot_kmeans_silhouette_analysis.html) on picking $K$ in scikit-learn, as it will help you in the next exercise set."
   ]
  },
  {
   "cell_type": "markdown",
   "metadata": {},
   "source": [
    "<div class=\"span5 alert alert-info\">\n",
    "<h3>Checkup Exercise Set III</h3>\n",
    "\n",
    "<p><b>Exercise:</b> Using the documentation for the `silhouette_score` function above, construct a series of silhouette plots like the ones in the article linked above.</p>\n",
    "\n",
    "<p><b>Exercise:</b> Compute the average silhouette score for each $K$ and plot it. What $K$ does the plot suggest we should choose? Does it differ from what we found using the Elbow method?</p>\n",
    "</div>"
   ]
  },
  {
   "cell_type": "code",
   "execution_count": 9,
   "metadata": {},
   "outputs": [
    {
     "data": {
      "application/vnd.plotly.v1+json": {
       "config": {
        "linkText": "Export to plot.ly",
        "plotlyServerURL": "https://plot.ly",
        "showLink": false
       },
       "data": [
        {
         "type": "scatter",
         "uid": "cd92e524-6c91-4360-b1bd-639bfdb6acaa",
         "x": [
          2,
          3,
          4,
          5,
          6,
          7,
          8,
          9,
          10
         ],
         "y": [
          0.09174871508750351,
          0.11889942863638556,
          0.12167039851355937,
          0.13528618244904822,
          0.13218209978013543,
          0.13365227784322317,
          0.12482407120722075,
          0.11686562917000483,
          0.10889477148379977
         ]
        }
       ],
       "layout": {
        "xaxis": {
         "exponentformat": "e",
         "showexponent": "all",
         "showticklabels": true,
         "tickangle": 45,
         "tickfont": {
          "color": "black",
          "family": "Old Standard TT, serif",
          "size": 14
         },
         "title": {
          "font": {
           "color": "lightgrey",
           "family": "Arial, sans-serif",
           "size": 18
          },
          "text": "K"
         }
        },
        "yaxis": {
         "exponentformat": "e",
         "showexponent": "all",
         "showticklabels": true,
         "tickangle": 45,
         "tickfont": {
          "color": "black",
          "family": "Old Standard TT, serif",
          "size": 14
         },
         "title": {
          "font": {
           "color": "lightgrey",
           "family": "Arial, sans-serif",
           "size": 18
          },
          "text": "Silhouette Score"
         }
        }
       }
      },
      "text/html": [
       "<div id=\"4490fb87-923a-4e0c-b86d-b90c86cb8745\" style=\"height: 525px; width: 100%;\" class=\"plotly-graph-div\"></div><script type=\"text/javascript\">require([\"plotly\"], function(Plotly) { window.PLOTLYENV=window.PLOTLYENV || {};window.PLOTLYENV.BASE_URL=\"https://plot.ly\";Plotly.newPlot(\"4490fb87-923a-4e0c-b86d-b90c86cb8745\", [{\"x\": [2, 3, 4, 5, 6, 7, 8, 9, 10], \"y\": [0.09174871508750351, 0.11889942863638556, 0.12167039851355937, 0.13528618244904822, 0.13218209978013543, 0.13365227784322317, 0.12482407120722075, 0.11686562917000483, 0.10889477148379977], \"type\": \"scatter\", \"uid\": \"cd92e524-6c91-4360-b1bd-639bfdb6acaa\"}], {\"xaxis\": {\"exponentformat\": \"e\", \"showexponent\": \"all\", \"showticklabels\": true, \"tickangle\": 45, \"tickfont\": {\"color\": \"black\", \"family\": \"Old Standard TT, serif\", \"size\": 14}, \"title\": {\"font\": {\"color\": \"lightgrey\", \"family\": \"Arial, sans-serif\", \"size\": 18}, \"text\": \"K\"}}, \"yaxis\": {\"exponentformat\": \"e\", \"showexponent\": \"all\", \"showticklabels\": true, \"tickangle\": 45, \"tickfont\": {\"color\": \"black\", \"family\": \"Old Standard TT, serif\", \"size\": 14}, \"title\": {\"font\": {\"color\": \"lightgrey\", \"family\": \"Arial, sans-serif\", \"size\": 18}, \"text\": \"Silhouette Score\"}}}, {\"showLink\": false, \"linkText\": \"Export to plot.ly\", \"plotlyServerURL\": \"https://plot.ly\"})});</script><script type=\"text/javascript\">window.addEventListener(\"resize\", function(){window._Plotly.Plots.resize(document.getElementById(\"4490fb87-923a-4e0c-b86d-b90c86cb8745\"));});</script>"
      ],
      "text/vnd.plotly.v1+html": [
       "<div id=\"4490fb87-923a-4e0c-b86d-b90c86cb8745\" style=\"height: 525px; width: 100%;\" class=\"plotly-graph-div\"></div><script type=\"text/javascript\">require([\"plotly\"], function(Plotly) { window.PLOTLYENV=window.PLOTLYENV || {};window.PLOTLYENV.BASE_URL=\"https://plot.ly\";Plotly.newPlot(\"4490fb87-923a-4e0c-b86d-b90c86cb8745\", [{\"x\": [2, 3, 4, 5, 6, 7, 8, 9, 10], \"y\": [0.09174871508750351, 0.11889942863638556, 0.12167039851355937, 0.13528618244904822, 0.13218209978013543, 0.13365227784322317, 0.12482407120722075, 0.11686562917000483, 0.10889477148379977], \"type\": \"scatter\", \"uid\": \"cd92e524-6c91-4360-b1bd-639bfdb6acaa\"}], {\"xaxis\": {\"exponentformat\": \"e\", \"showexponent\": \"all\", \"showticklabels\": true, \"tickangle\": 45, \"tickfont\": {\"color\": \"black\", \"family\": \"Old Standard TT, serif\", \"size\": 14}, \"title\": {\"font\": {\"color\": \"lightgrey\", \"family\": \"Arial, sans-serif\", \"size\": 18}, \"text\": \"K\"}}, \"yaxis\": {\"exponentformat\": \"e\", \"showexponent\": \"all\", \"showticklabels\": true, \"tickangle\": 45, \"tickfont\": {\"color\": \"black\", \"family\": \"Old Standard TT, serif\", \"size\": 14}, \"title\": {\"font\": {\"color\": \"lightgrey\", \"family\": \"Arial, sans-serif\", \"size\": 18}, \"text\": \"Silhouette Score\"}}}, {\"showLink\": false, \"linkText\": \"Export to plot.ly\", \"plotlyServerURL\": \"https://plot.ly\"})});</script><script type=\"text/javascript\">window.addEventListener(\"resize\", function(){window._Plotly.Plots.resize(document.getElementById(\"4490fb87-923a-4e0c-b86d-b90c86cb8745\"));});</script>"
      ]
     },
     "metadata": {},
     "output_type": "display_data"
    }
   ],
   "source": [
    "import plotly.graph_objs as go\n",
    "ys=[]\n",
    "for i in K:\n",
    "    kmeans=KMeans(n_clusters=i, random_state=1)\n",
    "    kmeans.fit(X_matrix)\n",
    "    labels=kmeans.labels_\n",
    "    ys.append(silhouette_score(X_matrix, labels))\n",
    "    \n",
    "# Create a trace\n",
    "trace = go.Scatter(x = K, y = ys)\n",
    "\n",
    "data = [trace]\n",
    "layout = go.Layout(\n",
    "    xaxis=dict(\n",
    "        title='K',\n",
    "        titlefont=dict(\n",
    "            family='Arial, sans-serif',\n",
    "            size=18,\n",
    "            color='lightgrey'\n",
    "        ),\n",
    "        showticklabels=True,\n",
    "        tickangle=45,\n",
    "        tickfont=dict(\n",
    "            family='Old Standard TT, serif',\n",
    "            size=14,\n",
    "            color='black'\n",
    "        ),\n",
    "        exponentformat='e',\n",
    "        showexponent='all'\n",
    "    ),\n",
    "    yaxis=dict(\n",
    "        title='Silhouette Score',\n",
    "        titlefont=dict(\n",
    "            family='Arial, sans-serif',\n",
    "            size=18,\n",
    "            color='lightgrey'\n",
    "        ),\n",
    "        showticklabels=True,\n",
    "        tickangle=45,\n",
    "        tickfont=dict(\n",
    "            family='Old Standard TT, serif',\n",
    "            size=14,\n",
    "            color='black'\n",
    "        ),\n",
    "        exponentformat='e',\n",
    "        showexponent='all'\n",
    "    )\n",
    ")\n",
    "fig = go.Figure(data=data, layout=layout)\n",
    "py.iplot(fig)"
   ]
  },
  {
   "cell_type": "markdown",
   "metadata": {},
   "source": [
    "### Choosing $K$: The Gap Statistic\n",
    "\n",
    "There is one last method worth covering for picking $K$, the so-called Gap statistic. The computation for the gap statistic builds on the sum-of-squares established in the Elbow method discussion, and compares it to the sum-of-squares of a \"null distribution,\" that is, a random set of points with no clustering. The estimate for the optimal number of clusters $K$ is the value for which $\\log{SS}$ falls the farthest below that of the reference distribution:\n",
    "\n",
    "$$G_k = E_n^*\\{\\log SS_k\\} - \\log SS_k$$\n",
    "\n",
    "In other words a good clustering yields a much larger difference between the reference distribution and the clustered data. The reference distribution is a Monte Carlo (randomization) procedure that constructs $B$ random distributions of points within the bounding box (limits) of the original data and then applies K-means to this synthetic distribution of data points.. $E_n^*\\{\\log SS_k\\}$ is just the average $SS_k$ over all $B$ replicates. We then compute the standard deviation $\\sigma_{SS}$ of the values of $SS_k$ computed from the $B$ replicates of the reference distribution and compute\n",
    "\n",
    "$$s_k = \\sqrt{1+1/B}\\sigma_{SS}$$\n",
    "\n",
    "Finally, we choose $K=k$ such that $G_k \\geq G_{k+1} - s_{k+1}$."
   ]
  },
  {
   "cell_type": "markdown",
   "metadata": {},
   "source": [
    "### Aside: Choosing $K$ when we Have Labels\n",
    "\n",
    "Unsupervised learning expects that we do not have the labels. In some situations, we may wish to cluster data that is labeled. Computing the optimal number of clusters is much easier if we have access to labels. There are several methods available. We will not go into the math or details since it is rare to have access to the labels, but we provide the names and references of these measures.\n",
    "\n",
    "* Adjusted Rand Index\n",
    "* Mutual Information\n",
    "* V-Measure\n",
    "* Fowlkes–Mallows index\n",
    "\n",
    "See [this article](http://scikit-learn.org/stable/modules/clustering.html) for more information about these metrics."
   ]
  },
  {
   "cell_type": "markdown",
   "metadata": {},
   "source": [
    "## Visualizing Clusters using PCA\n",
    "\n",
    "How do we visualize clusters? If we only had two features, we could likely plot the data as is. But we have 100 data points each containing 32 features (dimensions). Principal Component Analysis (PCA) will help us reduce the dimensionality of our data from 32 to something lower. For a visualization on the coordinate plane, we will use 2 dimensions. In this exercise, we're going to use it to transform our multi-dimensional dataset into a 2 dimensional dataset.\n",
    "\n",
    "This is only one use of PCA for dimension reduction. We can also use PCA when we want to perform regression but we have a set of highly correlated variables. PCA untangles these correlations into a smaller number of features/predictors all of which are orthogonal (not correlated). PCA is also used to reduce a large set of variables into a much smaller one."
   ]
  },
  {
   "cell_type": "markdown",
   "metadata": {},
   "source": [
    "<div class=\"span5 alert alert-info\">\n",
    "<h3>Checkup Exercise Set IV</h3>\n",
    "\n",
    "<p><b>Exercise:</b> Use PCA to plot your clusters:</p>\n",
    "\n",
    "<ul>\n",
    "<li> Use scikit-learn's [`PCA`](http://scikit-learn.org/stable/modules/generated/sklearn.decomposition.PCA.html) function to reduce the dimensionality of your clustering data to 2 components\n",
    "<li> Create a data frame with the following fields:\n",
    "  <ul>\n",
    "  <li> customer name\n",
    "  <li> cluster id the customer belongs to\n",
    "  <li> the two PCA components (label them `x` and `y`)\n",
    "  </ul>\n",
    "<li> Plot a scatterplot of the `x` vs `y` columns\n",
    "<li> Color-code points differently based on cluster ID\n",
    "<li> How do the clusters look? \n",
    "<li> Based on what you see, what seems to be the best value for $K$? Moreover, which method of choosing $K$ seems to have produced the optimal result visually?\n",
    "</ul>\n",
    "\n",
    "<p><b>Exercise:</b> Now look at both the original raw data about the offers and transactions and look at the fitted clusters. Tell a story about the clusters in context of the original data. For example, do the clusters correspond to wine variants or something else interesting?</p>\n",
    "</div>"
   ]
  },
  {
   "cell_type": "code",
   "execution_count": 27,
   "metadata": {},
   "outputs": [
    {
     "data": {
      "image/png": "[encoded data removed]",
      "text/plain": [
       "<Figure size 426.475x360 with 1 Axes>"
      ]
     },
     "metadata": {},
     "output_type": "display_data"
    }
   ],
   "source": [
    "kmeans4=KMeans(n_clusters=4, random_state=1)\n",
    "## This function outputs pca_plot with input of matrix, x_col and clf is clustering method\n",
    "def plot_pca(pivot_transactions, x_cols, clf):\n",
    "    clf.fit(x_cols)\n",
    "    labels=clf.labels_\n",
    "    pca = sklearn.decomposition.PCA(n_components=2)\n",
    "    pca.fit(pivot_transactions)\n",
    "    new_matrix= pd.DataFrame(pca.transform(pivot_transactions))\n",
    "    new_matrix.index = pivot_transactions.index\n",
    "    new_matrix.columns=['x','y']\n",
    "    new_matrix['labels']=labels\n",
    "\n",
    "    sns.lmplot(x='x', y='y', hue='labels', data=new_matrix, fit_reg=False, size=5)\n",
    "\n",
    "plot_pca(pivot_transactions, X_matrix, kmeans4)"
   ]
  },
  {
   "cell_type": "code",
   "execution_count": null,
   "metadata": {},
   "outputs": [],
   "source": []
  },
  {
   "cell_type": "markdown",
   "metadata": {},
   "source": [
    "What we've done is we've taken those columns of 0/1 indicator variables, and we've transformed them into a 2-D dataset. We took one column and arbitrarily called it `x` and then called the other `y`. Now we can throw each point into a scatterplot. We color coded each point based on it's cluster so it's easier to see them."
   ]
  },
  {
   "cell_type": "markdown",
   "metadata": {},
   "source": [
    "<div class=\"span5 alert alert-info\">\n",
    "<h3>Exercise Set V</h3>\n",
    "\n",
    "<p>As we saw earlier, PCA has a lot of other uses. Since we wanted to visualize our data in 2 dimensions, restricted the number of dimensions to 2 in PCA. But what is the true optimal number of dimensions?</p>\n",
    "\n",
    "<p><b>Exercise:</b> Using a new PCA object shown in the next cell, plot the `explained_variance_` field and look for the elbow point, the point where the curve's rate of descent seems to slow sharply. This value is one possible value for the optimal number of dimensions. What is it?</p>\n",
    "</div>"
   ]
  },
  {
   "cell_type": "code",
   "execution_count": 28,
   "metadata": {},
   "outputs": [
    {
     "data": {
      "text/plain": [
       "[<matplotlib.axis.XTick at 0x1cff701a6a0>,\n",
       " <matplotlib.axis.XTick at 0x1cff6f76e10>,\n",
       " <matplotlib.axis.XTick at 0x1cff702acf8>,\n",
       " <matplotlib.axis.XTick at 0x1cff7034630>,\n",
       " <matplotlib.axis.XTick at 0x1cff7034dd8>,\n",
       " <matplotlib.axis.XTick at 0x1cff703c320>,\n",
       " <matplotlib.axis.XTick at 0x1cff7034940>,\n",
       " <matplotlib.axis.XTick at 0x1cff703c198>,\n",
       " <matplotlib.axis.XTick at 0x1cff703ccc0>,\n",
       " <matplotlib.axis.XTick at 0x1cff6f76a58>,\n",
       " <matplotlib.axis.XTick at 0x1cff96ef668>,\n",
       " <matplotlib.axis.XTick at 0x1cff96efb00>,\n",
       " <matplotlib.axis.XTick at 0x1cff96efe80>,\n",
       " <matplotlib.axis.XTick at 0x1cff96f6518>,\n",
       " <matplotlib.axis.XTick at 0x1cff96f6a58>]"
      ]
     },
     "execution_count": 28,
     "metadata": {},
     "output_type": "execute_result"
    },
    {
     "data": {
      "image/png": "[encoded data removed]",
      "text/plain": [
       "<Figure size 720x720 with 1 Axes>"
      ]
     },
     "metadata": {},
     "output_type": "display_data"
    }
   ],
   "source": [
    "#your turn\n",
    "# Initialize a new PCA model with a default number of components.\n",
    "import sklearn.decomposition\n",
    "pca = sklearn.decomposition.PCA()\n",
    "a=pca.fit(X_matrix).explained_variance_ratio_\n",
    "fig, ax = plt.subplots(figsize=(10,10))\n",
    "pd.Series(a).plot()\n",
    "plt.xlabel('K')\n",
    "plt.ylabel('explained_variance')\n",
    "ax.set_xticks(np.arange(0,30,2))\n",
    "\n",
    "#best K=4"
   ]
  },
  {
   "cell_type": "code",
   "execution_count": null,
   "metadata": {},
   "outputs": [],
   "source": []
  },
  {
   "cell_type": "markdown",
   "metadata": {},
   "source": [
    "## Other Clustering Algorithms\n",
    "\n",
    "k-means is only one of a ton of clustering algorithms. Below is a brief description of several clustering algorithms, and the table provides references to the other clustering algorithms in scikit-learn. \n",
    "\n",
    "* **Affinity Propagation** does not require the number of clusters $K$ to be known in advance! AP uses a \"message passing\" paradigm to cluster points based on their similarity. \n",
    "\n",
    "* **Spectral Clustering** uses the eigenvalues of a similarity matrix to reduce the dimensionality of the data before clustering in a lower dimensional space. This is tangentially similar to what we did to visualize k-means clusters using PCA. The number of clusters must be known a priori.\n",
    "\n",
    "* **Ward's Method** applies to hierarchical clustering. Hierarchical clustering algorithms take a set of data and successively divide the observations into more and more clusters at each layer of the hierarchy. Ward's method is used to determine when two clusters in the hierarchy should be combined into one. It is basically an extension of hierarchical clustering. Hierarchical clustering is *divisive*, that is, all observations are part of the same cluster at first, and at each successive iteration, the clusters are made smaller and smaller. With hierarchical clustering, a hierarchy is constructed, and there is not really the concept of \"number of clusters.\" The number of clusters simply determines how low or how high in the hierarchy we reference and can be determined empirically or by looking at the [dendogram](https://docs.scipy.org/doc/scipy-0.18.1/reference/generated/scipy.cluster.hierarchy.dendrogram.html).\n",
    "\n",
    "* **Agglomerative Clustering** is similar to hierarchical clustering but but is not divisive, it is *agglomerative*. That is, every observation is placed into its own cluster and at each iteration or level or the hierarchy, observations are merged into fewer and fewer clusters until convergence. Similar to hierarchical clustering, the constructed hierarchy contains all possible numbers of clusters and it is up to the analyst to pick the number by reviewing statistics or the dendogram.\n",
    "\n",
    "* **DBSCAN** is based on point density rather than distance. It groups together points with many nearby neighbors. DBSCAN is one of the most cited algorithms in the literature. It does not require knowing the number of clusters a priori, but does require specifying the neighborhood size."
   ]
  },
  {
   "cell_type": "markdown",
   "metadata": {},
   "source": [
    "### Clustering Algorithms in Scikit-learn\n",
    "<table border=\"1\">\n",
    "<colgroup>\n",
    "<col width=\"15%\" />\n",
    "<col width=\"16%\" />\n",
    "<col width=\"20%\" />\n",
    "<col width=\"27%\" />\n",
    "<col width=\"22%\" />\n",
    "</colgroup>\n",
    "<thead valign=\"bottom\">\n",
    "<tr><th>Method name</th>\n",
    "<th>Parameters</th>\n",
    "<th>Scalability</th>\n",
    "<th>Use Case</th>\n",
    "<th>Geometry (metric used)</th>\n",
    "</tr>\n",
    "</thead>\n",
    "<tbody valign=\"top\">\n",
    "<tr><td>K-Means</span></a></td>\n",
    "<td>number of clusters</td>\n",
    "<td>Very large<span class=\"pre\">n_samples</span>, medium <span class=\"pre\">n_clusters</span> with\n",
    "MiniBatch code</td>\n",
    "<td>General-purpose, even cluster size, flat geometry, not too many clusters</td>\n",
    "<td>Distances between points</td>\n",
    "</tr>\n",
    "<tr><td>Affinity propagation</td>\n",
    "<td>damping, sample preference</td>\n",
    "<td>Not scalable with n_samples</td>\n",
    "<td>Many clusters, uneven cluster size, non-flat geometry</td>\n",
    "<td>Graph distance (e.g. nearest-neighbor graph)</td>\n",
    "</tr>\n",
    "<tr><td>Mean-shift</td>\n",
    "<td>bandwidth</td>\n",
    "<td>Not scalable with <span class=\"pre\">n_samples</span></td>\n",
    "<td>Many clusters, uneven cluster size, non-flat geometry</td>\n",
    "<td>Distances between points</td>\n",
    "</tr>\n",
    "<tr><td>Spectral clustering</td>\n",
    "<td>number of clusters</td>\n",
    "<td>Medium <span class=\"pre\">n_samples</span>, small <span class=\"pre\">n_clusters</span></td>\n",
    "<td>Few clusters, even cluster size, non-flat geometry</td>\n",
    "<td>Graph distance (e.g. nearest-neighbor graph)</td>\n",
    "</tr>\n",
    "<tr><td>Ward hierarchical clustering</td>\n",
    "<td>number of clusters</td>\n",
    "<td>Large <span class=\"pre\">n_samples</span> and <span class=\"pre\">n_clusters</span></td>\n",
    "<td>Many clusters, possibly connectivity constraints</td>\n",
    "<td>Distances between points</td>\n",
    "</tr>\n",
    "<tr><td>Agglomerative clustering</td>\n",
    "<td>number of clusters, linkage type, distance</td>\n",
    "<td>Large <span class=\"pre\">n_samples</span> and <span class=\"pre\">n_clusters</span></td>\n",
    "<td>Many clusters, possibly connectivity constraints, non Euclidean\n",
    "distances</td>\n",
    "<td>Any pairwise distance</td>\n",
    "</tr>\n",
    "<tr><td>DBSCAN</td>\n",
    "<td>neighborhood size</td>\n",
    "<td>Very large <span class=\"pre\">n_samples</span>, medium <span class=\"pre\">n_clusters</span></td>\n",
    "<td>Non-flat geometry, uneven cluster sizes</td>\n",
    "<td>Distances between nearest points</td>\n",
    "</tr>\n",
    "<tr><td>Gaussian mixtures</td>\n",
    "<td>many</td>\n",
    "<td>Not scalable</td>\n",
    "<td>Flat geometry, good for density estimation</td>\n",
    "<td>Mahalanobis distances to  centers</td>\n",
    "</tr>\n",
    "<tr><td>Birch</td>\n",
    "<td>branching factor, threshold, optional global clusterer.</td>\n",
    "<td>Large <span class=\"pre\">n_clusters</span> and <span class=\"pre\">n_samples</span></td>\n",
    "<td>Large dataset, outlier removal, data reduction.</td>\n",
    "<td>Euclidean distance between points</td>\n",
    "</tr>\n",
    "</tbody>\n",
    "</table>\n",
    "Source: http://scikit-learn.org/stable/modules/clustering.html"
   ]
  },
  {
   "cell_type": "markdown",
   "metadata": {},
   "source": [
    "<div class=\"span5 alert alert-info\">\n",
    "<h3>Exercise Set VI</h3>\n",
    "\n",
    "<p><b>Exercise:</b> Try clustering using the following algorithms. </p>\n",
    "<ol>\n",
    "<li>Affinity propagation\n",
    "<li>Spectral clustering\n",
    "<li>Agglomerative clustering\n",
    "<li>DBSCAN\n",
    "</ol>\n",
    "<p>How do their results compare? Which performs the best? Tell a story why you think it performs the best.</p>\n",
    "</div>\n"
   ]
  },
  {
   "cell_type": "code",
   "execution_count": 29,
   "metadata": {},
   "outputs": [
    {
     "data": {
      "text/plain": [
       "AffinityPropagation(affinity='euclidean', convergence_iter=15, copy=True,\n",
       "          damping=0.5, max_iter=200, preference=None, verbose=False)"
      ]
     },
     "execution_count": 29,
     "metadata": {},
     "output_type": "execute_result"
    }
   ],
   "source": [
    "# Your turn##Affinity Propagation with PCA\n",
    "AP=AffinityPropagation()\n",
    "AP.fit(pivot_transactions)"
   ]
  },
  {
   "cell_type": "code",
   "execution_count": 30,
   "metadata": {},
   "outputs": [
    {
     "data": {
      "text/plain": [
       "12"
      ]
     },
     "execution_count": 30,
     "metadata": {},
     "output_type": "execute_result"
    }
   ],
   "source": [
    "##Estimated number of clusters\n",
    "len(AP.cluster_centers_indices_)"
   ]
  },
  {
   "cell_type": "code",
   "execution_count": 31,
   "metadata": {},
   "outputs": [
    {
     "data": {
      "image/png": "[encoded data removed]",
      "text/plain": [
       "<Figure size 435.35x360 with 1 Axes>"
      ]
     },
     "metadata": {},
     "output_type": "display_data"
    }
   ],
   "source": [
    "plot_pca(pivot_transactions, X_matrix, AP)"
   ]
  },
  {
   "cell_type": "code",
   "execution_count": null,
   "metadata": {},
   "outputs": [],
   "source": []
  },
  {
   "cell_type": "code",
   "execution_count": 32,
   "metadata": {},
   "outputs": [
    {
     "data": {
      "text/plain": [
       "SpectralClustering(affinity='rbf', assign_labels='kmeans', coef0=1, degree=3,\n",
       "          eigen_solver=None, eigen_tol=0.0, gamma=1.0, kernel_params=None,\n",
       "          n_clusters=4, n_init=10, n_jobs=None, n_neighbors=10,\n",
       "          random_state=None)"
      ]
     },
     "execution_count": 32,
     "metadata": {},
     "output_type": "execute_result"
    }
   ],
   "source": [
    "## Spectral Clustering with PCA\n",
    "SC=SpectralClustering(n_clusters=4)\n",
    "SC.fit(pivot_transactions)"
   ]
  },
  {
   "cell_type": "code",
   "execution_count": 33,
   "metadata": {},
   "outputs": [
    {
     "data": {
      "image/png": "[encoded data removed]",
      "text/plain": [
       "<Figure size 426.475x360 with 1 Axes>"
      ]
     },
     "metadata": {},
     "output_type": "display_data"
    }
   ],
   "source": [
    "plot_pca(pivot_transactions, X_matrix, SC)"
   ]
  },
  {
   "cell_type": "code",
   "execution_count": 34,
   "metadata": {},
   "outputs": [
    {
     "data": {
      "text/plain": [
       "AgglomerativeClustering(affinity='euclidean', compute_full_tree='auto',\n",
       "            connectivity=None, linkage='ward', memory=None, n_clusters=4,\n",
       "            pooling_func='deprecated')"
      ]
     },
     "execution_count": 34,
     "metadata": {},
     "output_type": "execute_result"
    }
   ],
   "source": [
    "AC=AgglomerativeClustering(n_clusters=4)\n",
    "AC.fit(pivot_transactions)"
   ]
  },
  {
   "cell_type": "code",
   "execution_count": 35,
   "metadata": {},
   "outputs": [
    {
     "data": {
      "image/png": "[encoded data removed]",
      "text/plain": [
       "<Figure size 426.475x360 with 1 Axes>"
      ]
     },
     "metadata": {},
     "output_type": "display_data"
    }
   ],
   "source": [
    "plot_pca(pivot_transactions, X_matrix, AC)"
   ]
  },
  {
   "cell_type": "code",
   "execution_count": 36,
   "metadata": {},
   "outputs": [
    {
     "data": {
      "text/plain": [
       "DBSCAN(algorithm='auto', eps=1, leaf_size=30, metric='euclidean',\n",
       "    metric_params=None, min_samples=5, n_jobs=None, p=None)"
      ]
     },
     "execution_count": 36,
     "metadata": {},
     "output_type": "execute_result"
    }
   ],
   "source": [
    "## DBSCAN.1\n",
    "DB=DBSCAN(eps=1, min_samples=5)\n",
    "DB.fit(pivot_transactions)"
   ]
  },
  {
   "cell_type": "code",
   "execution_count": 37,
   "metadata": {},
   "outputs": [
    {
     "data": {
      "image/png": "[encoded data removed]",
      "text/plain": [
       "<Figure size 431.85x360 with 1 Axes>"
      ]
     },
     "metadata": {},
     "output_type": "display_data"
    }
   ],
   "source": [
    "plot_pca(pivot_transactions, X_matrix, DB)"
   ]
  },
  {
   "cell_type": "code",
   "execution_count": null,
   "metadata": {},
   "outputs": [],
   "source": []
  }
 ],
 "metadata": {
  "anaconda-cloud": {},
  "kernelspec": {
   "display_name": "Python 3",
   "language": "python",
   "name": "python3"
  },
  "language_info": {
   "codemirror_mode": {
    "name": "ipython",
    "version": 3
   },
   "file_extension": ".py",
   "mimetype": "text/x-python",
   "name": "python",
   "nbconvert_exporter": "python",
   "pygments_lexer": "ipython3",
   "version": "3.6.5"
  }
 },
 "nbformat": 4,
 "nbformat_minor": 1
}
