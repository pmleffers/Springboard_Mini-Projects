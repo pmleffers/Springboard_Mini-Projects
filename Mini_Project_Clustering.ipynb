{
 "cells": [
  {
   "cell_type": "code",
   "execution_count": 1,
   "metadata": {},
   "outputs": [],
   "source": [
    "from IPython.display import HTML\n",
    "from IPython.display import Image\n",
    "import warnings\n",
    "warnings.filterwarnings(\"ignore\")"
   ]
  },
  {
   "cell_type": "markdown",
   "metadata": {},
   "source": [
    "# Customer Segmentation using Clustering\n",
    "***\n",
    "This mini-project is based on [this blog post](http://blog.yhat.com/posts/customer-segmentation-using-python.html) by yhat. Please feel free to refer to the post for additional information, and solutions."
   ]
  },
  {
   "cell_type": "code",
   "execution_count": 2,
   "metadata": {},
   "outputs": [
    {
     "data": {
      "text/html": [
       "<script>\n",
       "  function code_toggle() {\n",
       "    if (code_shown){\n",
       "      $('div.input').hide('500');\n",
       "      $('#toggleButton').val('Show Code')\n",
       "    } else {\n",
       "      $('div.input').show('500');\n",
       "      $('#toggleButton').val('Hide Code')\n",
       "    }\n",
       "    code_shown = !code_shown\n",
       "  }\n",
       "\n",
       "  $( document ).ready(function(){\n",
       "    code_shown=false;\n",
       "    $('div.input').hide()\n",
       "  });\n",
       "</script>\n",
       "<form action=\"javascript:code_toggle()\"><input type=\"submit\" id=\"toggleButton\" value=\"Show Code\"></form>"
      ],
      "text/plain": [
       "<IPython.core.display.HTML object>"
      ]
     },
     "execution_count": 2,
     "metadata": {},
     "output_type": "execute_result"
    }
   ],
   "source": [
    "HTML('''<script>\n",
    "  function code_toggle() {\n",
    "    if (code_shown){\n",
    "      $('div.input').hide('500');\n",
    "      $('#toggleButton').val('Show Code')\n",
    "    } else {\n",
    "      $('div.input').show('500');\n",
    "      $('#toggleButton').val('Hide Code')\n",
    "    }\n",
    "    code_shown = !code_shown\n",
    "  }\n",
    "\n",
    "  $( document ).ready(function(){\n",
    "    code_shown=false;\n",
    "    $('div.input').hide()\n",
    "  });\n",
    "</script>\n",
    "<form action=\"javascript:code_toggle()\"><input type=\"submit\" id=\"toggleButton\" value=\"Show Code\"></form>''')"
   ]
  },
  {
   "cell_type": "code",
   "execution_count": 2,
   "metadata": {},
   "outputs": [],
   "source": [
    "%matplotlib inline\n",
    "import pandas as pd\n",
    "import sklearn\n",
    "import matplotlib.pyplot as plt\n",
    "import seaborn as sns\n",
    "import scipy\n",
    "from sklearn.cluster import KMeans\n",
    "from sklearn.cluster import AffinityPropagation\n",
    "from sklearn.cluster import SpectralClustering\n",
    "from sklearn.cluster import AgglomerativeClustering\n",
    "from sklearn.cluster import DBSCAN\n",
    "from sklearn.metrics import silhouette_score \n",
    "import numpy as np\n",
    "from sklearn.decomposition import PCA\n",
    "\n",
    "# Setup Seaborn\n",
    "sns.set_style(\"whitegrid\")\n",
    "sns.set_context(\"poster\")"
   ]
  },
  {
   "cell_type": "markdown",
   "metadata": {},
   "source": [
    "## Data\n",
    "\n",
    "The dataset contains information on marketing newsletters/e-mail campaigns (e-mail offers sent to customers) and transaction level data from customers. The transactional data shows which offer customers responded to, and what the customer ended up buying. The data is presented as an Excel workbook containing two worksheets. Each worksheet contains a different dataset."
   ]
  },
  {
   "cell_type": "code",
   "execution_count": 3,
   "metadata": {},
   "outputs": [
    {
     "data": {
      "text/html": [
       "<div>\n",
       "<style scoped>\n",
       "    .dataframe tbody tr th:only-of-type {\n",
       "        vertical-align: middle;\n",
       "    }\n",
       "\n",
       "    .dataframe tbody tr th {\n",
       "        vertical-align: top;\n",
       "    }\n",
       "\n",
       "    .dataframe thead th {\n",
       "        text-align: right;\n",
       "    }\n",
       "</style>\n",
       "<table border=\"1\" class=\"dataframe\">\n",
       "  <thead>\n",
       "    <tr style=\"text-align: right;\">\n",
       "      <th></th>\n",
       "      <th>offer_id</th>\n",
       "      <th>campaign</th>\n",
       "      <th>varietal</th>\n",
       "      <th>min_qty</th>\n",
       "      <th>discount</th>\n",
       "      <th>origin</th>\n",
       "      <th>past_peak</th>\n",
       "    </tr>\n",
       "  </thead>\n",
       "  <tbody>\n",
       "    <tr>\n",
       "      <th>0</th>\n",
       "      <td>1</td>\n",
       "      <td>January</td>\n",
       "      <td>Malbec</td>\n",
       "      <td>72</td>\n",
       "      <td>56</td>\n",
       "      <td>France</td>\n",
       "      <td>False</td>\n",
       "    </tr>\n",
       "    <tr>\n",
       "      <th>1</th>\n",
       "      <td>2</td>\n",
       "      <td>January</td>\n",
       "      <td>Pinot Noir</td>\n",
       "      <td>72</td>\n",
       "      <td>17</td>\n",
       "      <td>France</td>\n",
       "      <td>False</td>\n",
       "    </tr>\n",
       "    <tr>\n",
       "      <th>2</th>\n",
       "      <td>3</td>\n",
       "      <td>February</td>\n",
       "      <td>Espumante</td>\n",
       "      <td>144</td>\n",
       "      <td>32</td>\n",
       "      <td>Oregon</td>\n",
       "      <td>True</td>\n",
       "    </tr>\n",
       "    <tr>\n",
       "      <th>3</th>\n",
       "      <td>4</td>\n",
       "      <td>February</td>\n",
       "      <td>Champagne</td>\n",
       "      <td>72</td>\n",
       "      <td>48</td>\n",
       "      <td>France</td>\n",
       "      <td>True</td>\n",
       "    </tr>\n",
       "    <tr>\n",
       "      <th>4</th>\n",
       "      <td>5</td>\n",
       "      <td>February</td>\n",
       "      <td>Cabernet Sauvignon</td>\n",
       "      <td>144</td>\n",
       "      <td>44</td>\n",
       "      <td>New Zealand</td>\n",
       "      <td>True</td>\n",
       "    </tr>\n",
       "  </tbody>\n",
       "</table>\n",
       "</div>"
      ],
      "text/plain": [
       "   offer_id  campaign            varietal  min_qty  discount       origin  \\\n",
       "0         1   January              Malbec       72        56       France   \n",
       "1         2   January          Pinot Noir       72        17       France   \n",
       "2         3  February           Espumante      144        32       Oregon   \n",
       "3         4  February           Champagne       72        48       France   \n",
       "4         5  February  Cabernet Sauvignon      144        44  New Zealand   \n",
       "\n",
       "   past_peak  \n",
       "0      False  \n",
       "1      False  \n",
       "2       True  \n",
       "3       True  \n",
       "4       True  "
      ]
     },
     "execution_count": 3,
     "metadata": {},
     "output_type": "execute_result"
    }
   ],
   "source": [
    "df_offers = pd.read_excel(\"./WineKMC.xlsx\", sheet_name=0)\n",
    "df_offers.columns = [\"offer_id\", \"campaign\", \"varietal\", \"min_qty\", \"discount\", \"origin\", \"past_peak\"]\n",
    "df_offers.head()"
   ]
  },
  {
   "cell_type": "markdown",
   "metadata": {},
   "source": [
    "We see that the first dataset contains information about each offer such as the month it is in effect and several attributes about the wine that the offer refers to: the variety, minimum quantity, discount, country of origin and whether or not it is past peak. The second dataset in the second worksheet contains transactional data -- which offer each customer responded to."
   ]
  },
  {
   "cell_type": "code",
   "execution_count": 4,
   "metadata": {},
   "outputs": [
    {
     "data": {
      "text/html": [
       "<div>\n",
       "<style scoped>\n",
       "    .dataframe tbody tr th:only-of-type {\n",
       "        vertical-align: middle;\n",
       "    }\n",
       "\n",
       "    .dataframe tbody tr th {\n",
       "        vertical-align: top;\n",
       "    }\n",
       "\n",
       "    .dataframe thead th {\n",
       "        text-align: right;\n",
       "    }\n",
       "</style>\n",
       "<table border=\"1\" class=\"dataframe\">\n",
       "  <thead>\n",
       "    <tr style=\"text-align: right;\">\n",
       "      <th></th>\n",
       "      <th>customer_name</th>\n",
       "      <th>offer_id</th>\n",
       "      <th>n</th>\n",
       "    </tr>\n",
       "  </thead>\n",
       "  <tbody>\n",
       "    <tr>\n",
       "      <th>0</th>\n",
       "      <td>Smith</td>\n",
       "      <td>2</td>\n",
       "      <td>1</td>\n",
       "    </tr>\n",
       "    <tr>\n",
       "      <th>1</th>\n",
       "      <td>Smith</td>\n",
       "      <td>24</td>\n",
       "      <td>1</td>\n",
       "    </tr>\n",
       "    <tr>\n",
       "      <th>2</th>\n",
       "      <td>Johnson</td>\n",
       "      <td>17</td>\n",
       "      <td>1</td>\n",
       "    </tr>\n",
       "    <tr>\n",
       "      <th>3</th>\n",
       "      <td>Johnson</td>\n",
       "      <td>24</td>\n",
       "      <td>1</td>\n",
       "    </tr>\n",
       "    <tr>\n",
       "      <th>4</th>\n",
       "      <td>Johnson</td>\n",
       "      <td>26</td>\n",
       "      <td>1</td>\n",
       "    </tr>\n",
       "  </tbody>\n",
       "</table>\n",
       "</div>"
      ],
      "text/plain": [
       "  customer_name  offer_id  n\n",
       "0         Smith         2  1\n",
       "1         Smith        24  1\n",
       "2       Johnson        17  1\n",
       "3       Johnson        24  1\n",
       "4       Johnson        26  1"
      ]
     },
     "execution_count": 4,
     "metadata": {},
     "output_type": "execute_result"
    }
   ],
   "source": [
    "df_transactions = pd.read_excel(\"./WineKMC.xlsx\", sheet_name=1)\n",
    "df_transactions.columns = [\"customer_name\", \"offer_id\"]\n",
    "df_transactions['n'] = 1\n",
    "df_transactions.head()"
   ]
  },
  {
   "cell_type": "markdown",
   "metadata": {},
   "source": [
    "## Data wrangling"
   ]
  },
  {
   "cell_type": "markdown",
   "metadata": {},
   "source": [
    "We're trying to learn more about how our customers behave, so we can use their behavior (whether or not they purchased something based on an offer) as a way to group similar minded customers together. We can then study those groups to look for patterns and trends which can help us formulate future offers.\n",
    "\n",
    "The first thing we need is a way to compare customers. To do this, we're going to create a matrix that contains each customer and a 0/1 indicator for whether or not they responded to a given offer. "
   ]
  },
  {
   "cell_type": "markdown",
   "metadata": {},
   "source": [
    "<div class=\"span5 alert alert-info\">\n",
    "<h3>Checkup Exercise Set I</h3>\n",
    "\n",
    "<p><b>Exercise:</b> Create a data frame where each row has the following columns (Use the pandas [`merge`](http://pandas.pydata.org/pandas-docs/stable/generated/pandas.DataFrame.merge.html) and [`pivot_table`](http://pandas.pydata.org/pandas-docs/stable/generated/pandas.pivot_table.html) functions for this purpose):\n",
    "<ul>\n",
    "<li> customer_name\n",
    "<li> One column for each offer, with a 1 if the customer responded to the offer\n",
    "</ul>\n",
    "<p>Make sure you also deal with any weird values such as `NaN`. Read the documentation to develop your solution.</p>\n",
    "</div>"
   ]
  },
  {
   "cell_type": "code",
   "execution_count": 5,
   "metadata": {
    "scrolled": true
   },
   "outputs": [
    {
     "data": {
      "text/html": [
       "<div>\n",
       "<style scoped>\n",
       "    .dataframe tbody tr th:only-of-type {\n",
       "        vertical-align: middle;\n",
       "    }\n",
       "\n",
       "    .dataframe tbody tr th {\n",
       "        vertical-align: top;\n",
       "    }\n",
       "\n",
       "    .dataframe thead th {\n",
       "        text-align: right;\n",
       "    }\n",
       "</style>\n",
       "<table border=\"1\" class=\"dataframe\">\n",
       "  <thead>\n",
       "    <tr style=\"text-align: right;\">\n",
       "      <th></th>\n",
       "      <th>offer_id_1</th>\n",
       "      <th>offer_id_2</th>\n",
       "      <th>offer_id_3</th>\n",
       "      <th>offer_id_4</th>\n",
       "      <th>offer_id_5</th>\n",
       "      <th>offer_id_6</th>\n",
       "      <th>offer_id_7</th>\n",
       "      <th>offer_id_8</th>\n",
       "      <th>offer_id_9</th>\n",
       "      <th>offer_id_10</th>\n",
       "      <th>...</th>\n",
       "      <th>offer_id_23</th>\n",
       "      <th>offer_id_24</th>\n",
       "      <th>offer_id_25</th>\n",
       "      <th>offer_id_26</th>\n",
       "      <th>offer_id_27</th>\n",
       "      <th>offer_id_28</th>\n",
       "      <th>offer_id_29</th>\n",
       "      <th>offer_id_30</th>\n",
       "      <th>offer_id_31</th>\n",
       "      <th>offer_id_32</th>\n",
       "    </tr>\n",
       "    <tr>\n",
       "      <th>customer_name</th>\n",
       "      <th></th>\n",
       "      <th></th>\n",
       "      <th></th>\n",
       "      <th></th>\n",
       "      <th></th>\n",
       "      <th></th>\n",
       "      <th></th>\n",
       "      <th></th>\n",
       "      <th></th>\n",
       "      <th></th>\n",
       "      <th></th>\n",
       "      <th></th>\n",
       "      <th></th>\n",
       "      <th></th>\n",
       "      <th></th>\n",
       "      <th></th>\n",
       "      <th></th>\n",
       "      <th></th>\n",
       "      <th></th>\n",
       "      <th></th>\n",
       "      <th></th>\n",
       "    </tr>\n",
       "  </thead>\n",
       "  <tbody>\n",
       "    <tr>\n",
       "      <th>Adams</th>\n",
       "      <td>0.0</td>\n",
       "      <td>0.0</td>\n",
       "      <td>0.0</td>\n",
       "      <td>0.0</td>\n",
       "      <td>0.0</td>\n",
       "      <td>0.0</td>\n",
       "      <td>0.0</td>\n",
       "      <td>0.0</td>\n",
       "      <td>0.0</td>\n",
       "      <td>0.0</td>\n",
       "      <td>...</td>\n",
       "      <td>0.0</td>\n",
       "      <td>0.0</td>\n",
       "      <td>0.0</td>\n",
       "      <td>0.0</td>\n",
       "      <td>0.0</td>\n",
       "      <td>0.0</td>\n",
       "      <td>1.0</td>\n",
       "      <td>1.0</td>\n",
       "      <td>0.0</td>\n",
       "      <td>0.0</td>\n",
       "    </tr>\n",
       "    <tr>\n",
       "      <th>Allen</th>\n",
       "      <td>0.0</td>\n",
       "      <td>0.0</td>\n",
       "      <td>0.0</td>\n",
       "      <td>0.0</td>\n",
       "      <td>0.0</td>\n",
       "      <td>0.0</td>\n",
       "      <td>0.0</td>\n",
       "      <td>0.0</td>\n",
       "      <td>1.0</td>\n",
       "      <td>0.0</td>\n",
       "      <td>...</td>\n",
       "      <td>0.0</td>\n",
       "      <td>0.0</td>\n",
       "      <td>0.0</td>\n",
       "      <td>0.0</td>\n",
       "      <td>1.0</td>\n",
       "      <td>0.0</td>\n",
       "      <td>0.0</td>\n",
       "      <td>0.0</td>\n",
       "      <td>0.0</td>\n",
       "      <td>0.0</td>\n",
       "    </tr>\n",
       "    <tr>\n",
       "      <th>Anderson</th>\n",
       "      <td>0.0</td>\n",
       "      <td>0.0</td>\n",
       "      <td>0.0</td>\n",
       "      <td>0.0</td>\n",
       "      <td>0.0</td>\n",
       "      <td>0.0</td>\n",
       "      <td>0.0</td>\n",
       "      <td>0.0</td>\n",
       "      <td>0.0</td>\n",
       "      <td>0.0</td>\n",
       "      <td>...</td>\n",
       "      <td>0.0</td>\n",
       "      <td>1.0</td>\n",
       "      <td>0.0</td>\n",
       "      <td>1.0</td>\n",
       "      <td>0.0</td>\n",
       "      <td>0.0</td>\n",
       "      <td>0.0</td>\n",
       "      <td>0.0</td>\n",
       "      <td>0.0</td>\n",
       "      <td>0.0</td>\n",
       "    </tr>\n",
       "    <tr>\n",
       "      <th>Bailey</th>\n",
       "      <td>0.0</td>\n",
       "      <td>0.0</td>\n",
       "      <td>0.0</td>\n",
       "      <td>0.0</td>\n",
       "      <td>0.0</td>\n",
       "      <td>0.0</td>\n",
       "      <td>1.0</td>\n",
       "      <td>0.0</td>\n",
       "      <td>0.0</td>\n",
       "      <td>0.0</td>\n",
       "      <td>...</td>\n",
       "      <td>0.0</td>\n",
       "      <td>0.0</td>\n",
       "      <td>0.0</td>\n",
       "      <td>0.0</td>\n",
       "      <td>0.0</td>\n",
       "      <td>0.0</td>\n",
       "      <td>0.0</td>\n",
       "      <td>1.0</td>\n",
       "      <td>0.0</td>\n",
       "      <td>0.0</td>\n",
       "    </tr>\n",
       "    <tr>\n",
       "      <th>Baker</th>\n",
       "      <td>0.0</td>\n",
       "      <td>0.0</td>\n",
       "      <td>0.0</td>\n",
       "      <td>0.0</td>\n",
       "      <td>0.0</td>\n",
       "      <td>0.0</td>\n",
       "      <td>1.0</td>\n",
       "      <td>0.0</td>\n",
       "      <td>0.0</td>\n",
       "      <td>1.0</td>\n",
       "      <td>...</td>\n",
       "      <td>0.0</td>\n",
       "      <td>0.0</td>\n",
       "      <td>0.0</td>\n",
       "      <td>0.0</td>\n",
       "      <td>0.0</td>\n",
       "      <td>0.0</td>\n",
       "      <td>0.0</td>\n",
       "      <td>0.0</td>\n",
       "      <td>1.0</td>\n",
       "      <td>0.0</td>\n",
       "    </tr>\n",
       "  </tbody>\n",
       "</table>\n",
       "<p>5 rows × 32 columns</p>\n",
       "</div>"
      ],
      "text/plain": [
       "               offer_id_1  offer_id_2  offer_id_3  offer_id_4  offer_id_5  \\\n",
       "customer_name                                                               \n",
       "Adams                 0.0         0.0         0.0         0.0         0.0   \n",
       "Allen                 0.0         0.0         0.0         0.0         0.0   \n",
       "Anderson              0.0         0.0         0.0         0.0         0.0   \n",
       "Bailey                0.0         0.0         0.0         0.0         0.0   \n",
       "Baker                 0.0         0.0         0.0         0.0         0.0   \n",
       "\n",
       "               offer_id_6  offer_id_7  offer_id_8  offer_id_9  offer_id_10  \\\n",
       "customer_name                                                                \n",
       "Adams                 0.0         0.0         0.0         0.0          0.0   \n",
       "Allen                 0.0         0.0         0.0         1.0          0.0   \n",
       "Anderson              0.0         0.0         0.0         0.0          0.0   \n",
       "Bailey                0.0         1.0         0.0         0.0          0.0   \n",
       "Baker                 0.0         1.0         0.0         0.0          1.0   \n",
       "\n",
       "                  ...       offer_id_23  offer_id_24  offer_id_25  \\\n",
       "customer_name     ...                                               \n",
       "Adams             ...               0.0          0.0          0.0   \n",
       "Allen             ...               0.0          0.0          0.0   \n",
       "Anderson          ...               0.0          1.0          0.0   \n",
       "Bailey            ...               0.0          0.0          0.0   \n",
       "Baker             ...               0.0          0.0          0.0   \n",
       "\n",
       "               offer_id_26  offer_id_27  offer_id_28  offer_id_29  \\\n",
       "customer_name                                                       \n",
       "Adams                  0.0          0.0          0.0          1.0   \n",
       "Allen                  0.0          1.0          0.0          0.0   \n",
       "Anderson               1.0          0.0          0.0          0.0   \n",
       "Bailey                 0.0          0.0          0.0          0.0   \n",
       "Baker                  0.0          0.0          0.0          0.0   \n",
       "\n",
       "               offer_id_30  offer_id_31  offer_id_32  \n",
       "customer_name                                         \n",
       "Adams                  1.0          0.0          0.0  \n",
       "Allen                  0.0          0.0          0.0  \n",
       "Anderson               0.0          0.0          0.0  \n",
       "Bailey                 1.0          0.0          0.0  \n",
       "Baker                  0.0          1.0          0.0  \n",
       "\n",
       "[5 rows x 32 columns]"
      ]
     },
     "execution_count": 5,
     "metadata": {},
     "output_type": "execute_result"
    }
   ],
   "source": [
    "pivot_transactions=df_transactions.pivot_table(index='customer_name', columns=['offer_id'], values=['n'])\n",
    "pivot_transactions=pivot_transactions.fillna(0)\n",
    "pivot_transactions = pivot_transactions.xs('n', axis=1, drop_level=True)\n",
    "col_list=list(pivot_transactions.columns)\n",
    "col_list = list(map(str, col_list))\n",
    "col_list = ['offer_id_'+str(x) for x in col_list]\n",
    "pivot_transactions.columns=col_list\n",
    "pivot_transactions.head()\n"
   ]
  },
  {
   "cell_type": "markdown",
   "metadata": {},
   "source": [
    "## K-Means Clustering\n",
    "\n",
    "Recall that in K-Means Clustering we want to *maximize* the distance between centroids and *minimize* the distance between data points and the respective centroid for the cluster they are in. True evaluation for unsupervised learning would require labeled data; however, we can use a variety of intuitive metrics to try to pick the number of clusters K. We will introduce two methods: the Elbow method, the Silhouette method and the gap statistic."
   ]
  },
  {
   "cell_type": "markdown",
   "metadata": {},
   "source": [
    "### Choosing K: The Elbow Sum-of-Squares Method\n",
    "\n",
    "The first method looks at the sum-of-squares error in each cluster against $K$. We compute the distance from each data point to the center of the cluster (centroid) to which the data point was assigned. \n",
    "\n",
    "$$SS = \\sum_k \\sum_{x_i \\in C_k} \\sum_{x_j \\in C_k} \\left( x_i - x_j \\right)^2 = \\sum_k \\sum_{x_i \\in C_k} \\left( x_i - \\mu_k \\right)^2$$\n",
    "\n",
    "where $x_i$ is a point, $C_k$ represents cluster $k$ and $\\mu_k$ is the centroid for cluster $k$. We can plot SS vs. $K$ and choose the *elbow point* in the plot as the best value for $K$. The elbow point is the point at which the plot starts descending much more slowly. "
   ]
  },
  {
   "cell_type": "markdown",
   "metadata": {},
   "source": [
    "<div class=\"span5 alert alert-info\">\n",
    "<h3>Checkup Exercise Set II</h3>\n",
    "\n",
    "<p><b>Exercise:</b></p> \n",
    "<ul>\n",
    "<li> What values of $SS$ do you believe represent better clusterings? Why?\n",
    "<li> Create a numpy matrix `x_cols` with only the columns representing the offers (i.e. the 0/1 colums) \n",
    "<li> Write code that applies the [`KMeans`](http://scikit-learn.org/stable/modules/generated/sklearn.cluster.KMeans.html) clustering method from scikit-learn to this matrix. \n",
    "<li> Construct a plot showing $SS$ for each $K$ and pick $K$ using this plot. For simplicity, test $2 \\le K \\le 10$.\n",
    "<li> Make a bar chart showing the number of points in each cluster for k-means under the best $K$.\n",
    "<li> What challenges did you experience using the Elbow method to pick $K$?\n",
    "</ul>\n",
    "</div>"
   ]
  },
  {
   "cell_type": "code",
   "execution_count": 6,
   "metadata": {},
   "outputs": [
    {
     "data": {
      "text/html": [
       "<script type=\"text/javascript\">window.PlotlyConfig = {MathJaxConfig: 'local'};</script><script type=\"text/javascript\">if (window.MathJax) {MathJax.Hub.Config({SVG: {font: \"STIX-Web\"}});}</script><script>requirejs.config({paths: { 'plotly': ['https://cdn.plot.ly/plotly-latest.min']},});if(!window._Plotly) {require(['plotly'],function(plotly) {window._Plotly=plotly;});}</script>"
      ],
      "text/vnd.plotly.v1+html": [
       "<script type=\"text/javascript\">window.PlotlyConfig = {MathJaxConfig: 'local'};</script><script type=\"text/javascript\">if (window.MathJax) {MathJax.Hub.Config({SVG: {font: \"STIX-Web\"}});}</script><script>requirejs.config({paths: { 'plotly': ['https://cdn.plot.ly/plotly-latest.min']},});if(!window._Plotly) {require(['plotly'],function(plotly) {window._Plotly=plotly;});}</script>"
      ]
     },
     "metadata": {},
     "output_type": "display_data"
    }
   ],
   "source": [
    "import plotly.offline as py\n",
    "import plotly.graph_objs as go\n",
    "py.init_notebook_mode(connected=True)\n",
    "import plotly.graph_objs as go\n"
   ]
  },
  {
   "cell_type": "code",
   "execution_count": 7,
   "metadata": {},
   "outputs": [
    {
     "data": {
      "application/vnd.plotly.v1+json": {
       "config": {
        "linkText": "Export to plot.ly",
        "plotlyServerURL": "https://plot.ly",
        "showLink": false
       },
       "data": [
        {
         "type": "scatter",
         "uid": "f3a414f4-a9ff-4669-bda6-d42b1fa6009c",
         "x": [
          2,
          3,
          4,
          5,
          6,
          7,
          8,
          9,
          10
         ],
         "y": [
          251.46031746031744,
          227.98503490702979,
          214.99549539170505,
          206.54292929292927,
          194.44642857142856,
          189.2625541125541,
          180.05064374646292,
          171.9429292929293,
          167.14128787878786
         ]
        }
       ],
       "layout": {
        "xaxis": {
         "exponentformat": "e",
         "showexponent": "all",
         "showticklabels": true,
         "tickangle": 45,
         "tickfont": {
          "color": "black",
          "family": "Old Standard TT, serif",
          "size": 14
         },
         "title": {
          "font": {
           "color": "lightgrey",
           "family": "Arial, sans-serif",
           "size": 18
          },
          "text": "K"
         }
        },
        "yaxis": {
         "exponentformat": "e",
         "showexponent": "all",
         "showticklabels": true,
         "tickangle": 45,
         "tickfont": {
          "color": "black",
          "family": "Old Standard TT, serif",
          "size": 14
         },
         "title": {
          "font": {
           "color": "lightgrey",
           "family": "Arial, sans-serif",
           "size": 18
          },
          "text": "Sums of Squares"
         }
        }
       }
      },
      "text/html": [
       "<div id=\"522caebf-7ade-46f7-9d03-40767b372bcd\" style=\"height: 525px; width: 100%;\" class=\"plotly-graph-div\"></div><script type=\"text/javascript\">require([\"plotly\"], function(Plotly) { window.PLOTLYENV=window.PLOTLYENV || {};window.PLOTLYENV.BASE_URL=\"https://plot.ly\";Plotly.newPlot(\"522caebf-7ade-46f7-9d03-40767b372bcd\", [{\"x\": [2, 3, 4, 5, 6, 7, 8, 9, 10], \"y\": [251.46031746031744, 227.98503490702979, 214.99549539170505, 206.54292929292927, 194.44642857142856, 189.2625541125541, 180.05064374646292, 171.9429292929293, 167.14128787878786], \"type\": \"scatter\", \"uid\": \"f3a414f4-a9ff-4669-bda6-d42b1fa6009c\"}], {\"xaxis\": {\"exponentformat\": \"e\", \"showexponent\": \"all\", \"showticklabels\": true, \"tickangle\": 45, \"tickfont\": {\"color\": \"black\", \"family\": \"Old Standard TT, serif\", \"size\": 14}, \"title\": {\"font\": {\"color\": \"lightgrey\", \"family\": \"Arial, sans-serif\", \"size\": 18}, \"text\": \"K\"}}, \"yaxis\": {\"exponentformat\": \"e\", \"showexponent\": \"all\", \"showticklabels\": true, \"tickangle\": 45, \"tickfont\": {\"color\": \"black\", \"family\": \"Old Standard TT, serif\", \"size\": 14}, \"title\": {\"font\": {\"color\": \"lightgrey\", \"family\": \"Arial, sans-serif\", \"size\": 18}, \"text\": \"Sums of Squares\"}}}, {\"showLink\": false, \"linkText\": \"Export to plot.ly\", \"plotlyServerURL\": \"https://plot.ly\"})});</script><script type=\"text/javascript\">window.addEventListener(\"resize\", function(){window._Plotly.Plots.resize(document.getElementById(\"522caebf-7ade-46f7-9d03-40767b372bcd\"));});</script>"
      ],
      "text/vnd.plotly.v1+html": [
       "<div id=\"522caebf-7ade-46f7-9d03-40767b372bcd\" style=\"height: 525px; width: 100%;\" class=\"plotly-graph-div\"></div><script type=\"text/javascript\">require([\"plotly\"], function(Plotly) { window.PLOTLYENV=window.PLOTLYENV || {};window.PLOTLYENV.BASE_URL=\"https://plot.ly\";Plotly.newPlot(\"522caebf-7ade-46f7-9d03-40767b372bcd\", [{\"x\": [2, 3, 4, 5, 6, 7, 8, 9, 10], \"y\": [251.46031746031744, 227.98503490702979, 214.99549539170505, 206.54292929292927, 194.44642857142856, 189.2625541125541, 180.05064374646292, 171.9429292929293, 167.14128787878786], \"type\": \"scatter\", \"uid\": \"f3a414f4-a9ff-4669-bda6-d42b1fa6009c\"}], {\"xaxis\": {\"exponentformat\": \"e\", \"showexponent\": \"all\", \"showticklabels\": true, \"tickangle\": 45, \"tickfont\": {\"color\": \"black\", \"family\": \"Old Standard TT, serif\", \"size\": 14}, \"title\": {\"font\": {\"color\": \"lightgrey\", \"family\": \"Arial, sans-serif\", \"size\": 18}, \"text\": \"K\"}}, \"yaxis\": {\"exponentformat\": \"e\", \"showexponent\": \"all\", \"showticklabels\": true, \"tickangle\": 45, \"tickfont\": {\"color\": \"black\", \"family\": \"Old Standard TT, serif\", \"size\": 14}, \"title\": {\"font\": {\"color\": \"lightgrey\", \"family\": \"Arial, sans-serif\", \"size\": 18}, \"text\": \"Sums of Squares\"}}}, {\"showLink\": false, \"linkText\": \"Export to plot.ly\", \"plotlyServerURL\": \"https://plot.ly\"})});</script><script type=\"text/javascript\">window.addEventListener(\"resize\", function(){window._Plotly.Plots.resize(document.getElementById(\"522caebf-7ade-46f7-9d03-40767b372bcd\"));});</script>"
      ]
     },
     "metadata": {},
     "output_type": "display_data"
    }
   ],
   "source": [
    "# Create random data with numpy\n",
    "X_matrix=np.matrix(pivot_transactions)\n",
    "K=list(range(2,11))\n",
    "y=[]\n",
    "for i in K:\n",
    "    kmeans=KMeans(n_clusters=i, random_state=1, init='k-means++')\n",
    "    kmeans.fit(X_matrix)\n",
    "    labels=kmeans.labels_\n",
    "    y.append(kmeans.inertia_)\n",
    "    \n",
    "# Create a trace\n",
    "trace = go.Scatter(x = K, y = y)\n",
    "\n",
    "data = [trace]\n",
    "layout = go.Layout(\n",
    "    xaxis=dict(\n",
    "        title='K',\n",
    "        titlefont=dict(\n",
    "            family='Arial, sans-serif',\n",
    "            size=18,\n",
    "            color='lightgrey'\n",
    "        ),\n",
    "        showticklabels=True,\n",
    "        tickangle=45,\n",
    "        tickfont=dict(\n",
    "            family='Old Standard TT, serif',\n",
    "            size=14,\n",
    "            color='black'\n",
    "        ),\n",
    "        exponentformat='e',\n",
    "        showexponent='all'\n",
    "    ),\n",
    "    yaxis=dict(\n",
    "        title='Sums of Squares',\n",
    "        titlefont=dict(\n",
    "            family='Arial, sans-serif',\n",
    "            size=18,\n",
    "            color='lightgrey'\n",
    "        ),\n",
    "        showticklabels=True,\n",
    "        tickangle=45,\n",
    "        tickfont=dict(\n",
    "            family='Old Standard TT, serif',\n",
    "            size=14,\n",
    "            color='black'\n",
    "        ),\n",
    "        exponentformat='e',\n",
    "        showexponent='all'\n",
    "    )\n",
    ")\n",
    "fig = go.Figure(data=data, layout=layout)\n",
    "py.iplot(fig)"
   ]
  },
  {
   "cell_type": "code",
   "execution_count": 8,
   "metadata": {},
   "outputs": [
    {
     "data": {
      "application/vnd.plotly.v1+json": {
       "config": {
        "linkText": "Export to plot.ly",
        "plotlyServerURL": "https://plot.ly",
        "showLink": false
       },
       "data": [
        {
         "marker": {
          "color": [
           "rgb(217,217,217)",
           "rgb(217,217,217)",
           "rgb(217,217,217)",
           "rgb(217,217,217)"
          ],
          "line": {
           "color": "rgb(68,68,68)",
           "width": 1.5
          }
         },
         "opacity": 0.6,
         "text": [
          "31",
          "28",
          "25",
          "16"
         ],
         "textposition": "outside",
         "type": "bar",
         "uid": "0633ef78-7993-4e55-bc7b-0e5cd37f0e08",
         "x": [
          "cluster_number_2",
          "cluster_number_3",
          "cluster_number_0",
          "cluster_number_1"
         ],
         "y": [
          31,
          28,
          25,
          16
         ]
        }
       ],
       "layout": {
        "title": {
         "text": "Number of points in each cluster for k-means under the best K."
        },
        "xaxis": {
         "tickangle": 0,
         "ticks": ""
        },
        "yaxis": {
         "showgrid": false,
         "showticklabels": false,
         "ticks": "",
         "title": {
          "font": {
           "color": "rgb(107, 107, 107)",
           "family": "Arial, sans-serif",
           "size": 18
          },
          "text": "Size</b>"
         }
        }
       }
      },
      "text/html": [
       "<div id=\"45720be8-4dfc-4468-8883-5e206eb05f83\" style=\"height: 525px; width: 100%;\" class=\"plotly-graph-div\"></div><script type=\"text/javascript\">require([\"plotly\"], function(Plotly) { window.PLOTLYENV=window.PLOTLYENV || {};window.PLOTLYENV.BASE_URL=\"https://plot.ly\";Plotly.newPlot(\"45720be8-4dfc-4468-8883-5e206eb05f83\", [{\"marker\": {\"color\": [\"rgb(217,217,217)\", \"rgb(217,217,217)\", \"rgb(217,217,217)\", \"rgb(217,217,217)\"], \"line\": {\"color\": \"rgb(68,68,68)\", \"width\": 1.5}}, \"opacity\": 0.6, \"text\": [\"31\", \"28\", \"25\", \"16\"], \"textposition\": \"outside\", \"x\": [\"cluster_number_2\", \"cluster_number_3\", \"cluster_number_0\", \"cluster_number_1\"], \"y\": [31, 28, 25, 16], \"type\": \"bar\", \"uid\": \"0633ef78-7993-4e55-bc7b-0e5cd37f0e08\"}], {\"title\": {\"text\": \"Number of points in each cluster for k-means under the best K.\"}, \"xaxis\": {\"tickangle\": 0, \"ticks\": \"\"}, \"yaxis\": {\"showgrid\": false, \"showticklabels\": false, \"ticks\": \"\", \"title\": {\"font\": {\"color\": \"rgb(107, 107, 107)\", \"family\": \"Arial, sans-serif\", \"size\": 18}, \"text\": \"Size</b>\"}}}, {\"showLink\": false, \"linkText\": \"Export to plot.ly\", \"plotlyServerURL\": \"https://plot.ly\"})});</script><script type=\"text/javascript\">window.addEventListener(\"resize\", function(){window._Plotly.Plots.resize(document.getElementById(\"45720be8-4dfc-4468-8883-5e206eb05f83\"));});</script>"
      ],
      "text/vnd.plotly.v1+html": [
       "<div id=\"45720be8-4dfc-4468-8883-5e206eb05f83\" style=\"height: 525px; width: 100%;\" class=\"plotly-graph-div\"></div><script type=\"text/javascript\">require([\"plotly\"], function(Plotly) { window.PLOTLYENV=window.PLOTLYENV || {};window.PLOTLYENV.BASE_URL=\"https://plot.ly\";Plotly.newPlot(\"45720be8-4dfc-4468-8883-5e206eb05f83\", [{\"marker\": {\"color\": [\"rgb(217,217,217)\", \"rgb(217,217,217)\", \"rgb(217,217,217)\", \"rgb(217,217,217)\"], \"line\": {\"color\": \"rgb(68,68,68)\", \"width\": 1.5}}, \"opacity\": 0.6, \"text\": [\"31\", \"28\", \"25\", \"16\"], \"textposition\": \"outside\", \"x\": [\"cluster_number_2\", \"cluster_number_3\", \"cluster_number_0\", \"cluster_number_1\"], \"y\": [31, 28, 25, 16], \"type\": \"bar\", \"uid\": \"0633ef78-7993-4e55-bc7b-0e5cd37f0e08\"}], {\"title\": {\"text\": \"Number of points in each cluster for k-means under the best K.\"}, \"xaxis\": {\"tickangle\": 0, \"ticks\": \"\"}, \"yaxis\": {\"showgrid\": false, \"showticklabels\": false, \"ticks\": \"\", \"title\": {\"font\": {\"color\": \"rgb(107, 107, 107)\", \"family\": \"Arial, sans-serif\", \"size\": 18}, \"text\": \"Size</b>\"}}}, {\"showLink\": false, \"linkText\": \"Export to plot.ly\", \"plotlyServerURL\": \"https://plot.ly\"})});</script><script type=\"text/javascript\">window.addEventListener(\"resize\", function(){window._Plotly.Plots.resize(document.getElementById(\"45720be8-4dfc-4468-8883-5e206eb05f83\"));});</script>"
      ]
     },
     "metadata": {},
     "output_type": "display_data"
    }
   ],
   "source": [
    "cluster=KMeans(n_clusters=4, random_state=1)\n",
    "pivot_transactions['cluster']=cluster.fit_predict(X_matrix)\n",
    "\n",
    "series_dict = dict(pivot_transactions.cluster.value_counts())\n",
    "xlabels = list(map(str, (list(series_dict.keys()))))\n",
    "xlabels = ['cluster_number_'+str(x) for x in xlabels]\n",
    "\n",
    "data = [go.Bar(x=xlabels,y=list(series_dict.values()),text=(list(series_dict.values())),\n",
    "               textposition='outside',marker=dict(\n",
    "               color=['rgb(217,217,217)','rgb(217,217,217)','rgb(217,217,217)','rgb(217,217,217)'],line=dict(color='rgb(68,68,68)',\n",
    "               width=1.5),),opacity=0.6)]\n",
    "\n",
    "layout = go.Layout(\n",
    "                title='Number of points in each cluster for k-means under the best K.',\n",
    "                yaxis=dict(title='Size</b>',ticks='',showticklabels=False,showgrid=False,\n",
    "                titlefont=dict(family='Arial, sans-serif',size=18,color='rgb(107, 107, 107)',))\n",
    "                ,xaxis=dict(ticks='',tickangle=0))\n",
    "\n",
    "#py.iplot(data, filename='basic-bar')\n",
    "\n",
    "fig = go.Figure(data=data, layout=layout)\n",
    "py.iplot(fig, filename='text-hover-bar')"
   ]
  },
  {
   "cell_type": "markdown",
   "metadata": {},
   "source": [
    "### Choosing K: The Silhouette Method\n",
    "\n",
    "There exists another method that measures how well each datapoint $x_i$ \"fits\" its assigned cluster *and also* how poorly it fits into other clusters. This is a different way of looking at the same objective. Denote $a_{x_i}$ as the *average* distance from $x_i$ to all other points within its own cluster $k$. The lower the value, the better. On the other hand $b_{x_i}$ is the minimum average distance from $x_i$ to points in a different cluster, minimized over clusters. That is, compute separately for each cluster the average distance from $x_i$ to the points within that cluster, and then take the minimum. The silhouette $s(x_i)$ is defined as\n",
    "\n",
    "$$s(x_i) = \\frac{b_{x_i} - a_{x_i}}{\\max{\\left( a_{x_i}, b_{x_i}\\right)}}$$\n",
    "\n",
    "The silhouette score is computed on *every datapoint in every cluster*. The silhouette score ranges from -1 (a poor clustering) to +1 (a very dense clustering) with 0 denoting the situation where clusters overlap. Some criteria for the silhouette coefficient is provided in the table below."
   ]
  },
  {
   "cell_type": "markdown",
   "metadata": {},
   "source": [
    "<pre>\n",
    "\n",
    "| Range       | Interpretation                                |\n",
    "|-------------|-----------------------------------------------|\n",
    "| 0.71 - 1.0  | A strong structure has been found.            |\n",
    "| 0.51 - 0.7  | A reasonable structure has been found.        |\n",
    "| 0.26 - 0.5  | The structure is weak and could be artificial.|\n",
    "| < 0.25      | No substantial structure has been found.      |\n",
    "\n",
    "</pre>\n",
    "Source: http://www.stat.berkeley.edu/~spector/s133/Clus.html"
   ]
  },
  {
   "cell_type": "markdown",
   "metadata": {},
   "source": [
    "Fortunately, scikit-learn provides a function to compute this for us (phew!) called [`sklearn.metrics.silhouette_score`](http://scikit-learn.org/stable/modules/generated/sklearn.metrics.silhouette_score.html). Take a look at [this article](http://scikit-learn.org/stable/auto_examples/cluster/plot_kmeans_silhouette_analysis.html) on picking $K$ in scikit-learn, as it will help you in the next exercise set."
   ]
  },
  {
   "cell_type": "markdown",
   "metadata": {},
   "source": [
    "<div class=\"span5 alert alert-info\">\n",
    "<h3>Checkup Exercise Set III</h3>\n",
    "\n",
    "<p><b>Exercise:</b> Using the documentation for the `silhouette_score` function above, construct a series of silhouette plots like the ones in the article linked above.</p>\n",
    "\n",
    "<p><b>Exercise:</b> Compute the average silhouette score for each $K$ and plot it. What $K$ does the plot suggest we should choose? Does it differ from what we found using the Elbow method?</p>\n",
    "</div>"
   ]
  },
  {
   "cell_type": "code",
   "execution_count": 9,
   "metadata": {},
   "outputs": [
    {
     "data": {
      "application/vnd.plotly.v1+json": {
       "config": {
        "linkText": "Export to plot.ly",
        "plotlyServerURL": "https://plot.ly",
        "showLink": false
       },
       "data": [
        {
         "type": "scatter",
         "uid": "61f3289e-fd08-45bf-bf52-9976a4425f97",
         "x": [
          2,
          3,
          4,
          5,
          6,
          7,
          8,
          9,
          10
         ],
         "y": [
          0.09174871508750351,
          0.11889942863638556,
          0.12167039851355937,
          0.13528618244904822,
          0.13218209978013543,
          0.13365227784322317,
          0.12482407120722075,
          0.11686562917000483,
          0.10889477148379977
         ]
        }
       ],
       "layout": {
        "xaxis": {
         "exponentformat": "e",
         "showexponent": "all",
         "showticklabels": true,
         "tickangle": 45,
         "tickfont": {
          "color": "black",
          "family": "Old Standard TT, serif",
          "size": 14
         },
         "title": {
          "font": {
           "color": "lightgrey",
           "family": "Arial, sans-serif",
           "size": 18
          },
          "text": "K"
         }
        },
        "yaxis": {
         "exponentformat": "e",
         "showexponent": "all",
         "showticklabels": true,
         "tickangle": 45,
         "tickfont": {
          "color": "black",
          "family": "Old Standard TT, serif",
          "size": 14
         },
         "title": {
          "font": {
           "color": "lightgrey",
           "family": "Arial, sans-serif",
           "size": 18
          },
          "text": "Silhouette Score"
         }
        }
       }
      },
      "text/html": [
       "<div id=\"0b7ea46d-e6f5-448a-8b35-86db61632a5f\" style=\"height: 525px; width: 100%;\" class=\"plotly-graph-div\"></div><script type=\"text/javascript\">require([\"plotly\"], function(Plotly) { window.PLOTLYENV=window.PLOTLYENV || {};window.PLOTLYENV.BASE_URL=\"https://plot.ly\";Plotly.newPlot(\"0b7ea46d-e6f5-448a-8b35-86db61632a5f\", [{\"x\": [2, 3, 4, 5, 6, 7, 8, 9, 10], \"y\": [0.09174871508750351, 0.11889942863638556, 0.12167039851355937, 0.13528618244904822, 0.13218209978013543, 0.13365227784322317, 0.12482407120722075, 0.11686562917000483, 0.10889477148379977], \"type\": \"scatter\", \"uid\": \"61f3289e-fd08-45bf-bf52-9976a4425f97\"}], {\"xaxis\": {\"exponentformat\": \"e\", \"showexponent\": \"all\", \"showticklabels\": true, \"tickangle\": 45, \"tickfont\": {\"color\": \"black\", \"family\": \"Old Standard TT, serif\", \"size\": 14}, \"title\": {\"font\": {\"color\": \"lightgrey\", \"family\": \"Arial, sans-serif\", \"size\": 18}, \"text\": \"K\"}}, \"yaxis\": {\"exponentformat\": \"e\", \"showexponent\": \"all\", \"showticklabels\": true, \"tickangle\": 45, \"tickfont\": {\"color\": \"black\", \"family\": \"Old Standard TT, serif\", \"size\": 14}, \"title\": {\"font\": {\"color\": \"lightgrey\", \"family\": \"Arial, sans-serif\", \"size\": 18}, \"text\": \"Silhouette Score\"}}}, {\"showLink\": false, \"linkText\": \"Export to plot.ly\", \"plotlyServerURL\": \"https://plot.ly\"})});</script><script type=\"text/javascript\">window.addEventListener(\"resize\", function(){window._Plotly.Plots.resize(document.getElementById(\"0b7ea46d-e6f5-448a-8b35-86db61632a5f\"));});</script>"
      ],
      "text/vnd.plotly.v1+html": [
       "<div id=\"0b7ea46d-e6f5-448a-8b35-86db61632a5f\" style=\"height: 525px; width: 100%;\" class=\"plotly-graph-div\"></div><script type=\"text/javascript\">require([\"plotly\"], function(Plotly) { window.PLOTLYENV=window.PLOTLYENV || {};window.PLOTLYENV.BASE_URL=\"https://plot.ly\";Plotly.newPlot(\"0b7ea46d-e6f5-448a-8b35-86db61632a5f\", [{\"x\": [2, 3, 4, 5, 6, 7, 8, 9, 10], \"y\": [0.09174871508750351, 0.11889942863638556, 0.12167039851355937, 0.13528618244904822, 0.13218209978013543, 0.13365227784322317, 0.12482407120722075, 0.11686562917000483, 0.10889477148379977], \"type\": \"scatter\", \"uid\": \"61f3289e-fd08-45bf-bf52-9976a4425f97\"}], {\"xaxis\": {\"exponentformat\": \"e\", \"showexponent\": \"all\", \"showticklabels\": true, \"tickangle\": 45, \"tickfont\": {\"color\": \"black\", \"family\": \"Old Standard TT, serif\", \"size\": 14}, \"title\": {\"font\": {\"color\": \"lightgrey\", \"family\": \"Arial, sans-serif\", \"size\": 18}, \"text\": \"K\"}}, \"yaxis\": {\"exponentformat\": \"e\", \"showexponent\": \"all\", \"showticklabels\": true, \"tickangle\": 45, \"tickfont\": {\"color\": \"black\", \"family\": \"Old Standard TT, serif\", \"size\": 14}, \"title\": {\"font\": {\"color\": \"lightgrey\", \"family\": \"Arial, sans-serif\", \"size\": 18}, \"text\": \"Silhouette Score\"}}}, {\"showLink\": false, \"linkText\": \"Export to plot.ly\", \"plotlyServerURL\": \"https://plot.ly\"})});</script><script type=\"text/javascript\">window.addEventListener(\"resize\", function(){window._Plotly.Plots.resize(document.getElementById(\"0b7ea46d-e6f5-448a-8b35-86db61632a5f\"));});</script>"
      ]
     },
     "metadata": {},
     "output_type": "display_data"
    }
   ],
   "source": [
    "ys=[]\n",
    "for i in K:\n",
    "    kmeans=KMeans(n_clusters=i, random_state=1)\n",
    "    kmeans.fit(X_matrix)\n",
    "    labels=kmeans.labels_\n",
    "    ys.append(silhouette_score(X_matrix, labels))\n",
    "    \n",
    "# Create a trace\n",
    "trace = go.Scatter(x = K, y = ys)\n",
    "\n",
    "data = [trace]\n",
    "layout = go.Layout(\n",
    "    xaxis=dict(\n",
    "        title='K',\n",
    "        titlefont=dict(\n",
    "            family='Arial, sans-serif',\n",
    "            size=18,\n",
    "            color='lightgrey'\n",
    "        ),\n",
    "        showticklabels=True,\n",
    "        tickangle=45,\n",
    "        tickfont=dict(\n",
    "            family='Old Standard TT, serif',\n",
    "            size=14,\n",
    "            color='black'\n",
    "        ),\n",
    "        exponentformat='e',\n",
    "        showexponent='all'\n",
    "    ),\n",
    "    yaxis=dict(\n",
    "        title='Silhouette Score',\n",
    "        titlefont=dict(\n",
    "            family='Arial, sans-serif',\n",
    "            size=18,\n",
    "            color='lightgrey'\n",
    "        ),\n",
    "        showticklabels=True,\n",
    "        tickangle=45,\n",
    "        tickfont=dict(\n",
    "            family='Old Standard TT, serif',\n",
    "            size=14,\n",
    "            color='black'\n",
    "        ),\n",
    "        exponentformat='e',\n",
    "        showexponent='all'\n",
    "    )\n",
    ")\n",
    "fig = go.Figure(data=data, layout=layout)\n",
    "py.iplot(fig)"
   ]
  },
  {
   "cell_type": "markdown",
   "metadata": {},
   "source": [
    "### Choosing $K$: The Gap Statistic\n",
    "\n",
    "There is one last method worth covering for picking $K$, the so-called Gap statistic. The computation for the gap statistic builds on the sum-of-squares established in the Elbow method discussion, and compares it to the sum-of-squares of a \"null distribution,\" that is, a random set of points with no clustering. The estimate for the optimal number of clusters $K$ is the value for which $\\log{SS}$ falls the farthest below that of the reference distribution:\n",
    "\n",
    "$$G_k = E_n^*\\{\\log SS_k\\} - \\log SS_k$$\n",
    "\n",
    "In other words a good clustering yields a much larger difference between the reference distribution and the clustered data. The reference distribution is a Monte Carlo (randomization) procedure that constructs $B$ random distributions of points within the bounding box (limits) of the original data and then applies K-means to this synthetic distribution of data points.. $E_n^*\\{\\log SS_k\\}$ is just the average $SS_k$ over all $B$ replicates. We then compute the standard deviation $\\sigma_{SS}$ of the values of $SS_k$ computed from the $B$ replicates of the reference distribution and compute\n",
    "\n",
    "$$s_k = \\sqrt{1+1/B}\\sigma_{SS}$$\n",
    "\n",
    "Finally, we choose $K=k$ such that $G_k \\geq G_{k+1} - s_{k+1}$."
   ]
  },
  {
   "cell_type": "markdown",
   "metadata": {},
   "source": [
    "### Aside: Choosing $K$ when we Have Labels\n",
    "\n",
    "Unsupervised learning expects that we do not have the labels. In some situations, we may wish to cluster data that is labeled. Computing the optimal number of clusters is much easier if we have access to labels. There are several methods available. We will not go into the math or details since it is rare to have access to the labels, but we provide the names and references of these measures.\n",
    "\n",
    "* Adjusted Rand Index\n",
    "* Mutual Information\n",
    "* V-Measure\n",
    "* Fowlkes–Mallows index\n",
    "\n",
    "See [this article](http://scikit-learn.org/stable/modules/clustering.html) for more information about these metrics."
   ]
  },
  {
   "cell_type": "markdown",
   "metadata": {},
   "source": [
    "## Visualizing Clusters using PCA\n",
    "\n",
    "How do we visualize clusters? If we only had two features, we could likely plot the data as is. But we have 100 data points each containing 32 features (dimensions). Principal Component Analysis (PCA) will help us reduce the dimensionality of our data from 32 to something lower. For a visualization on the coordinate plane, we will use 2 dimensions. In this exercise, we're going to use it to transform our multi-dimensional dataset into a 2 dimensional dataset.\n",
    "\n",
    "This is only one use of PCA for dimension reduction. We can also use PCA when we want to perform regression but we have a set of highly correlated variables. PCA untangles these correlations into a smaller number of features/predictors all of which are orthogonal (not correlated). PCA is also used to reduce a large set of variables into a much smaller one."
   ]
  },
  {
   "cell_type": "markdown",
   "metadata": {},
   "source": [
    "<div class=\"span5 alert alert-info\">\n",
    "<h3>Checkup Exercise Set IV</h3>\n",
    "\n",
    "<p><b>Exercise:</b> Use PCA to plot your clusters:</p>\n",
    "\n",
    "<ul>\n",
    "<li> Use scikit-learn's [`PCA`](http://scikit-learn.org/stable/modules/generated/sklearn.decomposition.PCA.html) function to reduce the dimensionality of your clustering data to 2 components\n",
    "<li> Create a data frame with the following fields:\n",
    "  <ul>\n",
    "  <li> customer name\n",
    "  <li> cluster id the customer belongs to\n",
    "  <li> the two PCA components (label them `x` and `y`)\n",
    "  </ul>\n",
    "<li> Plot a scatterplot of the `x` vs `y` columns\n",
    "<li> Color-code points differently based on cluster ID\n",
    "<li> How do the clusters look? \n",
    "<li> Based on what you see, what seems to be the best value for $K$? Moreover, which method of choosing $K$ seems to have produced the optimal result visually?\n",
    "</ul>\n",
    "\n",
    "<p><b>Exercise:</b> Now look at both the original raw data about the offers and transactions and look at the fitted clusters. Tell a story about the clusters in context of the original data. For example, do the clusters correspond to wine variants or something else interesting?</p>\n",
    "</div>"
   ]
  },
  {
   "cell_type": "code",
   "execution_count": 29,
   "metadata": {},
   "outputs": [],
   "source": [
    "from plotly import tools\n",
    "#https://plot.ly/scikit-learn/plot-cluster-iris/\n",
    "import numpy as np\n",
    "\n",
    "from sklearn.cluster import KMeans\n",
    "from sklearn import datasets"
   ]
  },
  {
   "cell_type": "code",
   "execution_count": 32,
   "metadata": {},
   "outputs": [
    {
     "data": {
      "text/html": [
       "<div>\n",
       "<style scoped>\n",
       "    .dataframe tbody tr th:only-of-type {\n",
       "        vertical-align: middle;\n",
       "    }\n",
       "\n",
       "    .dataframe tbody tr th {\n",
       "        vertical-align: top;\n",
       "    }\n",
       "\n",
       "    .dataframe thead th {\n",
       "        text-align: right;\n",
       "    }\n",
       "</style>\n",
       "<table border=\"1\" class=\"dataframe\">\n",
       "  <thead>\n",
       "    <tr style=\"text-align: right;\">\n",
       "      <th></th>\n",
       "      <th>x</th>\n",
       "      <th>y</th>\n",
       "      <th>labels</th>\n",
       "    </tr>\n",
       "    <tr>\n",
       "      <th>customer_name</th>\n",
       "      <th></th>\n",
       "      <th></th>\n",
       "      <th></th>\n",
       "    </tr>\n",
       "  </thead>\n",
       "  <tbody>\n",
       "    <tr>\n",
       "      <th>Adams</th>\n",
       "      <td>-1.681140</td>\n",
       "      <td>-0.240086</td>\n",
       "      <td>3</td>\n",
       "    </tr>\n",
       "    <tr>\n",
       "      <th>Allen</th>\n",
       "      <td>-0.312238</td>\n",
       "      <td>0.271448</td>\n",
       "      <td>2</td>\n",
       "    </tr>\n",
       "    <tr>\n",
       "      <th>Anderson</th>\n",
       "      <td>0.648907</td>\n",
       "      <td>0.989418</td>\n",
       "      <td>1</td>\n",
       "    </tr>\n",
       "    <tr>\n",
       "      <th>Bailey</th>\n",
       "      <td>-1.512454</td>\n",
       "      <td>-0.244858</td>\n",
       "      <td>3</td>\n",
       "    </tr>\n",
       "    <tr>\n",
       "      <th>Baker</th>\n",
       "      <td>1.500422</td>\n",
       "      <td>-0.623374</td>\n",
       "      <td>0</td>\n",
       "    </tr>\n",
       "  </tbody>\n",
       "</table>\n",
       "</div>"
      ],
      "text/plain": [
       "                      x         y  labels\n",
       "customer_name                            \n",
       "Adams         -1.681140 -0.240086       3\n",
       "Allen         -0.312238  0.271448       2\n",
       "Anderson       0.648907  0.989418       1\n",
       "Bailey        -1.512454 -0.244858       3\n",
       "Baker          1.500422 -0.623374       0"
      ]
     },
     "execution_count": 32,
     "metadata": {},
     "output_type": "execute_result"
    }
   ],
   "source": [
    "kmeans_cluster=KMeans(n_clusters=4, random_state=1)\n",
    "kmeans_cluster.fit(X_matrix)\n",
    "labels=kmeans_cluster.labels_\n",
    "pca = sklearn.decomposition.PCA(n_components=2)\n",
    "pca.fit(pivot_transactions)\n",
    "new_matrix= pd.DataFrame(pca.transform(pivot_transactions))\n",
    "new_matrix.index = pivot_transactions.index\n",
    "new_matrix.columns=['x','y']\n",
    "new_matrix['labels']=labels\n",
    "new_matrix.head()"
   ]
  },
  {
   "cell_type": "code",
   "execution_count": 33,
   "metadata": {},
   "outputs": [],
   "source": [
    "from plotly.graph_objs import *\n",
    "\n",
    "def plot_pca(pivot_transactions, x_cols, clf):\n",
    "    clf.fit(x_cols)\n",
    "    labels=clf.labels_\n",
    "    pca = sklearn.decomposition.PCA(n_components=2)\n",
    "    pca.fit(pivot_transactions)\n",
    "    new_matrix= pd.DataFrame(pca.transform(pivot_transactions))\n",
    "    new_matrix.index = pivot_transactions.index\n",
    "    new_matrix.columns=['x','y']\n",
    "    new_matrix['labels']=labels\n",
    "\n",
    "    labels=sorted(new_matrix.labels.unique())\n",
    "    data=[]\n",
    "    for i in labels:\n",
    "        new_matrix_cluster=new_matrix[new_matrix.labels==i]\n",
    "        data.append(go.Scattergl(x = new_matrix_cluster.x,y = new_matrix_cluster.y,\n",
    "                                 mode='markers',\n",
    "                                 text=[f'Customer Name: {[i][0]}' for i in new_matrix_cluster.index],\n",
    "                                 marker=dict(opacity=0.75),\n",
    "                                 name='Cluster_'+str(i)))\n",
    "\n",
    "    layout = go.Layout(title='PCA vs. Clusters',\n",
    "        xaxis=dict(title='PCA1'),yaxis=dict(title='PCA2'),hovermode='closest')\n",
    "\n",
    "    figure=go.Figure(data=data,layout=layout)\n",
    "    #data = [trace1]\n",
    "    py.iplot(figure)"
   ]
  },
  {
   "cell_type": "code",
   "execution_count": 35,
   "metadata": {},
   "outputs": [
    {
     "data": {
      "application/vnd.plotly.v1+json": {
       "config": {
        "linkText": "Export to plot.ly",
        "plotlyServerURL": "https://plot.ly",
        "showLink": false
       },
       "data": [
        {
         "marker": {
          "opacity": 0.75
         },
         "mode": "markers",
         "name": "Cluster_0",
         "text": [
          "Customer Name: Baker",
          "Customer Name: Barnes",
          "Customer Name: Brooks",
          "Customer Name: Butler",
          "Customer Name: Davis",
          "Customer Name: Evans",
          "Customer Name: Fisher",
          "Customer Name: Hall",
          "Customer Name: Harris",
          "Customer Name: Howard",
          "Customer Name: Jackson",
          "Customer Name: Kelly",
          "Customer Name: Lee",
          "Customer Name: Miller",
          "Customer Name: Morales",
          "Customer Name: Nelson",
          "Customer Name: Price",
          "Customer Name: Richardson",
          "Customer Name: Rogers",
          "Customer Name: Sanchez",
          "Customer Name: Turner",
          "Customer Name: White",
          "Customer Name: Williams",
          "Customer Name: Wright",
          "Customer Name: Young"
         ],
         "type": "scattergl",
         "uid": "90d56356-5b09-4367-a829-eab5ccd0bac6",
         "x": [
          1.5004222067226338,
          1.8239360739300268,
          1.6562437575624354,
          1.6613361185853266,
          1.6895973225368945,
          1.7167499951734102,
          1.7910381185671038,
          1.7048496853689354,
          1.8127277025266715,
          1.7196724576339122,
          1.8420359654053962,
          1.6806734930523903,
          1.9295217653691188,
          1.9736129963418954,
          1.7018863017658405,
          1.575447701105338,
          1.6865817716903306,
          1.8004063170727935,
          1.5710411435946279,
          1.8939609619736764,
          1.7732177297891691,
          1.5690743912386753,
          1.657888226099847,
          1.689873547890176,
          1.930487509617139
         ],
         "y": [
          -0.6233743520494789,
          -0.6064863183893973,
          -0.6461066280057365,
          -0.5636902868482075,
          -0.23917111050854517,
          -0.31206694772097454,
          -0.5054373691076424,
          -0.2452670559698367,
          -0.9301394137372403,
          -0.2299489776831134,
          -0.017398580985476256,
          -0.28761376286335216,
          -0.6256415043748939,
          -0.693325272761939,
          -1.3628902830995282,
          -0.5896724690301154,
          -0.7413555431894192,
          -0.5520534961261483,
          -1.1565694929732575,
          0.2121654880398416,
          -0.3884616731756707,
          -0.5155943096726483,
          -0.6267721506362398,
          -0.22789310652844585,
          -0.6118204712387366
         ]
        },
        {
         "marker": {
          "opacity": 0.75
         },
         "mode": "markers",
         "name": "Cluster_1",
         "text": [
          "Customer Name: Anderson",
          "Customer Name: Bell",
          "Customer Name: Campbell",
          "Customer Name: Cook",
          "Customer Name: Cox",
          "Customer Name: Flores",
          "Customer Name: Gray",
          "Customer Name: Jenkins",
          "Customer Name: Johnson",
          "Customer Name: Moore",
          "Customer Name: Morris",
          "Customer Name: Peterson",
          "Customer Name: Phillips",
          "Customer Name: Rodriguez",
          "Customer Name: Russell",
          "Customer Name: Smith"
         ],
         "type": "scattergl",
         "uid": "ee686b7f-ba78-4c25-9f78-6ebe0a1ab371",
         "x": [
          0.6489070049350057,
          0.7249763799527564,
          0.6953580285427906,
          0.6489070049350057,
          0.7249763799527564,
          0.6158560286719198,
          0.6086076169946548,
          0.6489070049350057,
          0.6785253563449715,
          0.6158560286719198,
          0.6785253563449715,
          0.7800918938024124,
          0.6158560286719198,
          0.6449014064965484,
          0.5984503828887634,
          0.6326887008697389
         ],
         "y": [
          0.9894184124757096,
          1.446582403764448,
          1.2044988819868312,
          0.9894184124757096,
          1.446582403764448,
          0.7911417345784854,
          0.6488669718455907,
          0.9894184124757096,
          1.2315019342533262,
          0.7911417345784854,
          1.2315019342533262,
          0.7670146229865908,
          0.7911417345784854,
          0.8077965775577528,
          0.5927161080466313,
          0.7641386823119903
         ]
        },
        {
         "marker": {
          "opacity": 0.75
         },
         "mode": "markers",
         "name": "Cluster_2",
         "text": [
          "Customer Name: Allen",
          "Customer Name: Clark",
          "Customer Name: Collins",
          "Customer Name: Cooper",
          "Customer Name: Edwards",
          "Customer Name: Foster",
          "Customer Name: Garcia",
          "Customer Name: Gomez",
          "Customer Name: Gonzalez",
          "Customer Name: Hernandez",
          "Customer Name: Jones",
          "Customer Name: Lopez",
          "Customer Name: Martin",
          "Customer Name: Martinez",
          "Customer Name: Mitchell",
          "Customer Name: Nguyen",
          "Customer Name: Ortiz",
          "Customer Name: Parker",
          "Customer Name: Powell",
          "Customer Name: Ramirez",
          "Customer Name: Reed",
          "Customer Name: Reyes",
          "Customer Name: Roberts",
          "Customer Name: Ross",
          "Customer Name: Sanders",
          "Customer Name: Scott",
          "Customer Name: Thomas",
          "Customer Name: Thompson",
          "Customer Name: Torres",
          "Customer Name: Ward",
          "Customer Name: Wood"
         ],
         "type": "scattergl",
         "uid": "b5d520ae-bfa9-46f0-8164-e6447e273eea",
         "x": [
          -0.31223778458332985,
          -0.12206363683530895,
          -0.4551602695652739,
          -0.26098275212325583,
          -0.4051020226485951,
          -0.05892232379246432,
          -0.2939810875221101,
          -0.27213751338340375,
          -0.2551419536915965,
          -0.5162355489846766,
          -0.4608256571762814,
          -0.22778404221184426,
          -0.2618238924155828,
          -0.32352727885540855,
          -0.27438991506325466,
          -0.2129064904391535,
          -0.4608256571762814,
          -0.3614555252010125,
          -0.35869070152223503,
          -0.3679614191110162,
          -0.3316875055593483,
          -0.3545488312986117,
          -0.25346077387293636,
          -0.45276255573722585,
          -0.010874688232942584,
          -0.2324239891674203,
          -0.11563445636191068,
          -0.4915821226400368,
          -0.4608256571762814,
          -0.2928884255237171,
          -0.1604033129442764
         ],
         "y": [
          0.27144829416179356,
          -0.00018694077253668124,
          -0.010476510476100546,
          0.2686043070172626,
          -0.0863821721219822,
          0.028013113095586007,
          0.23353484296985724,
          0.31221839995192496,
          0.08775162287004494,
          0.0745927493185183,
          -0.048542578629085155,
          0.32392446465056185,
          0.4721782082790791,
          0.2631936842292491,
          0.4814454224633712,
          -0.1164861188138504,
          -0.048542578629085155,
          -0.03178932623135724,
          0.2835277709969662,
          0.3092878876546906,
          0.29811949305122987,
          0.3259956090607312,
          0.014723769412656504,
          0.04428380443636483,
          0.7154201209074937,
          0.1057702949690482,
          0.7875566116411349,
          0.09416199566809222,
          -0.048542578629085155,
          0.2005116194414536,
          0.009665408982614573
         ]
        },
        {
         "marker": {
          "opacity": 0.75
         },
         "mode": "markers",
         "name": "Cluster_3",
         "text": [
          "Customer Name: Adams",
          "Customer Name: Bailey",
          "Customer Name: Bennett",
          "Customer Name: Brown",
          "Customer Name: Carter",
          "Customer Name: Cruz",
          "Customer Name: Diaz",
          "Customer Name: Green",
          "Customer Name: Gutierrez",
          "Customer Name: Hill",
          "Customer Name: Hughes",
          "Customer Name: James",
          "Customer Name: King",
          "Customer Name: Lewis",
          "Customer Name: Long",
          "Customer Name: Morgan",
          "Customer Name: Murphy",
          "Customer Name: Myers",
          "Customer Name: Perez",
          "Customer Name: Perry",
          "Customer Name: Rivera",
          "Customer Name: Robinson",
          "Customer Name: Stewart",
          "Customer Name: Sullivan",
          "Customer Name: Taylor",
          "Customer Name: Walker",
          "Customer Name: Watson",
          "Customer Name: Wilson"
         ],
         "type": "scattergl",
         "uid": "2462ab4c-f680-4148-bd9c-8e17a927fa24",
         "x": [
          -1.681139796999947,
          -1.5124537449953586,
          -1.5270242599224466,
          -1.6765910532334558,
          -1.7422266237492765,
          -1.5651821970346507,
          -1.7711364711173812,
          -1.3797503899992292,
          -1.3647891209555443,
          -1.6771834771615959,
          -1.8367720416332018,
          -1.788592333360401,
          -1.7254808687184433,
          -1.606999162879284,
          -1.3131959355773473,
          -1.5270242599224466,
          -1.3649276177342524,
          -1.5170024887618498,
          -1.5170024887618498,
          -1.7756852148838724,
          -1.4957079899645256,
          -1.5438876982373264,
          -1.659727614918576,
          -1.5444801221654663,
          -1.7925486531987522,
          -1.5484364420038175,
          -1.5438876982373264,
          -1.4955903066804788
         ],
         "y": [
          -0.24008590572354477,
          -0.24485766325418173,
          -0.11818314399477205,
          -0.3984023544453802,
          -0.4933901353486292,
          -0.10907737410002823,
          -0.6832049672717677,
          0.030839179677461814,
          -0.30719116835490173,
          -0.4663316082619825,
          -0.7781927481750167,
          -0.7556565886073346,
          -0.3487018240405022,
          -0.5296602760805692,
          -0.13495278077130396,
          -0.11818314399477205,
          0.04615725796418511,
          -0.0865412145323463,
          -0.0865412145323463,
          -0.5248885185499321,
          -0.10016935194605477,
          -0.12270551151373672,
          -0.39387998692641557,
          -0.19063476533033902,
          -0.5294108860688967,
          0.03561093720809875,
          -0.12270551151373672,
          -0.24033529573521706
         ]
        }
       ],
       "layout": {
        "hovermode": "closest",
        "title": {
         "text": "PCA vs. Clusters"
        },
        "xaxis": {
         "title": {
          "text": "PCA1"
         }
        },
        "yaxis": {
         "title": {
          "text": "PCA2"
         }
        }
       }
      },
      "text/html": [
       "<div id=\"68bee2fb-3a39-4cba-b13a-74070c7ef645\" style=\"height: 525px; width: 100%;\" class=\"plotly-graph-div\"></div><script type=\"text/javascript\">require([\"plotly\"], function(Plotly) { window.PLOTLYENV=window.PLOTLYENV || {};window.PLOTLYENV.BASE_URL=\"https://plot.ly\";Plotly.newPlot(\"68bee2fb-3a39-4cba-b13a-74070c7ef645\", [{\"marker\": {\"opacity\": 0.75}, \"mode\": \"markers\", \"name\": \"Cluster_0\", \"text\": [\"Customer Name: Baker\", \"Customer Name: Barnes\", \"Customer Name: Brooks\", \"Customer Name: Butler\", \"Customer Name: Davis\", \"Customer Name: Evans\", \"Customer Name: Fisher\", \"Customer Name: Hall\", \"Customer Name: Harris\", \"Customer Name: Howard\", \"Customer Name: Jackson\", \"Customer Name: Kelly\", \"Customer Name: Lee\", \"Customer Name: Miller\", \"Customer Name: Morales\", \"Customer Name: Nelson\", \"Customer Name: Price\", \"Customer Name: Richardson\", \"Customer Name: Rogers\", \"Customer Name: Sanchez\", \"Customer Name: Turner\", \"Customer Name: White\", \"Customer Name: Williams\", \"Customer Name: Wright\", \"Customer Name: Young\"], \"x\": [1.5004222067226338, 1.8239360739300268, 1.6562437575624354, 1.6613361185853266, 1.6895973225368945, 1.7167499951734102, 1.7910381185671038, 1.7048496853689354, 1.8127277025266715, 1.7196724576339122, 1.8420359654053962, 1.6806734930523903, 1.9295217653691188, 1.9736129963418954, 1.7018863017658405, 1.575447701105338, 1.6865817716903306, 1.8004063170727935, 1.5710411435946279, 1.8939609619736764, 1.7732177297891691, 1.5690743912386753, 1.657888226099847, 1.689873547890176, 1.930487509617139], \"y\": [-0.6233743520494789, -0.6064863183893973, -0.6461066280057365, -0.5636902868482075, -0.23917111050854517, -0.31206694772097454, -0.5054373691076424, -0.2452670559698367, -0.9301394137372403, -0.2299489776831134, -0.017398580985476256, -0.28761376286335216, -0.6256415043748939, -0.693325272761939, -1.3628902830995282, -0.5896724690301154, -0.7413555431894192, -0.5520534961261483, -1.1565694929732575, 0.2121654880398416, -0.3884616731756707, -0.5155943096726483, -0.6267721506362398, -0.22789310652844585, -0.6118204712387366], \"type\": \"scattergl\", \"uid\": \"90d56356-5b09-4367-a829-eab5ccd0bac6\"}, {\"marker\": {\"opacity\": 0.75}, \"mode\": \"markers\", \"name\": \"Cluster_1\", \"text\": [\"Customer Name: Anderson\", \"Customer Name: Bell\", \"Customer Name: Campbell\", \"Customer Name: Cook\", \"Customer Name: Cox\", \"Customer Name: Flores\", \"Customer Name: Gray\", \"Customer Name: Jenkins\", \"Customer Name: Johnson\", \"Customer Name: Moore\", \"Customer Name: Morris\", \"Customer Name: Peterson\", \"Customer Name: Phillips\", \"Customer Name: Rodriguez\", \"Customer Name: Russell\", \"Customer Name: Smith\"], \"x\": [0.6489070049350057, 0.7249763799527564, 0.6953580285427906, 0.6489070049350057, 0.7249763799527564, 0.6158560286719198, 0.6086076169946548, 0.6489070049350057, 0.6785253563449715, 0.6158560286719198, 0.6785253563449715, 0.7800918938024124, 0.6158560286719198, 0.6449014064965484, 0.5984503828887634, 0.6326887008697389], \"y\": [0.9894184124757096, 1.446582403764448, 1.2044988819868312, 0.9894184124757096, 1.446582403764448, 0.7911417345784854, 0.6488669718455907, 0.9894184124757096, 1.2315019342533262, 0.7911417345784854, 1.2315019342533262, 0.7670146229865908, 0.7911417345784854, 0.8077965775577528, 0.5927161080466313, 0.7641386823119903], \"type\": \"scattergl\", \"uid\": \"ee686b7f-ba78-4c25-9f78-6ebe0a1ab371\"}, {\"marker\": {\"opacity\": 0.75}, \"mode\": \"markers\", \"name\": \"Cluster_2\", \"text\": [\"Customer Name: Allen\", \"Customer Name: Clark\", \"Customer Name: Collins\", \"Customer Name: Cooper\", \"Customer Name: Edwards\", \"Customer Name: Foster\", \"Customer Name: Garcia\", \"Customer Name: Gomez\", \"Customer Name: Gonzalez\", \"Customer Name: Hernandez\", \"Customer Name: Jones\", \"Customer Name: Lopez\", \"Customer Name: Martin\", \"Customer Name: Martinez\", \"Customer Name: Mitchell\", \"Customer Name: Nguyen\", \"Customer Name: Ortiz\", \"Customer Name: Parker\", \"Customer Name: Powell\", \"Customer Name: Ramirez\", \"Customer Name: Reed\", \"Customer Name: Reyes\", \"Customer Name: Roberts\", \"Customer Name: Ross\", \"Customer Name: Sanders\", \"Customer Name: Scott\", \"Customer Name: Thomas\", \"Customer Name: Thompson\", \"Customer Name: Torres\", \"Customer Name: Ward\", \"Customer Name: Wood\"], \"x\": [-0.31223778458332985, -0.12206363683530895, -0.4551602695652739, -0.26098275212325583, -0.4051020226485951, -0.05892232379246432, -0.2939810875221101, -0.27213751338340375, -0.2551419536915965, -0.5162355489846766, -0.4608256571762814, -0.22778404221184426, -0.2618238924155828, -0.32352727885540855, -0.27438991506325466, -0.2129064904391535, -0.4608256571762814, -0.3614555252010125, -0.35869070152223503, -0.3679614191110162, -0.3316875055593483, -0.3545488312986117, -0.25346077387293636, -0.45276255573722585, -0.010874688232942584, -0.2324239891674203, -0.11563445636191068, -0.4915821226400368, -0.4608256571762814, -0.2928884255237171, -0.1604033129442764], \"y\": [0.27144829416179356, -0.00018694077253668124, -0.010476510476100546, 0.2686043070172626, -0.0863821721219822, 0.028013113095586007, 0.23353484296985724, 0.31221839995192496, 0.08775162287004494, 0.0745927493185183, -0.048542578629085155, 0.32392446465056185, 0.4721782082790791, 0.2631936842292491, 0.4814454224633712, -0.1164861188138504, -0.048542578629085155, -0.03178932623135724, 0.2835277709969662, 0.3092878876546906, 0.29811949305122987, 0.3259956090607312, 0.014723769412656504, 0.04428380443636483, 0.7154201209074937, 0.1057702949690482, 0.7875566116411349, 0.09416199566809222, -0.048542578629085155, 0.2005116194414536, 0.009665408982614573], \"type\": \"scattergl\", \"uid\": \"b5d520ae-bfa9-46f0-8164-e6447e273eea\"}, {\"marker\": {\"opacity\": 0.75}, \"mode\": \"markers\", \"name\": \"Cluster_3\", \"text\": [\"Customer Name: Adams\", \"Customer Name: Bailey\", \"Customer Name: Bennett\", \"Customer Name: Brown\", \"Customer Name: Carter\", \"Customer Name: Cruz\", \"Customer Name: Diaz\", \"Customer Name: Green\", \"Customer Name: Gutierrez\", \"Customer Name: Hill\", \"Customer Name: Hughes\", \"Customer Name: James\", \"Customer Name: King\", \"Customer Name: Lewis\", \"Customer Name: Long\", \"Customer Name: Morgan\", \"Customer Name: Murphy\", \"Customer Name: Myers\", \"Customer Name: Perez\", \"Customer Name: Perry\", \"Customer Name: Rivera\", \"Customer Name: Robinson\", \"Customer Name: Stewart\", \"Customer Name: Sullivan\", \"Customer Name: Taylor\", \"Customer Name: Walker\", \"Customer Name: Watson\", \"Customer Name: Wilson\"], \"x\": [-1.681139796999947, -1.5124537449953586, -1.5270242599224466, -1.6765910532334558, -1.7422266237492765, -1.5651821970346507, -1.7711364711173812, -1.3797503899992292, -1.3647891209555443, -1.6771834771615959, -1.8367720416332018, -1.788592333360401, -1.7254808687184433, -1.606999162879284, -1.3131959355773473, -1.5270242599224466, -1.3649276177342524, -1.5170024887618498, -1.5170024887618498, -1.7756852148838724, -1.4957079899645256, -1.5438876982373264, -1.659727614918576, -1.5444801221654663, -1.7925486531987522, -1.5484364420038175, -1.5438876982373264, -1.4955903066804788], \"y\": [-0.24008590572354477, -0.24485766325418173, -0.11818314399477205, -0.3984023544453802, -0.4933901353486292, -0.10907737410002823, -0.6832049672717677, 0.030839179677461814, -0.30719116835490173, -0.4663316082619825, -0.7781927481750167, -0.7556565886073346, -0.3487018240405022, -0.5296602760805692, -0.13495278077130396, -0.11818314399477205, 0.04615725796418511, -0.0865412145323463, -0.0865412145323463, -0.5248885185499321, -0.10016935194605477, -0.12270551151373672, -0.39387998692641557, -0.19063476533033902, -0.5294108860688967, 0.03561093720809875, -0.12270551151373672, -0.24033529573521706], \"type\": \"scattergl\", \"uid\": \"2462ab4c-f680-4148-bd9c-8e17a927fa24\"}], {\"hovermode\": \"closest\", \"title\": {\"text\": \"PCA vs. Clusters\"}, \"xaxis\": {\"title\": {\"text\": \"PCA1\"}}, \"yaxis\": {\"title\": {\"text\": \"PCA2\"}}}, {\"showLink\": false, \"linkText\": \"Export to plot.ly\", \"plotlyServerURL\": \"https://plot.ly\"})});</script><script type=\"text/javascript\">window.addEventListener(\"resize\", function(){window._Plotly.Plots.resize(document.getElementById(\"68bee2fb-3a39-4cba-b13a-74070c7ef645\"));});</script>"
      ],
      "text/vnd.plotly.v1+html": [
       "<div id=\"68bee2fb-3a39-4cba-b13a-74070c7ef645\" style=\"height: 525px; width: 100%;\" class=\"plotly-graph-div\"></div><script type=\"text/javascript\">require([\"plotly\"], function(Plotly) { window.PLOTLYENV=window.PLOTLYENV || {};window.PLOTLYENV.BASE_URL=\"https://plot.ly\";Plotly.newPlot(\"68bee2fb-3a39-4cba-b13a-74070c7ef645\", [{\"marker\": {\"opacity\": 0.75}, \"mode\": \"markers\", \"name\": \"Cluster_0\", \"text\": [\"Customer Name: Baker\", \"Customer Name: Barnes\", \"Customer Name: Brooks\", \"Customer Name: Butler\", \"Customer Name: Davis\", \"Customer Name: Evans\", \"Customer Name: Fisher\", \"Customer Name: Hall\", \"Customer Name: Harris\", \"Customer Name: Howard\", \"Customer Name: Jackson\", \"Customer Name: Kelly\", \"Customer Name: Lee\", \"Customer Name: Miller\", \"Customer Name: Morales\", \"Customer Name: Nelson\", \"Customer Name: Price\", \"Customer Name: Richardson\", \"Customer Name: Rogers\", \"Customer Name: Sanchez\", \"Customer Name: Turner\", \"Customer Name: White\", \"Customer Name: Williams\", \"Customer Name: Wright\", \"Customer Name: Young\"], \"x\": [1.5004222067226338, 1.8239360739300268, 1.6562437575624354, 1.6613361185853266, 1.6895973225368945, 1.7167499951734102, 1.7910381185671038, 1.7048496853689354, 1.8127277025266715, 1.7196724576339122, 1.8420359654053962, 1.6806734930523903, 1.9295217653691188, 1.9736129963418954, 1.7018863017658405, 1.575447701105338, 1.6865817716903306, 1.8004063170727935, 1.5710411435946279, 1.8939609619736764, 1.7732177297891691, 1.5690743912386753, 1.657888226099847, 1.689873547890176, 1.930487509617139], \"y\": [-0.6233743520494789, -0.6064863183893973, -0.6461066280057365, -0.5636902868482075, -0.23917111050854517, -0.31206694772097454, -0.5054373691076424, -0.2452670559698367, -0.9301394137372403, -0.2299489776831134, -0.017398580985476256, -0.28761376286335216, -0.6256415043748939, -0.693325272761939, -1.3628902830995282, -0.5896724690301154, -0.7413555431894192, -0.5520534961261483, -1.1565694929732575, 0.2121654880398416, -0.3884616731756707, -0.5155943096726483, -0.6267721506362398, -0.22789310652844585, -0.6118204712387366], \"type\": \"scattergl\", \"uid\": \"90d56356-5b09-4367-a829-eab5ccd0bac6\"}, {\"marker\": {\"opacity\": 0.75}, \"mode\": \"markers\", \"name\": \"Cluster_1\", \"text\": [\"Customer Name: Anderson\", \"Customer Name: Bell\", \"Customer Name: Campbell\", \"Customer Name: Cook\", \"Customer Name: Cox\", \"Customer Name: Flores\", \"Customer Name: Gray\", \"Customer Name: Jenkins\", \"Customer Name: Johnson\", \"Customer Name: Moore\", \"Customer Name: Morris\", \"Customer Name: Peterson\", \"Customer Name: Phillips\", \"Customer Name: Rodriguez\", \"Customer Name: Russell\", \"Customer Name: Smith\"], \"x\": [0.6489070049350057, 0.7249763799527564, 0.6953580285427906, 0.6489070049350057, 0.7249763799527564, 0.6158560286719198, 0.6086076169946548, 0.6489070049350057, 0.6785253563449715, 0.6158560286719198, 0.6785253563449715, 0.7800918938024124, 0.6158560286719198, 0.6449014064965484, 0.5984503828887634, 0.6326887008697389], \"y\": [0.9894184124757096, 1.446582403764448, 1.2044988819868312, 0.9894184124757096, 1.446582403764448, 0.7911417345784854, 0.6488669718455907, 0.9894184124757096, 1.2315019342533262, 0.7911417345784854, 1.2315019342533262, 0.7670146229865908, 0.7911417345784854, 0.8077965775577528, 0.5927161080466313, 0.7641386823119903], \"type\": \"scattergl\", \"uid\": \"ee686b7f-ba78-4c25-9f78-6ebe0a1ab371\"}, {\"marker\": {\"opacity\": 0.75}, \"mode\": \"markers\", \"name\": \"Cluster_2\", \"text\": [\"Customer Name: Allen\", \"Customer Name: Clark\", \"Customer Name: Collins\", \"Customer Name: Cooper\", \"Customer Name: Edwards\", \"Customer Name: Foster\", \"Customer Name: Garcia\", \"Customer Name: Gomez\", \"Customer Name: Gonzalez\", \"Customer Name: Hernandez\", \"Customer Name: Jones\", \"Customer Name: Lopez\", \"Customer Name: Martin\", \"Customer Name: Martinez\", \"Customer Name: Mitchell\", \"Customer Name: Nguyen\", \"Customer Name: Ortiz\", \"Customer Name: Parker\", \"Customer Name: Powell\", \"Customer Name: Ramirez\", \"Customer Name: Reed\", \"Customer Name: Reyes\", \"Customer Name: Roberts\", \"Customer Name: Ross\", \"Customer Name: Sanders\", \"Customer Name: Scott\", \"Customer Name: Thomas\", \"Customer Name: Thompson\", \"Customer Name: Torres\", \"Customer Name: Ward\", \"Customer Name: Wood\"], \"x\": [-0.31223778458332985, -0.12206363683530895, -0.4551602695652739, -0.26098275212325583, -0.4051020226485951, -0.05892232379246432, -0.2939810875221101, -0.27213751338340375, -0.2551419536915965, -0.5162355489846766, -0.4608256571762814, -0.22778404221184426, -0.2618238924155828, -0.32352727885540855, -0.27438991506325466, -0.2129064904391535, -0.4608256571762814, -0.3614555252010125, -0.35869070152223503, -0.3679614191110162, -0.3316875055593483, -0.3545488312986117, -0.25346077387293636, -0.45276255573722585, -0.010874688232942584, -0.2324239891674203, -0.11563445636191068, -0.4915821226400368, -0.4608256571762814, -0.2928884255237171, -0.1604033129442764], \"y\": [0.27144829416179356, -0.00018694077253668124, -0.010476510476100546, 0.2686043070172626, -0.0863821721219822, 0.028013113095586007, 0.23353484296985724, 0.31221839995192496, 0.08775162287004494, 0.0745927493185183, -0.048542578629085155, 0.32392446465056185, 0.4721782082790791, 0.2631936842292491, 0.4814454224633712, -0.1164861188138504, -0.048542578629085155, -0.03178932623135724, 0.2835277709969662, 0.3092878876546906, 0.29811949305122987, 0.3259956090607312, 0.014723769412656504, 0.04428380443636483, 0.7154201209074937, 0.1057702949690482, 0.7875566116411349, 0.09416199566809222, -0.048542578629085155, 0.2005116194414536, 0.009665408982614573], \"type\": \"scattergl\", \"uid\": \"b5d520ae-bfa9-46f0-8164-e6447e273eea\"}, {\"marker\": {\"opacity\": 0.75}, \"mode\": \"markers\", \"name\": \"Cluster_3\", \"text\": [\"Customer Name: Adams\", \"Customer Name: Bailey\", \"Customer Name: Bennett\", \"Customer Name: Brown\", \"Customer Name: Carter\", \"Customer Name: Cruz\", \"Customer Name: Diaz\", \"Customer Name: Green\", \"Customer Name: Gutierrez\", \"Customer Name: Hill\", \"Customer Name: Hughes\", \"Customer Name: James\", \"Customer Name: King\", \"Customer Name: Lewis\", \"Customer Name: Long\", \"Customer Name: Morgan\", \"Customer Name: Murphy\", \"Customer Name: Myers\", \"Customer Name: Perez\", \"Customer Name: Perry\", \"Customer Name: Rivera\", \"Customer Name: Robinson\", \"Customer Name: Stewart\", \"Customer Name: Sullivan\", \"Customer Name: Taylor\", \"Customer Name: Walker\", \"Customer Name: Watson\", \"Customer Name: Wilson\"], \"x\": [-1.681139796999947, -1.5124537449953586, -1.5270242599224466, -1.6765910532334558, -1.7422266237492765, -1.5651821970346507, -1.7711364711173812, -1.3797503899992292, -1.3647891209555443, -1.6771834771615959, -1.8367720416332018, -1.788592333360401, -1.7254808687184433, -1.606999162879284, -1.3131959355773473, -1.5270242599224466, -1.3649276177342524, -1.5170024887618498, -1.5170024887618498, -1.7756852148838724, -1.4957079899645256, -1.5438876982373264, -1.659727614918576, -1.5444801221654663, -1.7925486531987522, -1.5484364420038175, -1.5438876982373264, -1.4955903066804788], \"y\": [-0.24008590572354477, -0.24485766325418173, -0.11818314399477205, -0.3984023544453802, -0.4933901353486292, -0.10907737410002823, -0.6832049672717677, 0.030839179677461814, -0.30719116835490173, -0.4663316082619825, -0.7781927481750167, -0.7556565886073346, -0.3487018240405022, -0.5296602760805692, -0.13495278077130396, -0.11818314399477205, 0.04615725796418511, -0.0865412145323463, -0.0865412145323463, -0.5248885185499321, -0.10016935194605477, -0.12270551151373672, -0.39387998692641557, -0.19063476533033902, -0.5294108860688967, 0.03561093720809875, -0.12270551151373672, -0.24033529573521706], \"type\": \"scattergl\", \"uid\": \"2462ab4c-f680-4148-bd9c-8e17a927fa24\"}], {\"hovermode\": \"closest\", \"title\": {\"text\": \"PCA vs. Clusters\"}, \"xaxis\": {\"title\": {\"text\": \"PCA1\"}}, \"yaxis\": {\"title\": {\"text\": \"PCA2\"}}}, {\"showLink\": false, \"linkText\": \"Export to plot.ly\", \"plotlyServerURL\": \"https://plot.ly\"})});</script><script type=\"text/javascript\">window.addEventListener(\"resize\", function(){window._Plotly.Plots.resize(document.getElementById(\"68bee2fb-3a39-4cba-b13a-74070c7ef645\"));});</script>"
      ]
     },
     "metadata": {},
     "output_type": "display_data"
    }
   ],
   "source": [
    "kmeans_cluster=KMeans(n_clusters=4,random_state=1)\n",
    "plot_pca(pivot_transactions, X_matrix, kmeans_cluster)"
   ]
  },
  {
   "cell_type": "markdown",
   "metadata": {},
   "source": [
    "What we've done is we've taken those columns of 0/1 indicator variables, and we've transformed them into a 2-D dataset. We took one column and arbitrarily called it `x` and then called the other `y`. Now we can throw each point into a scatterplot. We color coded each point based on it's cluster so it's easier to see them."
   ]
  },
  {
   "cell_type": "markdown",
   "metadata": {},
   "source": [
    "<div class=\"span5 alert alert-info\">\n",
    "<h3>Exercise Set V</h3>\n",
    "\n",
    "<p>As we saw earlier, PCA has a lot of other uses. Since we wanted to visualize our data in 2 dimensions, restricted the number of dimensions to 2 in PCA. But what is the true optimal number of dimensions?</p>\n",
    "\n",
    "<p><b>Exercise:</b> Using a new PCA object shown in the next cell, plot the `explained_variance_` field and look for the elbow point, the point where the curve's rate of descent seems to slow sharply. This value is one possible value for the optimal number of dimensions. What is it?</p>\n",
    "</div>"
   ]
  },
  {
   "cell_type": "code",
   "execution_count": 17,
   "metadata": {},
   "outputs": [
    {
     "data": {
      "application/vnd.plotly.v1+json": {
       "config": {
        "linkText": "Export to plot.ly",
        "plotlyServerURL": "https://plot.ly",
        "showLink": false
       },
       "data": [
        {
         "type": "scatter",
         "uid": "4e13174d-47eb-44b0-b6bf-b2d6191b87a9",
         "x": [
          0,
          1,
          2,
          3,
          4,
          5,
          6,
          7,
          8,
          9,
          10,
          11,
          12,
          13,
          14,
          15,
          16,
          17,
          18,
          19,
          20,
          21,
          22,
          23,
          24,
          25,
          26,
          27,
          28,
          29,
          30,
          31
         ],
         "y": [
          0.14386392674547946,
          0.10800289324226514,
          0.07104280688341304,
          0.058661509744509024,
          0.0527318051950366,
          0.050373511067649396,
          0.04853032225182687,
          0.04281791951282171,
          0.040864880487323264,
          0.037943342302454046,
          0.03490044268503933,
          0.03334871121291478,
          0.030519505315130445,
          0.025484820035082158,
          0.023213411874493398,
          0.021933375934186254,
          0.01978731651450311,
          0.018709191924662312,
          0.01660699841945,
          0.015430904591980108,
          0.013697834114867953,
          0.012733329551034824,
          0.012136065184958635,
          0.011361262963538999,
          0.010327156872151584,
          0.009194887340905483,
          0.008106013492023521,
          0.007524675857213538,
          0.006607258800849567,
          0.005803459151993963,
          0.005008602013829498,
          0.002731858716412023
         ]
        }
       ],
       "layout": {
        "title": {
         "text": "Looking for Elbow Point"
        },
        "xaxis": {
         "title": {
          "text": "K"
         }
        },
        "yaxis": {
         "title": {
          "text": "Explained Variance"
         }
        }
       }
      },
      "text/html": [
       "<div id=\"c07040df-c1bb-4e32-8749-cf9fe2545a0c\" style=\"height: 525px; width: 100%;\" class=\"plotly-graph-div\"></div><script type=\"text/javascript\">require([\"plotly\"], function(Plotly) { window.PLOTLYENV=window.PLOTLYENV || {};window.PLOTLYENV.BASE_URL=\"https://plot.ly\";Plotly.newPlot(\"c07040df-c1bb-4e32-8749-cf9fe2545a0c\", [{\"x\": [0, 1, 2, 3, 4, 5, 6, 7, 8, 9, 10, 11, 12, 13, 14, 15, 16, 17, 18, 19, 20, 21, 22, 23, 24, 25, 26, 27, 28, 29, 30, 31], \"y\": [0.14386392674547946, 0.10800289324226514, 0.07104280688341304, 0.058661509744509024, 0.0527318051950366, 0.050373511067649396, 0.04853032225182687, 0.04281791951282171, 0.040864880487323264, 0.037943342302454046, 0.03490044268503933, 0.03334871121291478, 0.030519505315130445, 0.025484820035082158, 0.023213411874493398, 0.021933375934186254, 0.01978731651450311, 0.018709191924662312, 0.01660699841945, 0.015430904591980108, 0.013697834114867953, 0.012733329551034824, 0.012136065184958635, 0.011361262963538999, 0.010327156872151584, 0.009194887340905483, 0.008106013492023521, 0.007524675857213538, 0.006607258800849567, 0.005803459151993963, 0.005008602013829498, 0.002731858716412023], \"type\": \"scatter\", \"uid\": \"2919f5f9-b155-4012-aace-cb2f53494843\"}], {\"title\": {\"text\": \"Looking for Elbow Point\"}, \"xaxis\": {\"title\": {\"text\": \"K\"}}, \"yaxis\": {\"title\": {\"text\": \"Explained Variance\"}}}, {\"showLink\": false, \"linkText\": \"Export to plot.ly\", \"plotlyServerURL\": \"https://plot.ly\"})});</script><script type=\"text/javascript\">window.addEventListener(\"resize\", function(){window._Plotly.Plots.resize(document.getElementById(\"c07040df-c1bb-4e32-8749-cf9fe2545a0c\"));});</script>"
      ],
      "text/vnd.plotly.v1+html": [
       "<div id=\"c07040df-c1bb-4e32-8749-cf9fe2545a0c\" style=\"height: 525px; width: 100%;\" class=\"plotly-graph-div\"></div><script type=\"text/javascript\">require([\"plotly\"], function(Plotly) { window.PLOTLYENV=window.PLOTLYENV || {};window.PLOTLYENV.BASE_URL=\"https://plot.ly\";Plotly.newPlot(\"c07040df-c1bb-4e32-8749-cf9fe2545a0c\", [{\"x\": [0, 1, 2, 3, 4, 5, 6, 7, 8, 9, 10, 11, 12, 13, 14, 15, 16, 17, 18, 19, 20, 21, 22, 23, 24, 25, 26, 27, 28, 29, 30, 31], \"y\": [0.14386392674547946, 0.10800289324226514, 0.07104280688341304, 0.058661509744509024, 0.0527318051950366, 0.050373511067649396, 0.04853032225182687, 0.04281791951282171, 0.040864880487323264, 0.037943342302454046, 0.03490044268503933, 0.03334871121291478, 0.030519505315130445, 0.025484820035082158, 0.023213411874493398, 0.021933375934186254, 0.01978731651450311, 0.018709191924662312, 0.01660699841945, 0.015430904591980108, 0.013697834114867953, 0.012733329551034824, 0.012136065184958635, 0.011361262963538999, 0.010327156872151584, 0.009194887340905483, 0.008106013492023521, 0.007524675857213538, 0.006607258800849567, 0.005803459151993963, 0.005008602013829498, 0.002731858716412023], \"type\": \"scatter\", \"uid\": \"2919f5f9-b155-4012-aace-cb2f53494843\"}], {\"title\": {\"text\": \"Looking for Elbow Point\"}, \"xaxis\": {\"title\": {\"text\": \"K\"}}, \"yaxis\": {\"title\": {\"text\": \"Explained Variance\"}}}, {\"showLink\": false, \"linkText\": \"Export to plot.ly\", \"plotlyServerURL\": \"https://plot.ly\"})});</script><script type=\"text/javascript\">window.addEventListener(\"resize\", function(){window._Plotly.Plots.resize(document.getElementById(\"c07040df-c1bb-4e32-8749-cf9fe2545a0c\"));});</script>"
      ]
     },
     "metadata": {},
     "output_type": "display_data"
    }
   ],
   "source": [
    "import sklearn.decomposition\n",
    "pca = sklearn.decomposition.PCA()\n",
    "a=pca.fit(X_matrix).explained_variance_ratio_\n",
    "series_dict=dict(pd.Series(a))\n",
    "y_vals=list(series_dict.values())\n",
    "x_vals=list(series_dict.keys())\n",
    "\n",
    "trace = go.Scatter(x = x_vals,y = y_vals)\n",
    "data = [trace]\n",
    "\n",
    "layout = dict(title = 'Looking for Elbow Point',\n",
    "              xaxis = dict(title = 'K'),\n",
    "              yaxis = dict(title = 'Explained Variance'))\n",
    "\n",
    "fig = dict(data=data, layout=layout)\n",
    "py.iplot(fig, filename='styled-line')"
   ]
  },
  {
   "cell_type": "markdown",
   "metadata": {},
   "source": [
    "## Other Clustering Algorithms\n",
    "\n",
    "k-means is only one of a ton of clustering algorithms. Below is a brief description of several clustering algorithms, and the table provides references to the other clustering algorithms in scikit-learn. \n",
    "\n",
    "* **Affinity Propagation** does not require the number of clusters $K$ to be known in advance! AP uses a \"message passing\" paradigm to cluster points based on their similarity. \n",
    "\n",
    "* **Spectral Clustering** uses the eigenvalues of a similarity matrix to reduce the dimensionality of the data before clustering in a lower dimensional space. This is tangentially similar to what we did to visualize k-means clusters using PCA. The number of clusters must be known a priori.\n",
    "\n",
    "* **Ward's Method** applies to hierarchical clustering. Hierarchical clustering algorithms take a set of data and successively divide the observations into more and more clusters at each layer of the hierarchy. Ward's method is used to determine when two clusters in the hierarchy should be combined into one. It is basically an extension of hierarchical clustering. Hierarchical clustering is *divisive*, that is, all observations are part of the same cluster at first, and at each successive iteration, the clusters are made smaller and smaller. With hierarchical clustering, a hierarchy is constructed, and there is not really the concept of \"number of clusters.\" The number of clusters simply determines how low or how high in the hierarchy we reference and can be determined empirically or by looking at the [dendogram](https://docs.scipy.org/doc/scipy-0.18.1/reference/generated/scipy.cluster.hierarchy.dendrogram.html).\n",
    "\n",
    "* **Agglomerative Clustering** is similar to hierarchical clustering but but is not divisive, it is *agglomerative*. That is, every observation is placed into its own cluster and at each iteration or level or the hierarchy, observations are merged into fewer and fewer clusters until convergence. Similar to hierarchical clustering, the constructed hierarchy contains all possible numbers of clusters and it is up to the analyst to pick the number by reviewing statistics or the dendogram.\n",
    "\n",
    "* **DBSCAN** is based on point density rather than distance. It groups together points with many nearby neighbors. DBSCAN is one of the most cited algorithms in the literature. It does not require knowing the number of clusters a priori, but does require specifying the neighborhood size."
   ]
  },
  {
   "cell_type": "markdown",
   "metadata": {},
   "source": [
    "### Clustering Algorithms in Scikit-learn\n",
    "<table border=\"1\">\n",
    "<colgroup>\n",
    "<col width=\"15%\" />\n",
    "<col width=\"16%\" />\n",
    "<col width=\"20%\" />\n",
    "<col width=\"27%\" />\n",
    "<col width=\"22%\" />\n",
    "</colgroup>\n",
    "<thead valign=\"bottom\">\n",
    "<tr><th>Method name</th>\n",
    "<th>Parameters</th>\n",
    "<th>Scalability</th>\n",
    "<th>Use Case</th>\n",
    "<th>Geometry (metric used)</th>\n",
    "</tr>\n",
    "</thead>\n",
    "<tbody valign=\"top\">\n",
    "<tr><td>K-Means</span></a></td>\n",
    "<td>number of clusters</td>\n",
    "<td>Very large<span class=\"pre\">n_samples</span>, medium <span class=\"pre\">n_clusters</span> with\n",
    "MiniBatch code</td>\n",
    "<td>General-purpose, even cluster size, flat geometry, not too many clusters</td>\n",
    "<td>Distances between points</td>\n",
    "</tr>\n",
    "<tr><td>Affinity propagation</td>\n",
    "<td>damping, sample preference</td>\n",
    "<td>Not scalable with n_samples</td>\n",
    "<td>Many clusters, uneven cluster size, non-flat geometry</td>\n",
    "<td>Graph distance (e.g. nearest-neighbor graph)</td>\n",
    "</tr>\n",
    "<tr><td>Mean-shift</td>\n",
    "<td>bandwidth</td>\n",
    "<td>Not scalable with <span class=\"pre\">n_samples</span></td>\n",
    "<td>Many clusters, uneven cluster size, non-flat geometry</td>\n",
    "<td>Distances between points</td>\n",
    "</tr>\n",
    "<tr><td>Spectral clustering</td>\n",
    "<td>number of clusters</td>\n",
    "<td>Medium <span class=\"pre\">n_samples</span>, small <span class=\"pre\">n_clusters</span></td>\n",
    "<td>Few clusters, even cluster size, non-flat geometry</td>\n",
    "<td>Graph distance (e.g. nearest-neighbor graph)</td>\n",
    "</tr>\n",
    "<tr><td>Ward hierarchical clustering</td>\n",
    "<td>number of clusters</td>\n",
    "<td>Large <span class=\"pre\">n_samples</span> and <span class=\"pre\">n_clusters</span></td>\n",
    "<td>Many clusters, possibly connectivity constraints</td>\n",
    "<td>Distances between points</td>\n",
    "</tr>\n",
    "<tr><td>Agglomerative clustering</td>\n",
    "<td>number of clusters, linkage type, distance</td>\n",
    "<td>Large <span class=\"pre\">n_samples</span> and <span class=\"pre\">n_clusters</span></td>\n",
    "<td>Many clusters, possibly connectivity constraints, non Euclidean\n",
    "distances</td>\n",
    "<td>Any pairwise distance</td>\n",
    "</tr>\n",
    "<tr><td>DBSCAN</td>\n",
    "<td>neighborhood size</td>\n",
    "<td>Very large <span class=\"pre\">n_samples</span>, medium <span class=\"pre\">n_clusters</span></td>\n",
    "<td>Non-flat geometry, uneven cluster sizes</td>\n",
    "<td>Distances between nearest points</td>\n",
    "</tr>\n",
    "<tr><td>Gaussian mixtures</td>\n",
    "<td>many</td>\n",
    "<td>Not scalable</td>\n",
    "<td>Flat geometry, good for density estimation</td>\n",
    "<td>Mahalanobis distances to  centers</td>\n",
    "</tr>\n",
    "<tr><td>Birch</td>\n",
    "<td>branching factor, threshold, optional global clusterer.</td>\n",
    "<td>Large <span class=\"pre\">n_clusters</span> and <span class=\"pre\">n_samples</span></td>\n",
    "<td>Large dataset, outlier removal, data reduction.</td>\n",
    "<td>Euclidean distance between points</td>\n",
    "</tr>\n",
    "</tbody>\n",
    "</table>\n",
    "Source: http://scikit-learn.org/stable/modules/clustering.html"
   ]
  },
  {
   "cell_type": "markdown",
   "metadata": {},
   "source": [
    "<div class=\"span5 alert alert-info\">\n",
    "<h3>Exercise Set VI</h3>\n",
    "\n",
    "<p><b>Exercise:</b> Try clustering using the following algorithms. </p>\n",
    "<ol>\n",
    "<li>Affinity propagation\n",
    "<li>Spectral clustering\n",
    "<li>Agglomerative clustering\n",
    "<li>DBSCAN\n",
    "</ol>\n",
    "<p>How do their results compare? Which performs the best? Tell a story why you think it performs the best.</p>\n",
    "</div>\n"
   ]
  },
  {
   "cell_type": "code",
   "execution_count": 28,
   "metadata": {},
   "outputs": [
    {
     "data": {
      "text/plain": [
       "AffinityPropagation(affinity='euclidean', convergence_iter=15, copy=True,\n",
       "          damping=0.5, max_iter=200, preference=None, verbose=False)"
      ]
     },
     "execution_count": 28,
     "metadata": {},
     "output_type": "execute_result"
    }
   ],
   "source": [
    "#Affinity Propagation with PCA\n",
    "AP=AffinityPropagation()\n",
    "AP.fit(pivot_transactions)"
   ]
  },
  {
   "cell_type": "code",
   "execution_count": 19,
   "metadata": {},
   "outputs": [
    {
     "data": {
      "text/plain": [
       "12"
      ]
     },
     "execution_count": 19,
     "metadata": {},
     "output_type": "execute_result"
    }
   ],
   "source": [
    "##Estimated number of clusters\n",
    "len(AP.cluster_centers_indices_)"
   ]
  },
  {
   "cell_type": "code",
   "execution_count": 20,
   "metadata": {},
   "outputs": [
    {
     "data": {
      "application/vnd.plotly.v1+json": {
       "config": {
        "linkText": "Export to plot.ly",
        "plotlyServerURL": "https://plot.ly",
        "showLink": false
       },
       "data": [
        {
         "marker": {
          "opacity": 0.75
         },
         "mode": "markers",
         "name": "Cluster_0",
         "text": [
          "Customer Name: Adams",
          "Customer Name: Cruz",
          "Customer Name: Hernandez",
          "Customer Name: King",
          "Customer Name: Myers",
          "Customer Name: Perez",
          "Customer Name: Perry",
          "Customer Name: Taylor",
          "Customer Name: Walker"
         ],
         "type": "scattergl",
         "uid": "136253aa-4401-4c0f-9cea-0201f0fa2b09",
         "x": [
          -1.681139796999947,
          -1.5651821970346507,
          -0.5162355489846766,
          -1.7254808687184433,
          -1.5170024887618498,
          -1.5170024887618498,
          -1.7756852148838724,
          -1.7925486531987522,
          -1.5484364420038175
         ],
         "y": [
          -0.24008590572354477,
          -0.10907737410002823,
          0.0745927493185183,
          -0.3487018240405022,
          -0.0865412145323463,
          -0.0865412145323463,
          -0.5248885185499321,
          -0.5294108860688967,
          0.03561093720809875
         ]
        },
        {
         "marker": {
          "opacity": 0.75
         },
         "mode": "markers",
         "name": "Cluster_1",
         "text": [
          "Customer Name: Davis",
          "Customer Name: Martinez",
          "Customer Name: White"
         ],
         "type": "scattergl",
         "uid": "b00b364a-367e-4af7-afa8-61871d87b44e",
         "x": [
          1.6895973225368945,
          -0.32352727885540855,
          1.5690743912386753
         ],
         "y": [
          -0.23917111050854517,
          0.2631936842292491,
          -0.5155943096726483
         ]
        },
        {
         "marker": {
          "opacity": 0.75
         },
         "mode": "markers",
         "name": "Cluster_2",
         "text": [
          "Customer Name: Brown",
          "Customer Name: Carter",
          "Customer Name: Diaz",
          "Customer Name: Hughes",
          "Customer Name: Lewis",
          "Customer Name: Stewart"
         ],
         "type": "scattergl",
         "uid": "ac87a61c-ae9d-4da5-9076-c68d5574283c",
         "x": [
          -1.6765910532334558,
          -1.7422266237492765,
          -1.7711364711173812,
          -1.8367720416332018,
          -1.606999162879284,
          -1.659727614918576
         ],
         "y": [
          -0.3984023544453802,
          -0.4933901353486292,
          -0.6832049672717677,
          -0.7781927481750167,
          -0.5296602760805692,
          -0.39387998692641557
         ]
        },
        {
         "marker": {
          "opacity": 0.75
         },
         "mode": "markers",
         "name": "Cluster_3",
         "text": [
          "Customer Name: Bailey",
          "Customer Name: Baker",
          "Customer Name: Cooper",
          "Customer Name: Green",
          "Customer Name: Long",
          "Customer Name: Murphy",
          "Customer Name: Rivera",
          "Customer Name: Robinson",
          "Customer Name: Rogers",
          "Customer Name: Ross",
          "Customer Name: Watson"
         ],
         "type": "scattergl",
         "uid": "831183d6-9caf-40bf-b34b-7c9d957c0181",
         "x": [
          -1.5124537449953586,
          1.5004222067226338,
          -0.26098275212325583,
          -1.3797503899992292,
          -1.3131959355773473,
          -1.3649276177342524,
          -1.4957079899645256,
          -1.5438876982373264,
          1.5710411435946279,
          -0.45276255573722585,
          -1.5438876982373264
         ],
         "y": [
          -0.24485766325418173,
          -0.6233743520494789,
          0.2686043070172626,
          0.030839179677461814,
          -0.13495278077130396,
          0.04615725796418511,
          -0.10016935194605477,
          -0.12270551151373672,
          -1.1565694929732575,
          0.04428380443636483,
          -0.12270551151373672
         ]
        },
        {
         "marker": {
          "opacity": 0.75
         },
         "mode": "markers",
         "name": "Cluster_4",
         "text": [
          "Customer Name: Brooks",
          "Customer Name: Collins",
          "Customer Name: Evans",
          "Customer Name: Gomez",
          "Customer Name: Hall",
          "Customer Name: Howard",
          "Customer Name: Jackson"
         ],
         "type": "scattergl",
         "uid": "7af13cb6-ccc5-4f4a-8d41-40b3d133793e",
         "x": [
          1.6562437575624354,
          -0.4551602695652739,
          1.7167499951734102,
          -0.27213751338340375,
          1.7048496853689354,
          1.7196724576339122,
          1.8420359654053962
         ],
         "y": [
          -0.6461066280057365,
          -0.010476510476100546,
          -0.31206694772097454,
          0.31221839995192496,
          -0.2452670559698367,
          -0.2299489776831134,
          -0.017398580985476256
         ]
        },
        {
         "marker": {
          "opacity": 0.75
         },
         "mode": "markers",
         "name": "Cluster_5",
         "text": [
          "Customer Name: Hill",
          "Customer Name: James",
          "Customer Name: Sullivan"
         ],
         "type": "scattergl",
         "uid": "df07232a-cb30-40d0-9793-3db593ea66a7",
         "x": [
          -1.6771834771615959,
          -1.788592333360401,
          -1.5444801221654663
         ],
         "y": [
          -0.4663316082619825,
          -0.7556565886073346,
          -0.19063476533033902
         ]
        },
        {
         "marker": {
          "opacity": 0.75
         },
         "mode": "markers",
         "name": "Cluster_6",
         "text": [
          "Customer Name: Anderson",
          "Customer Name: Bell",
          "Customer Name: Cook",
          "Customer Name: Cox",
          "Customer Name: Flores",
          "Customer Name: Jenkins",
          "Customer Name: Johnson",
          "Customer Name: Moore",
          "Customer Name: Morris",
          "Customer Name: Phillips"
         ],
         "type": "scattergl",
         "uid": "f1875baa-e5b1-435f-bca2-a9b620a154f7",
         "x": [
          0.6489070049350057,
          0.7249763799527564,
          0.6489070049350057,
          0.7249763799527564,
          0.6158560286719198,
          0.6489070049350057,
          0.6785253563449715,
          0.6158560286719198,
          0.6785253563449715,
          0.6158560286719198
         ],
         "y": [
          0.9894184124757096,
          1.446582403764448,
          0.9894184124757096,
          1.446582403764448,
          0.7911417345784854,
          0.9894184124757096,
          1.2315019342533262,
          0.7911417345784854,
          1.2315019342533262,
          0.7911417345784854
         ]
        },
        {
         "marker": {
          "opacity": 0.75
         },
         "mode": "markers",
         "name": "Cluster_7",
         "text": [
          "Customer Name: Bennett",
          "Customer Name: Edwards",
          "Customer Name: Gutierrez",
          "Customer Name: Jones",
          "Customer Name: Morales",
          "Customer Name: Morgan",
          "Customer Name: Nelson",
          "Customer Name: Ortiz",
          "Customer Name: Torres",
          "Customer Name: Ward",
          "Customer Name: Wilson"
         ],
         "type": "scattergl",
         "uid": "009e3613-1d0c-44a3-b3c4-2070bf361cbf",
         "x": [
          -1.5270242599224466,
          -0.4051020226485951,
          -1.3647891209555443,
          -0.4608256571762814,
          1.7018863017658405,
          -1.5270242599224466,
          1.575447701105338,
          -0.4608256571762814,
          -0.4608256571762814,
          -0.2928884255237171,
          -1.4955903066804788
         ],
         "y": [
          -0.11818314399477205,
          -0.0863821721219822,
          -0.30719116835490173,
          -0.048542578629085155,
          -1.3628902830995282,
          -0.11818314399477205,
          -0.5896724690301154,
          -0.048542578629085155,
          -0.048542578629085155,
          0.2005116194414536,
          -0.24033529573521706
         ]
        },
        {
         "marker": {
          "opacity": 0.75
         },
         "mode": "markers",
         "name": "Cluster_8",
         "text": [
          "Customer Name: Harris",
          "Customer Name: Lee",
          "Customer Name: Richardson",
          "Customer Name: Wright"
         ],
         "type": "scattergl",
         "uid": "5aab75ed-8420-47b1-b402-df9998a39097",
         "x": [
          1.8127277025266715,
          1.9295217653691188,
          1.8004063170727935,
          1.689873547890176
         ],
         "y": [
          -0.9301394137372403,
          -0.6256415043748939,
          -0.5520534961261483,
          -0.22789310652844585
         ]
        },
        {
         "marker": {
          "opacity": 0.75
         },
         "mode": "markers",
         "name": "Cluster_9",
         "text": [
          "Customer Name: Butler",
          "Customer Name: Fisher",
          "Customer Name: Price"
         ],
         "type": "scattergl",
         "uid": "769c206c-7ccf-48be-a963-22fad47aa6ee",
         "x": [
          1.6613361185853266,
          1.7910381185671038,
          1.6865817716903306
         ],
         "y": [
          -0.5636902868482075,
          -0.5054373691076424,
          -0.7413555431894192
         ]
        },
        {
         "marker": {
          "opacity": 0.75
         },
         "mode": "markers",
         "name": "Cluster_10",
         "text": [
          "Customer Name: Allen",
          "Customer Name: Foster",
          "Customer Name: Lopez",
          "Customer Name: Ramirez",
          "Customer Name: Reyes",
          "Customer Name: Sanders",
          "Customer Name: Thomas",
          "Customer Name: Thompson"
         ],
         "type": "scattergl",
         "uid": "32939aa1-cfc2-4279-bba2-c2dbc0fb02cc",
         "x": [
          -0.31223778458332985,
          -0.05892232379246432,
          -0.22778404221184426,
          -0.3679614191110162,
          -0.3545488312986117,
          -0.010874688232942584,
          -0.11563445636191068,
          -0.4915821226400368
         ],
         "y": [
          0.27144829416179356,
          0.028013113095586007,
          0.32392446465056185,
          0.3092878876546906,
          0.3259956090607312,
          0.7154201209074937,
          0.7875566116411349,
          0.09416199566809222
         ]
        },
        {
         "marker": {
          "opacity": 0.75
         },
         "mode": "markers",
         "name": "Cluster_11",
         "text": [
          "Customer Name: Garcia",
          "Customer Name: Powell",
          "Customer Name: Reed",
          "Customer Name: Sanchez",
          "Customer Name: Scott"
         ],
         "type": "scattergl",
         "uid": "7c1aa668-8234-40dc-aac1-5df5ae921af8",
         "x": [
          -0.2939810875221101,
          -0.35869070152223503,
          -0.3316875055593483,
          1.8939609619736764,
          -0.2324239891674203
         ],
         "y": [
          0.23353484296985724,
          0.2835277709969662,
          0.29811949305122987,
          0.2121654880398416,
          0.1057702949690482
         ]
        },
        {
         "marker": {
          "opacity": 0.75
         },
         "mode": "markers",
         "name": "Cluster_12",
         "text": [
          "Customer Name: Barnes",
          "Customer Name: Clark",
          "Customer Name: Gonzalez",
          "Customer Name: Kelly",
          "Customer Name: Miller",
          "Customer Name: Nguyen",
          "Customer Name: Parker",
          "Customer Name: Roberts",
          "Customer Name: Turner",
          "Customer Name: Williams",
          "Customer Name: Wood",
          "Customer Name: Young"
         ],
         "type": "scattergl",
         "uid": "8bbf5783-276f-47ef-b374-f9d6c4e0e2f8",
         "x": [
          1.8239360739300268,
          -0.12206363683530895,
          -0.2551419536915965,
          1.6806734930523903,
          1.9736129963418954,
          -0.2129064904391535,
          -0.3614555252010125,
          -0.25346077387293636,
          1.7732177297891691,
          1.657888226099847,
          -0.1604033129442764,
          1.930487509617139
         ],
         "y": [
          -0.6064863183893973,
          -0.00018694077253668124,
          0.08775162287004494,
          -0.28761376286335216,
          -0.693325272761939,
          -0.1164861188138504,
          -0.03178932623135724,
          0.014723769412656504,
          -0.3884616731756707,
          -0.6267721506362398,
          0.009665408982614573,
          -0.6118204712387366
         ]
        },
        {
         "marker": {
          "opacity": 0.75
         },
         "mode": "markers",
         "name": "Cluster_13",
         "text": [
          "Customer Name: Campbell",
          "Customer Name: Gray",
          "Customer Name: Martin",
          "Customer Name: Mitchell",
          "Customer Name: Peterson",
          "Customer Name: Rodriguez",
          "Customer Name: Russell",
          "Customer Name: Smith"
         ],
         "type": "scattergl",
         "uid": "ee726598-6e1b-482f-ac92-6491c1f7a0f7",
         "x": [
          0.6953580285427906,
          0.6086076169946548,
          -0.2618238924155828,
          -0.27438991506325466,
          0.7800918938024124,
          0.6449014064965484,
          0.5984503828887634,
          0.6326887008697389
         ],
         "y": [
          1.2044988819868312,
          0.6488669718455907,
          0.4721782082790791,
          0.4814454224633712,
          0.7670146229865908,
          0.8077965775577528,
          0.5927161080466313,
          0.7641386823119903
         ]
        }
       ],
       "layout": {
        "hovermode": "closest",
        "title": {
         "text": "PCA vs. Clusters"
        },
        "xaxis": {
         "title": {
          "text": "PCA1"
         }
        },
        "yaxis": {
         "title": {
          "text": "PCA2"
         }
        }
       }
      },
      "text/html": [
       "<div id=\"04fa7d13-103f-44af-8450-7852048752c6\" style=\"height: 525px; width: 100%;\" class=\"plotly-graph-div\"></div><script type=\"text/javascript\">require([\"plotly\"], function(Plotly) { window.PLOTLYENV=window.PLOTLYENV || {};window.PLOTLYENV.BASE_URL=\"https://plot.ly\";Plotly.newPlot(\"04fa7d13-103f-44af-8450-7852048752c6\", [{\"marker\": {\"opacity\": 0.75}, \"mode\": \"markers\", \"name\": \"Cluster_0\", \"text\": [\"Customer Name: Adams\", \"Customer Name: Cruz\", \"Customer Name: Hernandez\", \"Customer Name: King\", \"Customer Name: Myers\", \"Customer Name: Perez\", \"Customer Name: Perry\", \"Customer Name: Taylor\", \"Customer Name: Walker\"], \"x\": [-1.681139796999947, -1.5651821970346507, -0.5162355489846766, -1.7254808687184433, -1.5170024887618498, -1.5170024887618498, -1.7756852148838724, -1.7925486531987522, -1.5484364420038175], \"y\": [-0.24008590572354477, -0.10907737410002823, 0.0745927493185183, -0.3487018240405022, -0.0865412145323463, -0.0865412145323463, -0.5248885185499321, -0.5294108860688967, 0.03561093720809875], \"type\": \"scattergl\", \"uid\": \"136253aa-4401-4c0f-9cea-0201f0fa2b09\"}, {\"marker\": {\"opacity\": 0.75}, \"mode\": \"markers\", \"name\": \"Cluster_1\", \"text\": [\"Customer Name: Davis\", \"Customer Name: Martinez\", \"Customer Name: White\"], \"x\": [1.6895973225368945, -0.32352727885540855, 1.5690743912386753], \"y\": [-0.23917111050854517, 0.2631936842292491, -0.5155943096726483], \"type\": \"scattergl\", \"uid\": \"b00b364a-367e-4af7-afa8-61871d87b44e\"}, {\"marker\": {\"opacity\": 0.75}, \"mode\": \"markers\", \"name\": \"Cluster_2\", \"text\": [\"Customer Name: Brown\", \"Customer Name: Carter\", \"Customer Name: Diaz\", \"Customer Name: Hughes\", \"Customer Name: Lewis\", \"Customer Name: Stewart\"], \"x\": [-1.6765910532334558, -1.7422266237492765, -1.7711364711173812, -1.8367720416332018, -1.606999162879284, -1.659727614918576], \"y\": [-0.3984023544453802, -0.4933901353486292, -0.6832049672717677, -0.7781927481750167, -0.5296602760805692, -0.39387998692641557], \"type\": \"scattergl\", \"uid\": \"ac87a61c-ae9d-4da5-9076-c68d5574283c\"}, {\"marker\": {\"opacity\": 0.75}, \"mode\": \"markers\", \"name\": \"Cluster_3\", \"text\": [\"Customer Name: Bailey\", \"Customer Name: Baker\", \"Customer Name: Cooper\", \"Customer Name: Green\", \"Customer Name: Long\", \"Customer Name: Murphy\", \"Customer Name: Rivera\", \"Customer Name: Robinson\", \"Customer Name: Rogers\", \"Customer Name: Ross\", \"Customer Name: Watson\"], \"x\": [-1.5124537449953586, 1.5004222067226338, -0.26098275212325583, -1.3797503899992292, -1.3131959355773473, -1.3649276177342524, -1.4957079899645256, -1.5438876982373264, 1.5710411435946279, -0.45276255573722585, -1.5438876982373264], \"y\": [-0.24485766325418173, -0.6233743520494789, 0.2686043070172626, 0.030839179677461814, -0.13495278077130396, 0.04615725796418511, -0.10016935194605477, -0.12270551151373672, -1.1565694929732575, 0.04428380443636483, -0.12270551151373672], \"type\": \"scattergl\", \"uid\": \"831183d6-9caf-40bf-b34b-7c9d957c0181\"}, {\"marker\": {\"opacity\": 0.75}, \"mode\": \"markers\", \"name\": \"Cluster_4\", \"text\": [\"Customer Name: Brooks\", \"Customer Name: Collins\", \"Customer Name: Evans\", \"Customer Name: Gomez\", \"Customer Name: Hall\", \"Customer Name: Howard\", \"Customer Name: Jackson\"], \"x\": [1.6562437575624354, -0.4551602695652739, 1.7167499951734102, -0.27213751338340375, 1.7048496853689354, 1.7196724576339122, 1.8420359654053962], \"y\": [-0.6461066280057365, -0.010476510476100546, -0.31206694772097454, 0.31221839995192496, -0.2452670559698367, -0.2299489776831134, -0.017398580985476256], \"type\": \"scattergl\", \"uid\": \"7af13cb6-ccc5-4f4a-8d41-40b3d133793e\"}, {\"marker\": {\"opacity\": 0.75}, \"mode\": \"markers\", \"name\": \"Cluster_5\", \"text\": [\"Customer Name: Hill\", \"Customer Name: James\", \"Customer Name: Sullivan\"], \"x\": [-1.6771834771615959, -1.788592333360401, -1.5444801221654663], \"y\": [-0.4663316082619825, -0.7556565886073346, -0.19063476533033902], \"type\": \"scattergl\", \"uid\": \"df07232a-cb30-40d0-9793-3db593ea66a7\"}, {\"marker\": {\"opacity\": 0.75}, \"mode\": \"markers\", \"name\": \"Cluster_6\", \"text\": [\"Customer Name: Anderson\", \"Customer Name: Bell\", \"Customer Name: Cook\", \"Customer Name: Cox\", \"Customer Name: Flores\", \"Customer Name: Jenkins\", \"Customer Name: Johnson\", \"Customer Name: Moore\", \"Customer Name: Morris\", \"Customer Name: Phillips\"], \"x\": [0.6489070049350057, 0.7249763799527564, 0.6489070049350057, 0.7249763799527564, 0.6158560286719198, 0.6489070049350057, 0.6785253563449715, 0.6158560286719198, 0.6785253563449715, 0.6158560286719198], \"y\": [0.9894184124757096, 1.446582403764448, 0.9894184124757096, 1.446582403764448, 0.7911417345784854, 0.9894184124757096, 1.2315019342533262, 0.7911417345784854, 1.2315019342533262, 0.7911417345784854], \"type\": \"scattergl\", \"uid\": \"f1875baa-e5b1-435f-bca2-a9b620a154f7\"}, {\"marker\": {\"opacity\": 0.75}, \"mode\": \"markers\", \"name\": \"Cluster_7\", \"text\": [\"Customer Name: Bennett\", \"Customer Name: Edwards\", \"Customer Name: Gutierrez\", \"Customer Name: Jones\", \"Customer Name: Morales\", \"Customer Name: Morgan\", \"Customer Name: Nelson\", \"Customer Name: Ortiz\", \"Customer Name: Torres\", \"Customer Name: Ward\", \"Customer Name: Wilson\"], \"x\": [-1.5270242599224466, -0.4051020226485951, -1.3647891209555443, -0.4608256571762814, 1.7018863017658405, -1.5270242599224466, 1.575447701105338, -0.4608256571762814, -0.4608256571762814, -0.2928884255237171, -1.4955903066804788], \"y\": [-0.11818314399477205, -0.0863821721219822, -0.30719116835490173, -0.048542578629085155, -1.3628902830995282, -0.11818314399477205, -0.5896724690301154, -0.048542578629085155, -0.048542578629085155, 0.2005116194414536, -0.24033529573521706], \"type\": \"scattergl\", \"uid\": \"009e3613-1d0c-44a3-b3c4-2070bf361cbf\"}, {\"marker\": {\"opacity\": 0.75}, \"mode\": \"markers\", \"name\": \"Cluster_8\", \"text\": [\"Customer Name: Harris\", \"Customer Name: Lee\", \"Customer Name: Richardson\", \"Customer Name: Wright\"], \"x\": [1.8127277025266715, 1.9295217653691188, 1.8004063170727935, 1.689873547890176], \"y\": [-0.9301394137372403, -0.6256415043748939, -0.5520534961261483, -0.22789310652844585], \"type\": \"scattergl\", \"uid\": \"5aab75ed-8420-47b1-b402-df9998a39097\"}, {\"marker\": {\"opacity\": 0.75}, \"mode\": \"markers\", \"name\": \"Cluster_9\", \"text\": [\"Customer Name: Butler\", \"Customer Name: Fisher\", \"Customer Name: Price\"], \"x\": [1.6613361185853266, 1.7910381185671038, 1.6865817716903306], \"y\": [-0.5636902868482075, -0.5054373691076424, -0.7413555431894192], \"type\": \"scattergl\", \"uid\": \"769c206c-7ccf-48be-a963-22fad47aa6ee\"}, {\"marker\": {\"opacity\": 0.75}, \"mode\": \"markers\", \"name\": \"Cluster_10\", \"text\": [\"Customer Name: Allen\", \"Customer Name: Foster\", \"Customer Name: Lopez\", \"Customer Name: Ramirez\", \"Customer Name: Reyes\", \"Customer Name: Sanders\", \"Customer Name: Thomas\", \"Customer Name: Thompson\"], \"x\": [-0.31223778458332985, -0.05892232379246432, -0.22778404221184426, -0.3679614191110162, -0.3545488312986117, -0.010874688232942584, -0.11563445636191068, -0.4915821226400368], \"y\": [0.27144829416179356, 0.028013113095586007, 0.32392446465056185, 0.3092878876546906, 0.3259956090607312, 0.7154201209074937, 0.7875566116411349, 0.09416199566809222], \"type\": \"scattergl\", \"uid\": \"32939aa1-cfc2-4279-bba2-c2dbc0fb02cc\"}, {\"marker\": {\"opacity\": 0.75}, \"mode\": \"markers\", \"name\": \"Cluster_11\", \"text\": [\"Customer Name: Garcia\", \"Customer Name: Powell\", \"Customer Name: Reed\", \"Customer Name: Sanchez\", \"Customer Name: Scott\"], \"x\": [-0.2939810875221101, -0.35869070152223503, -0.3316875055593483, 1.8939609619736764, -0.2324239891674203], \"y\": [0.23353484296985724, 0.2835277709969662, 0.29811949305122987, 0.2121654880398416, 0.1057702949690482], \"type\": \"scattergl\", \"uid\": \"7c1aa668-8234-40dc-aac1-5df5ae921af8\"}, {\"marker\": {\"opacity\": 0.75}, \"mode\": \"markers\", \"name\": \"Cluster_12\", \"text\": [\"Customer Name: Barnes\", \"Customer Name: Clark\", \"Customer Name: Gonzalez\", \"Customer Name: Kelly\", \"Customer Name: Miller\", \"Customer Name: Nguyen\", \"Customer Name: Parker\", \"Customer Name: Roberts\", \"Customer Name: Turner\", \"Customer Name: Williams\", \"Customer Name: Wood\", \"Customer Name: Young\"], \"x\": [1.8239360739300268, -0.12206363683530895, -0.2551419536915965, 1.6806734930523903, 1.9736129963418954, -0.2129064904391535, -0.3614555252010125, -0.25346077387293636, 1.7732177297891691, 1.657888226099847, -0.1604033129442764, 1.930487509617139], \"y\": [-0.6064863183893973, -0.00018694077253668124, 0.08775162287004494, -0.28761376286335216, -0.693325272761939, -0.1164861188138504, -0.03178932623135724, 0.014723769412656504, -0.3884616731756707, -0.6267721506362398, 0.009665408982614573, -0.6118204712387366], \"type\": \"scattergl\", \"uid\": \"8bbf5783-276f-47ef-b374-f9d6c4e0e2f8\"}, {\"marker\": {\"opacity\": 0.75}, \"mode\": \"markers\", \"name\": \"Cluster_13\", \"text\": [\"Customer Name: Campbell\", \"Customer Name: Gray\", \"Customer Name: Martin\", \"Customer Name: Mitchell\", \"Customer Name: Peterson\", \"Customer Name: Rodriguez\", \"Customer Name: Russell\", \"Customer Name: Smith\"], \"x\": [0.6953580285427906, 0.6086076169946548, -0.2618238924155828, -0.27438991506325466, 0.7800918938024124, 0.6449014064965484, 0.5984503828887634, 0.6326887008697389], \"y\": [1.2044988819868312, 0.6488669718455907, 0.4721782082790791, 0.4814454224633712, 0.7670146229865908, 0.8077965775577528, 0.5927161080466313, 0.7641386823119903], \"type\": \"scattergl\", \"uid\": \"ee726598-6e1b-482f-ac92-6491c1f7a0f7\"}], {\"hovermode\": \"closest\", \"title\": {\"text\": \"PCA vs. Clusters\"}, \"xaxis\": {\"title\": {\"text\": \"PCA1\"}}, \"yaxis\": {\"title\": {\"text\": \"PCA2\"}}}, {\"showLink\": false, \"linkText\": \"Export to plot.ly\", \"plotlyServerURL\": \"https://plot.ly\"})});</script><script type=\"text/javascript\">window.addEventListener(\"resize\", function(){window._Plotly.Plots.resize(document.getElementById(\"04fa7d13-103f-44af-8450-7852048752c6\"));});</script>"
      ],
      "text/vnd.plotly.v1+html": [
       "<div id=\"04fa7d13-103f-44af-8450-7852048752c6\" style=\"height: 525px; width: 100%;\" class=\"plotly-graph-div\"></div><script type=\"text/javascript\">require([\"plotly\"], function(Plotly) { window.PLOTLYENV=window.PLOTLYENV || {};window.PLOTLYENV.BASE_URL=\"https://plot.ly\";Plotly.newPlot(\"04fa7d13-103f-44af-8450-7852048752c6\", [{\"marker\": {\"opacity\": 0.75}, \"mode\": \"markers\", \"name\": \"Cluster_0\", \"text\": [\"Customer Name: Adams\", \"Customer Name: Cruz\", \"Customer Name: Hernandez\", \"Customer Name: King\", \"Customer Name: Myers\", \"Customer Name: Perez\", \"Customer Name: Perry\", \"Customer Name: Taylor\", \"Customer Name: Walker\"], \"x\": [-1.681139796999947, -1.5651821970346507, -0.5162355489846766, -1.7254808687184433, -1.5170024887618498, -1.5170024887618498, -1.7756852148838724, -1.7925486531987522, -1.5484364420038175], \"y\": [-0.24008590572354477, -0.10907737410002823, 0.0745927493185183, -0.3487018240405022, -0.0865412145323463, -0.0865412145323463, -0.5248885185499321, -0.5294108860688967, 0.03561093720809875], \"type\": \"scattergl\", \"uid\": \"136253aa-4401-4c0f-9cea-0201f0fa2b09\"}, {\"marker\": {\"opacity\": 0.75}, \"mode\": \"markers\", \"name\": \"Cluster_1\", \"text\": [\"Customer Name: Davis\", \"Customer Name: Martinez\", \"Customer Name: White\"], \"x\": [1.6895973225368945, -0.32352727885540855, 1.5690743912386753], \"y\": [-0.23917111050854517, 0.2631936842292491, -0.5155943096726483], \"type\": \"scattergl\", \"uid\": \"b00b364a-367e-4af7-afa8-61871d87b44e\"}, {\"marker\": {\"opacity\": 0.75}, \"mode\": \"markers\", \"name\": \"Cluster_2\", \"text\": [\"Customer Name: Brown\", \"Customer Name: Carter\", \"Customer Name: Diaz\", \"Customer Name: Hughes\", \"Customer Name: Lewis\", \"Customer Name: Stewart\"], \"x\": [-1.6765910532334558, -1.7422266237492765, -1.7711364711173812, -1.8367720416332018, -1.606999162879284, -1.659727614918576], \"y\": [-0.3984023544453802, -0.4933901353486292, -0.6832049672717677, -0.7781927481750167, -0.5296602760805692, -0.39387998692641557], \"type\": \"scattergl\", \"uid\": \"ac87a61c-ae9d-4da5-9076-c68d5574283c\"}, {\"marker\": {\"opacity\": 0.75}, \"mode\": \"markers\", \"name\": \"Cluster_3\", \"text\": [\"Customer Name: Bailey\", \"Customer Name: Baker\", \"Customer Name: Cooper\", \"Customer Name: Green\", \"Customer Name: Long\", \"Customer Name: Murphy\", \"Customer Name: Rivera\", \"Customer Name: Robinson\", \"Customer Name: Rogers\", \"Customer Name: Ross\", \"Customer Name: Watson\"], \"x\": [-1.5124537449953586, 1.5004222067226338, -0.26098275212325583, -1.3797503899992292, -1.3131959355773473, -1.3649276177342524, -1.4957079899645256, -1.5438876982373264, 1.5710411435946279, -0.45276255573722585, -1.5438876982373264], \"y\": [-0.24485766325418173, -0.6233743520494789, 0.2686043070172626, 0.030839179677461814, -0.13495278077130396, 0.04615725796418511, -0.10016935194605477, -0.12270551151373672, -1.1565694929732575, 0.04428380443636483, -0.12270551151373672], \"type\": \"scattergl\", \"uid\": \"831183d6-9caf-40bf-b34b-7c9d957c0181\"}, {\"marker\": {\"opacity\": 0.75}, \"mode\": \"markers\", \"name\": \"Cluster_4\", \"text\": [\"Customer Name: Brooks\", \"Customer Name: Collins\", \"Customer Name: Evans\", \"Customer Name: Gomez\", \"Customer Name: Hall\", \"Customer Name: Howard\", \"Customer Name: Jackson\"], \"x\": [1.6562437575624354, -0.4551602695652739, 1.7167499951734102, -0.27213751338340375, 1.7048496853689354, 1.7196724576339122, 1.8420359654053962], \"y\": [-0.6461066280057365, -0.010476510476100546, -0.31206694772097454, 0.31221839995192496, -0.2452670559698367, -0.2299489776831134, -0.017398580985476256], \"type\": \"scattergl\", \"uid\": \"7af13cb6-ccc5-4f4a-8d41-40b3d133793e\"}, {\"marker\": {\"opacity\": 0.75}, \"mode\": \"markers\", \"name\": \"Cluster_5\", \"text\": [\"Customer Name: Hill\", \"Customer Name: James\", \"Customer Name: Sullivan\"], \"x\": [-1.6771834771615959, -1.788592333360401, -1.5444801221654663], \"y\": [-0.4663316082619825, -0.7556565886073346, -0.19063476533033902], \"type\": \"scattergl\", \"uid\": \"df07232a-cb30-40d0-9793-3db593ea66a7\"}, {\"marker\": {\"opacity\": 0.75}, \"mode\": \"markers\", \"name\": \"Cluster_6\", \"text\": [\"Customer Name: Anderson\", \"Customer Name: Bell\", \"Customer Name: Cook\", \"Customer Name: Cox\", \"Customer Name: Flores\", \"Customer Name: Jenkins\", \"Customer Name: Johnson\", \"Customer Name: Moore\", \"Customer Name: Morris\", \"Customer Name: Phillips\"], \"x\": [0.6489070049350057, 0.7249763799527564, 0.6489070049350057, 0.7249763799527564, 0.6158560286719198, 0.6489070049350057, 0.6785253563449715, 0.6158560286719198, 0.6785253563449715, 0.6158560286719198], \"y\": [0.9894184124757096, 1.446582403764448, 0.9894184124757096, 1.446582403764448, 0.7911417345784854, 0.9894184124757096, 1.2315019342533262, 0.7911417345784854, 1.2315019342533262, 0.7911417345784854], \"type\": \"scattergl\", \"uid\": \"f1875baa-e5b1-435f-bca2-a9b620a154f7\"}, {\"marker\": {\"opacity\": 0.75}, \"mode\": \"markers\", \"name\": \"Cluster_7\", \"text\": [\"Customer Name: Bennett\", \"Customer Name: Edwards\", \"Customer Name: Gutierrez\", \"Customer Name: Jones\", \"Customer Name: Morales\", \"Customer Name: Morgan\", \"Customer Name: Nelson\", \"Customer Name: Ortiz\", \"Customer Name: Torres\", \"Customer Name: Ward\", \"Customer Name: Wilson\"], \"x\": [-1.5270242599224466, -0.4051020226485951, -1.3647891209555443, -0.4608256571762814, 1.7018863017658405, -1.5270242599224466, 1.575447701105338, -0.4608256571762814, -0.4608256571762814, -0.2928884255237171, -1.4955903066804788], \"y\": [-0.11818314399477205, -0.0863821721219822, -0.30719116835490173, -0.048542578629085155, -1.3628902830995282, -0.11818314399477205, -0.5896724690301154, -0.048542578629085155, -0.048542578629085155, 0.2005116194414536, -0.24033529573521706], \"type\": \"scattergl\", \"uid\": \"009e3613-1d0c-44a3-b3c4-2070bf361cbf\"}, {\"marker\": {\"opacity\": 0.75}, \"mode\": \"markers\", \"name\": \"Cluster_8\", \"text\": [\"Customer Name: Harris\", \"Customer Name: Lee\", \"Customer Name: Richardson\", \"Customer Name: Wright\"], \"x\": [1.8127277025266715, 1.9295217653691188, 1.8004063170727935, 1.689873547890176], \"y\": [-0.9301394137372403, -0.6256415043748939, -0.5520534961261483, -0.22789310652844585], \"type\": \"scattergl\", \"uid\": \"5aab75ed-8420-47b1-b402-df9998a39097\"}, {\"marker\": {\"opacity\": 0.75}, \"mode\": \"markers\", \"name\": \"Cluster_9\", \"text\": [\"Customer Name: Butler\", \"Customer Name: Fisher\", \"Customer Name: Price\"], \"x\": [1.6613361185853266, 1.7910381185671038, 1.6865817716903306], \"y\": [-0.5636902868482075, -0.5054373691076424, -0.7413555431894192], \"type\": \"scattergl\", \"uid\": \"769c206c-7ccf-48be-a963-22fad47aa6ee\"}, {\"marker\": {\"opacity\": 0.75}, \"mode\": \"markers\", \"name\": \"Cluster_10\", \"text\": [\"Customer Name: Allen\", \"Customer Name: Foster\", \"Customer Name: Lopez\", \"Customer Name: Ramirez\", \"Customer Name: Reyes\", \"Customer Name: Sanders\", \"Customer Name: Thomas\", \"Customer Name: Thompson\"], \"x\": [-0.31223778458332985, -0.05892232379246432, -0.22778404221184426, -0.3679614191110162, -0.3545488312986117, -0.010874688232942584, -0.11563445636191068, -0.4915821226400368], \"y\": [0.27144829416179356, 0.028013113095586007, 0.32392446465056185, 0.3092878876546906, 0.3259956090607312, 0.7154201209074937, 0.7875566116411349, 0.09416199566809222], \"type\": \"scattergl\", \"uid\": \"32939aa1-cfc2-4279-bba2-c2dbc0fb02cc\"}, {\"marker\": {\"opacity\": 0.75}, \"mode\": \"markers\", \"name\": \"Cluster_11\", \"text\": [\"Customer Name: Garcia\", \"Customer Name: Powell\", \"Customer Name: Reed\", \"Customer Name: Sanchez\", \"Customer Name: Scott\"], \"x\": [-0.2939810875221101, -0.35869070152223503, -0.3316875055593483, 1.8939609619736764, -0.2324239891674203], \"y\": [0.23353484296985724, 0.2835277709969662, 0.29811949305122987, 0.2121654880398416, 0.1057702949690482], \"type\": \"scattergl\", \"uid\": \"7c1aa668-8234-40dc-aac1-5df5ae921af8\"}, {\"marker\": {\"opacity\": 0.75}, \"mode\": \"markers\", \"name\": \"Cluster_12\", \"text\": [\"Customer Name: Barnes\", \"Customer Name: Clark\", \"Customer Name: Gonzalez\", \"Customer Name: Kelly\", \"Customer Name: Miller\", \"Customer Name: Nguyen\", \"Customer Name: Parker\", \"Customer Name: Roberts\", \"Customer Name: Turner\", \"Customer Name: Williams\", \"Customer Name: Wood\", \"Customer Name: Young\"], \"x\": [1.8239360739300268, -0.12206363683530895, -0.2551419536915965, 1.6806734930523903, 1.9736129963418954, -0.2129064904391535, -0.3614555252010125, -0.25346077387293636, 1.7732177297891691, 1.657888226099847, -0.1604033129442764, 1.930487509617139], \"y\": [-0.6064863183893973, -0.00018694077253668124, 0.08775162287004494, -0.28761376286335216, -0.693325272761939, -0.1164861188138504, -0.03178932623135724, 0.014723769412656504, -0.3884616731756707, -0.6267721506362398, 0.009665408982614573, -0.6118204712387366], \"type\": \"scattergl\", \"uid\": \"8bbf5783-276f-47ef-b374-f9d6c4e0e2f8\"}, {\"marker\": {\"opacity\": 0.75}, \"mode\": \"markers\", \"name\": \"Cluster_13\", \"text\": [\"Customer Name: Campbell\", \"Customer Name: Gray\", \"Customer Name: Martin\", \"Customer Name: Mitchell\", \"Customer Name: Peterson\", \"Customer Name: Rodriguez\", \"Customer Name: Russell\", \"Customer Name: Smith\"], \"x\": [0.6953580285427906, 0.6086076169946548, -0.2618238924155828, -0.27438991506325466, 0.7800918938024124, 0.6449014064965484, 0.5984503828887634, 0.6326887008697389], \"y\": [1.2044988819868312, 0.6488669718455907, 0.4721782082790791, 0.4814454224633712, 0.7670146229865908, 0.8077965775577528, 0.5927161080466313, 0.7641386823119903], \"type\": \"scattergl\", \"uid\": \"ee726598-6e1b-482f-ac92-6491c1f7a0f7\"}], {\"hovermode\": \"closest\", \"title\": {\"text\": \"PCA vs. Clusters\"}, \"xaxis\": {\"title\": {\"text\": \"PCA1\"}}, \"yaxis\": {\"title\": {\"text\": \"PCA2\"}}}, {\"showLink\": false, \"linkText\": \"Export to plot.ly\", \"plotlyServerURL\": \"https://plot.ly\"})});</script><script type=\"text/javascript\">window.addEventListener(\"resize\", function(){window._Plotly.Plots.resize(document.getElementById(\"04fa7d13-103f-44af-8450-7852048752c6\"));});</script>"
      ]
     },
     "metadata": {},
     "output_type": "display_data"
    }
   ],
   "source": [
    "plot_pca(pivot_transactions, X_matrix, AP)"
   ]
  },
  {
   "cell_type": "code",
   "execution_count": 21,
   "metadata": {},
   "outputs": [
    {
     "data": {
      "text/plain": [
       "SpectralClustering(affinity='rbf', assign_labels='kmeans', coef0=1, degree=3,\n",
       "          eigen_solver=None, eigen_tol=0.0, gamma=1.0, kernel_params=None,\n",
       "          n_clusters=4, n_init=10, n_jobs=None, n_neighbors=10,\n",
       "          random_state=None)"
      ]
     },
     "execution_count": 21,
     "metadata": {},
     "output_type": "execute_result"
    }
   ],
   "source": [
    "## Spectral Clustering with PCA\n",
    "SC=SpectralClustering(n_clusters=4)\n",
    "SC.fit(pivot_transactions)"
   ]
  },
  {
   "cell_type": "code",
   "execution_count": 22,
   "metadata": {},
   "outputs": [
    {
     "data": {
      "application/vnd.plotly.v1+json": {
       "config": {
        "linkText": "Export to plot.ly",
        "plotlyServerURL": "https://plot.ly",
        "showLink": false
       },
       "data": [
        {
         "marker": {
          "opacity": 0.75
         },
         "mode": "markers",
         "name": "Cluster_0",
         "text": [
          "Customer Name: Adams",
          "Customer Name: Bailey",
          "Customer Name: Brown",
          "Customer Name: Carter",
          "Customer Name: Collins",
          "Customer Name: Cruz",
          "Customer Name: Diaz",
          "Customer Name: Green",
          "Customer Name: Hernandez",
          "Customer Name: Hughes",
          "Customer Name: James",
          "Customer Name: King",
          "Customer Name: Lewis",
          "Customer Name: Long",
          "Customer Name: Murphy",
          "Customer Name: Myers",
          "Customer Name: Perez",
          "Customer Name: Perry",
          "Customer Name: Rivera",
          "Customer Name: Robinson",
          "Customer Name: Ross",
          "Customer Name: Taylor",
          "Customer Name: Walker",
          "Customer Name: Watson"
         ],
         "type": "scattergl",
         "uid": "493da881-ab8f-408d-9508-1b65dabde701",
         "x": [
          -1.681139796999947,
          -1.5124537449953586,
          -1.6765910532334558,
          -1.7422266237492765,
          -0.4551602695652739,
          -1.5651821970346507,
          -1.7711364711173812,
          -1.3797503899992292,
          -0.5162355489846766,
          -1.8367720416332018,
          -1.788592333360401,
          -1.7254808687184433,
          -1.606999162879284,
          -1.3131959355773473,
          -1.3649276177342524,
          -1.5170024887618498,
          -1.5170024887618498,
          -1.7756852148838724,
          -1.4957079899645256,
          -1.5438876982373264,
          -0.45276255573722585,
          -1.7925486531987522,
          -1.5484364420038175,
          -1.5438876982373264
         ],
         "y": [
          -0.24008590572354477,
          -0.24485766325418173,
          -0.3984023544453802,
          -0.4933901353486292,
          -0.010476510476100546,
          -0.10907737410002823,
          -0.6832049672717677,
          0.030839179677461814,
          0.0745927493185183,
          -0.7781927481750167,
          -0.7556565886073346,
          -0.3487018240405022,
          -0.5296602760805692,
          -0.13495278077130396,
          0.04615725796418511,
          -0.0865412145323463,
          -0.0865412145323463,
          -0.5248885185499321,
          -0.10016935194605477,
          -0.12270551151373672,
          0.04428380443636483,
          -0.5294108860688967,
          0.03561093720809875,
          -0.12270551151373672
         ]
        },
        {
         "marker": {
          "opacity": 0.75
         },
         "mode": "markers",
         "name": "Cluster_1",
         "text": [
          "Customer Name: Allen",
          "Customer Name: Baker",
          "Customer Name: Barnes",
          "Customer Name: Brooks",
          "Customer Name: Butler",
          "Customer Name: Clark",
          "Customer Name: Cooper",
          "Customer Name: Davis",
          "Customer Name: Evans",
          "Customer Name: Fisher",
          "Customer Name: Foster",
          "Customer Name: Garcia",
          "Customer Name: Gomez",
          "Customer Name: Gonzalez",
          "Customer Name: Hall",
          "Customer Name: Harris",
          "Customer Name: Howard",
          "Customer Name: Jackson",
          "Customer Name: Kelly",
          "Customer Name: Lee",
          "Customer Name: Lopez",
          "Customer Name: Martin",
          "Customer Name: Martinez",
          "Customer Name: Miller",
          "Customer Name: Mitchell",
          "Customer Name: Morales",
          "Customer Name: Nguyen",
          "Customer Name: Parker",
          "Customer Name: Powell",
          "Customer Name: Price",
          "Customer Name: Ramirez",
          "Customer Name: Reed",
          "Customer Name: Reyes",
          "Customer Name: Richardson",
          "Customer Name: Roberts",
          "Customer Name: Rogers",
          "Customer Name: Sanchez",
          "Customer Name: Sanders",
          "Customer Name: Scott",
          "Customer Name: Thomas",
          "Customer Name: Thompson",
          "Customer Name: Turner",
          "Customer Name: Ward",
          "Customer Name: White",
          "Customer Name: Williams",
          "Customer Name: Wood",
          "Customer Name: Wright",
          "Customer Name: Young"
         ],
         "type": "scattergl",
         "uid": "09db2415-ea2b-4aab-bb90-0c87aab13435",
         "x": [
          -0.31223778458332985,
          1.5004222067226338,
          1.8239360739300268,
          1.6562437575624354,
          1.6613361185853266,
          -0.12206363683530895,
          -0.26098275212325583,
          1.6895973225368945,
          1.7167499951734102,
          1.7910381185671038,
          -0.05892232379246432,
          -0.2939810875221101,
          -0.27213751338340375,
          -0.2551419536915965,
          1.7048496853689354,
          1.8127277025266715,
          1.7196724576339122,
          1.8420359654053962,
          1.6806734930523903,
          1.9295217653691188,
          -0.22778404221184426,
          -0.2618238924155828,
          -0.32352727885540855,
          1.9736129963418954,
          -0.27438991506325466,
          1.7018863017658405,
          -0.2129064904391535,
          -0.3614555252010125,
          -0.35869070152223503,
          1.6865817716903306,
          -0.3679614191110162,
          -0.3316875055593483,
          -0.3545488312986117,
          1.8004063170727935,
          -0.25346077387293636,
          1.5710411435946279,
          1.8939609619736764,
          -0.010874688232942584,
          -0.2324239891674203,
          -0.11563445636191068,
          -0.4915821226400368,
          1.7732177297891691,
          -0.2928884255237171,
          1.5690743912386753,
          1.657888226099847,
          -0.1604033129442764,
          1.689873547890176,
          1.930487509617139
         ],
         "y": [
          0.27144829416179356,
          -0.6233743520494789,
          -0.6064863183893973,
          -0.6461066280057365,
          -0.5636902868482075,
          -0.00018694077253668124,
          0.2686043070172626,
          -0.23917111050854517,
          -0.31206694772097454,
          -0.5054373691076424,
          0.028013113095586007,
          0.23353484296985724,
          0.31221839995192496,
          0.08775162287004494,
          -0.2452670559698367,
          -0.9301394137372403,
          -0.2299489776831134,
          -0.017398580985476256,
          -0.28761376286335216,
          -0.6256415043748939,
          0.32392446465056185,
          0.4721782082790791,
          0.2631936842292491,
          -0.693325272761939,
          0.4814454224633712,
          -1.3628902830995282,
          -0.1164861188138504,
          -0.03178932623135724,
          0.2835277709969662,
          -0.7413555431894192,
          0.3092878876546906,
          0.29811949305122987,
          0.3259956090607312,
          -0.5520534961261483,
          0.014723769412656504,
          -1.1565694929732575,
          0.2121654880398416,
          0.7154201209074937,
          0.1057702949690482,
          0.7875566116411349,
          0.09416199566809222,
          -0.3884616731756707,
          0.2005116194414536,
          -0.5155943096726483,
          -0.6267721506362398,
          0.009665408982614573,
          -0.22789310652844585,
          -0.6118204712387366
         ]
        },
        {
         "marker": {
          "opacity": 0.75
         },
         "mode": "markers",
         "name": "Cluster_2",
         "text": [
          "Customer Name: Bennett",
          "Customer Name: Edwards",
          "Customer Name: Gutierrez",
          "Customer Name: Hill",
          "Customer Name: Jones",
          "Customer Name: Morgan",
          "Customer Name: Nelson",
          "Customer Name: Ortiz",
          "Customer Name: Stewart",
          "Customer Name: Sullivan",
          "Customer Name: Torres",
          "Customer Name: Wilson"
         ],
         "type": "scattergl",
         "uid": "fcb5225c-b80f-473f-9a58-f6e0cd3c3a72",
         "x": [
          -1.5270242599224466,
          -0.4051020226485951,
          -1.3647891209555443,
          -1.6771834771615959,
          -0.4608256571762814,
          -1.5270242599224466,
          1.575447701105338,
          -0.4608256571762814,
          -1.659727614918576,
          -1.5444801221654663,
          -0.4608256571762814,
          -1.4955903066804788
         ],
         "y": [
          -0.11818314399477205,
          -0.0863821721219822,
          -0.30719116835490173,
          -0.4663316082619825,
          -0.048542578629085155,
          -0.11818314399477205,
          -0.5896724690301154,
          -0.048542578629085155,
          -0.39387998692641557,
          -0.19063476533033902,
          -0.048542578629085155,
          -0.24033529573521706
         ]
        },
        {
         "marker": {
          "opacity": 0.75
         },
         "mode": "markers",
         "name": "Cluster_3",
         "text": [
          "Customer Name: Anderson",
          "Customer Name: Bell",
          "Customer Name: Campbell",
          "Customer Name: Cook",
          "Customer Name: Cox",
          "Customer Name: Flores",
          "Customer Name: Gray",
          "Customer Name: Jenkins",
          "Customer Name: Johnson",
          "Customer Name: Moore",
          "Customer Name: Morris",
          "Customer Name: Peterson",
          "Customer Name: Phillips",
          "Customer Name: Rodriguez",
          "Customer Name: Russell",
          "Customer Name: Smith"
         ],
         "type": "scattergl",
         "uid": "f74560a3-fa5a-420d-99bf-9040dfd7a8da",
         "x": [
          0.6489070049350057,
          0.7249763799527564,
          0.6953580285427906,
          0.6489070049350057,
          0.7249763799527564,
          0.6158560286719198,
          0.6086076169946548,
          0.6489070049350057,
          0.6785253563449715,
          0.6158560286719198,
          0.6785253563449715,
          0.7800918938024124,
          0.6158560286719198,
          0.6449014064965484,
          0.5984503828887634,
          0.6326887008697389
         ],
         "y": [
          0.9894184124757096,
          1.446582403764448,
          1.2044988819868312,
          0.9894184124757096,
          1.446582403764448,
          0.7911417345784854,
          0.6488669718455907,
          0.9894184124757096,
          1.2315019342533262,
          0.7911417345784854,
          1.2315019342533262,
          0.7670146229865908,
          0.7911417345784854,
          0.8077965775577528,
          0.5927161080466313,
          0.7641386823119903
         ]
        }
       ],
       "layout": {
        "hovermode": "closest",
        "title": {
         "text": "PCA vs. Clusters"
        },
        "xaxis": {
         "title": {
          "text": "PCA1"
         }
        },
        "yaxis": {
         "title": {
          "text": "PCA2"
         }
        }
       }
      },
      "text/html": [
       "<div id=\"85aaef8d-eb0b-48fc-978d-55bd47728db5\" style=\"height: 525px; width: 100%;\" class=\"plotly-graph-div\"></div><script type=\"text/javascript\">require([\"plotly\"], function(Plotly) { window.PLOTLYENV=window.PLOTLYENV || {};window.PLOTLYENV.BASE_URL=\"https://plot.ly\";Plotly.newPlot(\"85aaef8d-eb0b-48fc-978d-55bd47728db5\", [{\"marker\": {\"opacity\": 0.75}, \"mode\": \"markers\", \"name\": \"Cluster_0\", \"text\": [\"Customer Name: Adams\", \"Customer Name: Bailey\", \"Customer Name: Brown\", \"Customer Name: Carter\", \"Customer Name: Collins\", \"Customer Name: Cruz\", \"Customer Name: Diaz\", \"Customer Name: Green\", \"Customer Name: Hernandez\", \"Customer Name: Hughes\", \"Customer Name: James\", \"Customer Name: King\", \"Customer Name: Lewis\", \"Customer Name: Long\", \"Customer Name: Murphy\", \"Customer Name: Myers\", \"Customer Name: Perez\", \"Customer Name: Perry\", \"Customer Name: Rivera\", \"Customer Name: Robinson\", \"Customer Name: Ross\", \"Customer Name: Taylor\", \"Customer Name: Walker\", \"Customer Name: Watson\"], \"x\": [-1.681139796999947, -1.5124537449953586, -1.6765910532334558, -1.7422266237492765, -0.4551602695652739, -1.5651821970346507, -1.7711364711173812, -1.3797503899992292, -0.5162355489846766, -1.8367720416332018, -1.788592333360401, -1.7254808687184433, -1.606999162879284, -1.3131959355773473, -1.3649276177342524, -1.5170024887618498, -1.5170024887618498, -1.7756852148838724, -1.4957079899645256, -1.5438876982373264, -0.45276255573722585, -1.7925486531987522, -1.5484364420038175, -1.5438876982373264], \"y\": [-0.24008590572354477, -0.24485766325418173, -0.3984023544453802, -0.4933901353486292, -0.010476510476100546, -0.10907737410002823, -0.6832049672717677, 0.030839179677461814, 0.0745927493185183, -0.7781927481750167, -0.7556565886073346, -0.3487018240405022, -0.5296602760805692, -0.13495278077130396, 0.04615725796418511, -0.0865412145323463, -0.0865412145323463, -0.5248885185499321, -0.10016935194605477, -0.12270551151373672, 0.04428380443636483, -0.5294108860688967, 0.03561093720809875, -0.12270551151373672], \"type\": \"scattergl\", \"uid\": \"493da881-ab8f-408d-9508-1b65dabde701\"}, {\"marker\": {\"opacity\": 0.75}, \"mode\": \"markers\", \"name\": \"Cluster_1\", \"text\": [\"Customer Name: Allen\", \"Customer Name: Baker\", \"Customer Name: Barnes\", \"Customer Name: Brooks\", \"Customer Name: Butler\", \"Customer Name: Clark\", \"Customer Name: Cooper\", \"Customer Name: Davis\", \"Customer Name: Evans\", \"Customer Name: Fisher\", \"Customer Name: Foster\", \"Customer Name: Garcia\", \"Customer Name: Gomez\", \"Customer Name: Gonzalez\", \"Customer Name: Hall\", \"Customer Name: Harris\", \"Customer Name: Howard\", \"Customer Name: Jackson\", \"Customer Name: Kelly\", \"Customer Name: Lee\", \"Customer Name: Lopez\", \"Customer Name: Martin\", \"Customer Name: Martinez\", \"Customer Name: Miller\", \"Customer Name: Mitchell\", \"Customer Name: Morales\", \"Customer Name: Nguyen\", \"Customer Name: Parker\", \"Customer Name: Powell\", \"Customer Name: Price\", \"Customer Name: Ramirez\", \"Customer Name: Reed\", \"Customer Name: Reyes\", \"Customer Name: Richardson\", \"Customer Name: Roberts\", \"Customer Name: Rogers\", \"Customer Name: Sanchez\", \"Customer Name: Sanders\", \"Customer Name: Scott\", \"Customer Name: Thomas\", \"Customer Name: Thompson\", \"Customer Name: Turner\", \"Customer Name: Ward\", \"Customer Name: White\", \"Customer Name: Williams\", \"Customer Name: Wood\", \"Customer Name: Wright\", \"Customer Name: Young\"], \"x\": [-0.31223778458332985, 1.5004222067226338, 1.8239360739300268, 1.6562437575624354, 1.6613361185853266, -0.12206363683530895, -0.26098275212325583, 1.6895973225368945, 1.7167499951734102, 1.7910381185671038, -0.05892232379246432, -0.2939810875221101, -0.27213751338340375, -0.2551419536915965, 1.7048496853689354, 1.8127277025266715, 1.7196724576339122, 1.8420359654053962, 1.6806734930523903, 1.9295217653691188, -0.22778404221184426, -0.2618238924155828, -0.32352727885540855, 1.9736129963418954, -0.27438991506325466, 1.7018863017658405, -0.2129064904391535, -0.3614555252010125, -0.35869070152223503, 1.6865817716903306, -0.3679614191110162, -0.3316875055593483, -0.3545488312986117, 1.8004063170727935, -0.25346077387293636, 1.5710411435946279, 1.8939609619736764, -0.010874688232942584, -0.2324239891674203, -0.11563445636191068, -0.4915821226400368, 1.7732177297891691, -0.2928884255237171, 1.5690743912386753, 1.657888226099847, -0.1604033129442764, 1.689873547890176, 1.930487509617139], \"y\": [0.27144829416179356, -0.6233743520494789, -0.6064863183893973, -0.6461066280057365, -0.5636902868482075, -0.00018694077253668124, 0.2686043070172626, -0.23917111050854517, -0.31206694772097454, -0.5054373691076424, 0.028013113095586007, 0.23353484296985724, 0.31221839995192496, 0.08775162287004494, -0.2452670559698367, -0.9301394137372403, -0.2299489776831134, -0.017398580985476256, -0.28761376286335216, -0.6256415043748939, 0.32392446465056185, 0.4721782082790791, 0.2631936842292491, -0.693325272761939, 0.4814454224633712, -1.3628902830995282, -0.1164861188138504, -0.03178932623135724, 0.2835277709969662, -0.7413555431894192, 0.3092878876546906, 0.29811949305122987, 0.3259956090607312, -0.5520534961261483, 0.014723769412656504, -1.1565694929732575, 0.2121654880398416, 0.7154201209074937, 0.1057702949690482, 0.7875566116411349, 0.09416199566809222, -0.3884616731756707, 0.2005116194414536, -0.5155943096726483, -0.6267721506362398, 0.009665408982614573, -0.22789310652844585, -0.6118204712387366], \"type\": \"scattergl\", \"uid\": \"09db2415-ea2b-4aab-bb90-0c87aab13435\"}, {\"marker\": {\"opacity\": 0.75}, \"mode\": \"markers\", \"name\": \"Cluster_2\", \"text\": [\"Customer Name: Bennett\", \"Customer Name: Edwards\", \"Customer Name: Gutierrez\", \"Customer Name: Hill\", \"Customer Name: Jones\", \"Customer Name: Morgan\", \"Customer Name: Nelson\", \"Customer Name: Ortiz\", \"Customer Name: Stewart\", \"Customer Name: Sullivan\", \"Customer Name: Torres\", \"Customer Name: Wilson\"], \"x\": [-1.5270242599224466, -0.4051020226485951, -1.3647891209555443, -1.6771834771615959, -0.4608256571762814, -1.5270242599224466, 1.575447701105338, -0.4608256571762814, -1.659727614918576, -1.5444801221654663, -0.4608256571762814, -1.4955903066804788], \"y\": [-0.11818314399477205, -0.0863821721219822, -0.30719116835490173, -0.4663316082619825, -0.048542578629085155, -0.11818314399477205, -0.5896724690301154, -0.048542578629085155, -0.39387998692641557, -0.19063476533033902, -0.048542578629085155, -0.24033529573521706], \"type\": \"scattergl\", \"uid\": \"fcb5225c-b80f-473f-9a58-f6e0cd3c3a72\"}, {\"marker\": {\"opacity\": 0.75}, \"mode\": \"markers\", \"name\": \"Cluster_3\", \"text\": [\"Customer Name: Anderson\", \"Customer Name: Bell\", \"Customer Name: Campbell\", \"Customer Name: Cook\", \"Customer Name: Cox\", \"Customer Name: Flores\", \"Customer Name: Gray\", \"Customer Name: Jenkins\", \"Customer Name: Johnson\", \"Customer Name: Moore\", \"Customer Name: Morris\", \"Customer Name: Peterson\", \"Customer Name: Phillips\", \"Customer Name: Rodriguez\", \"Customer Name: Russell\", \"Customer Name: Smith\"], \"x\": [0.6489070049350057, 0.7249763799527564, 0.6953580285427906, 0.6489070049350057, 0.7249763799527564, 0.6158560286719198, 0.6086076169946548, 0.6489070049350057, 0.6785253563449715, 0.6158560286719198, 0.6785253563449715, 0.7800918938024124, 0.6158560286719198, 0.6449014064965484, 0.5984503828887634, 0.6326887008697389], \"y\": [0.9894184124757096, 1.446582403764448, 1.2044988819868312, 0.9894184124757096, 1.446582403764448, 0.7911417345784854, 0.6488669718455907, 0.9894184124757096, 1.2315019342533262, 0.7911417345784854, 1.2315019342533262, 0.7670146229865908, 0.7911417345784854, 0.8077965775577528, 0.5927161080466313, 0.7641386823119903], \"type\": \"scattergl\", \"uid\": \"f74560a3-fa5a-420d-99bf-9040dfd7a8da\"}], {\"hovermode\": \"closest\", \"title\": {\"text\": \"PCA vs. Clusters\"}, \"xaxis\": {\"title\": {\"text\": \"PCA1\"}}, \"yaxis\": {\"title\": {\"text\": \"PCA2\"}}}, {\"showLink\": false, \"linkText\": \"Export to plot.ly\", \"plotlyServerURL\": \"https://plot.ly\"})});</script><script type=\"text/javascript\">window.addEventListener(\"resize\", function(){window._Plotly.Plots.resize(document.getElementById(\"85aaef8d-eb0b-48fc-978d-55bd47728db5\"));});</script>"
      ],
      "text/vnd.plotly.v1+html": [
       "<div id=\"85aaef8d-eb0b-48fc-978d-55bd47728db5\" style=\"height: 525px; width: 100%;\" class=\"plotly-graph-div\"></div><script type=\"text/javascript\">require([\"plotly\"], function(Plotly) { window.PLOTLYENV=window.PLOTLYENV || {};window.PLOTLYENV.BASE_URL=\"https://plot.ly\";Plotly.newPlot(\"85aaef8d-eb0b-48fc-978d-55bd47728db5\", [{\"marker\": {\"opacity\": 0.75}, \"mode\": \"markers\", \"name\": \"Cluster_0\", \"text\": [\"Customer Name: Adams\", \"Customer Name: Bailey\", \"Customer Name: Brown\", \"Customer Name: Carter\", \"Customer Name: Collins\", \"Customer Name: Cruz\", \"Customer Name: Diaz\", \"Customer Name: Green\", \"Customer Name: Hernandez\", \"Customer Name: Hughes\", \"Customer Name: James\", \"Customer Name: King\", \"Customer Name: Lewis\", \"Customer Name: Long\", \"Customer Name: Murphy\", \"Customer Name: Myers\", \"Customer Name: Perez\", \"Customer Name: Perry\", \"Customer Name: Rivera\", \"Customer Name: Robinson\", \"Customer Name: Ross\", \"Customer Name: Taylor\", \"Customer Name: Walker\", \"Customer Name: Watson\"], \"x\": [-1.681139796999947, -1.5124537449953586, -1.6765910532334558, -1.7422266237492765, -0.4551602695652739, -1.5651821970346507, -1.7711364711173812, -1.3797503899992292, -0.5162355489846766, -1.8367720416332018, -1.788592333360401, -1.7254808687184433, -1.606999162879284, -1.3131959355773473, -1.3649276177342524, -1.5170024887618498, -1.5170024887618498, -1.7756852148838724, -1.4957079899645256, -1.5438876982373264, -0.45276255573722585, -1.7925486531987522, -1.5484364420038175, -1.5438876982373264], \"y\": [-0.24008590572354477, -0.24485766325418173, -0.3984023544453802, -0.4933901353486292, -0.010476510476100546, -0.10907737410002823, -0.6832049672717677, 0.030839179677461814, 0.0745927493185183, -0.7781927481750167, -0.7556565886073346, -0.3487018240405022, -0.5296602760805692, -0.13495278077130396, 0.04615725796418511, -0.0865412145323463, -0.0865412145323463, -0.5248885185499321, -0.10016935194605477, -0.12270551151373672, 0.04428380443636483, -0.5294108860688967, 0.03561093720809875, -0.12270551151373672], \"type\": \"scattergl\", \"uid\": \"493da881-ab8f-408d-9508-1b65dabde701\"}, {\"marker\": {\"opacity\": 0.75}, \"mode\": \"markers\", \"name\": \"Cluster_1\", \"text\": [\"Customer Name: Allen\", \"Customer Name: Baker\", \"Customer Name: Barnes\", \"Customer Name: Brooks\", \"Customer Name: Butler\", \"Customer Name: Clark\", \"Customer Name: Cooper\", \"Customer Name: Davis\", \"Customer Name: Evans\", \"Customer Name: Fisher\", \"Customer Name: Foster\", \"Customer Name: Garcia\", \"Customer Name: Gomez\", \"Customer Name: Gonzalez\", \"Customer Name: Hall\", \"Customer Name: Harris\", \"Customer Name: Howard\", \"Customer Name: Jackson\", \"Customer Name: Kelly\", \"Customer Name: Lee\", \"Customer Name: Lopez\", \"Customer Name: Martin\", \"Customer Name: Martinez\", \"Customer Name: Miller\", \"Customer Name: Mitchell\", \"Customer Name: Morales\", \"Customer Name: Nguyen\", \"Customer Name: Parker\", \"Customer Name: Powell\", \"Customer Name: Price\", \"Customer Name: Ramirez\", \"Customer Name: Reed\", \"Customer Name: Reyes\", \"Customer Name: Richardson\", \"Customer Name: Roberts\", \"Customer Name: Rogers\", \"Customer Name: Sanchez\", \"Customer Name: Sanders\", \"Customer Name: Scott\", \"Customer Name: Thomas\", \"Customer Name: Thompson\", \"Customer Name: Turner\", \"Customer Name: Ward\", \"Customer Name: White\", \"Customer Name: Williams\", \"Customer Name: Wood\", \"Customer Name: Wright\", \"Customer Name: Young\"], \"x\": [-0.31223778458332985, 1.5004222067226338, 1.8239360739300268, 1.6562437575624354, 1.6613361185853266, -0.12206363683530895, -0.26098275212325583, 1.6895973225368945, 1.7167499951734102, 1.7910381185671038, -0.05892232379246432, -0.2939810875221101, -0.27213751338340375, -0.2551419536915965, 1.7048496853689354, 1.8127277025266715, 1.7196724576339122, 1.8420359654053962, 1.6806734930523903, 1.9295217653691188, -0.22778404221184426, -0.2618238924155828, -0.32352727885540855, 1.9736129963418954, -0.27438991506325466, 1.7018863017658405, -0.2129064904391535, -0.3614555252010125, -0.35869070152223503, 1.6865817716903306, -0.3679614191110162, -0.3316875055593483, -0.3545488312986117, 1.8004063170727935, -0.25346077387293636, 1.5710411435946279, 1.8939609619736764, -0.010874688232942584, -0.2324239891674203, -0.11563445636191068, -0.4915821226400368, 1.7732177297891691, -0.2928884255237171, 1.5690743912386753, 1.657888226099847, -0.1604033129442764, 1.689873547890176, 1.930487509617139], \"y\": [0.27144829416179356, -0.6233743520494789, -0.6064863183893973, -0.6461066280057365, -0.5636902868482075, -0.00018694077253668124, 0.2686043070172626, -0.23917111050854517, -0.31206694772097454, -0.5054373691076424, 0.028013113095586007, 0.23353484296985724, 0.31221839995192496, 0.08775162287004494, -0.2452670559698367, -0.9301394137372403, -0.2299489776831134, -0.017398580985476256, -0.28761376286335216, -0.6256415043748939, 0.32392446465056185, 0.4721782082790791, 0.2631936842292491, -0.693325272761939, 0.4814454224633712, -1.3628902830995282, -0.1164861188138504, -0.03178932623135724, 0.2835277709969662, -0.7413555431894192, 0.3092878876546906, 0.29811949305122987, 0.3259956090607312, -0.5520534961261483, 0.014723769412656504, -1.1565694929732575, 0.2121654880398416, 0.7154201209074937, 0.1057702949690482, 0.7875566116411349, 0.09416199566809222, -0.3884616731756707, 0.2005116194414536, -0.5155943096726483, -0.6267721506362398, 0.009665408982614573, -0.22789310652844585, -0.6118204712387366], \"type\": \"scattergl\", \"uid\": \"09db2415-ea2b-4aab-bb90-0c87aab13435\"}, {\"marker\": {\"opacity\": 0.75}, \"mode\": \"markers\", \"name\": \"Cluster_2\", \"text\": [\"Customer Name: Bennett\", \"Customer Name: Edwards\", \"Customer Name: Gutierrez\", \"Customer Name: Hill\", \"Customer Name: Jones\", \"Customer Name: Morgan\", \"Customer Name: Nelson\", \"Customer Name: Ortiz\", \"Customer Name: Stewart\", \"Customer Name: Sullivan\", \"Customer Name: Torres\", \"Customer Name: Wilson\"], \"x\": [-1.5270242599224466, -0.4051020226485951, -1.3647891209555443, -1.6771834771615959, -0.4608256571762814, -1.5270242599224466, 1.575447701105338, -0.4608256571762814, -1.659727614918576, -1.5444801221654663, -0.4608256571762814, -1.4955903066804788], \"y\": [-0.11818314399477205, -0.0863821721219822, -0.30719116835490173, -0.4663316082619825, -0.048542578629085155, -0.11818314399477205, -0.5896724690301154, -0.048542578629085155, -0.39387998692641557, -0.19063476533033902, -0.048542578629085155, -0.24033529573521706], \"type\": \"scattergl\", \"uid\": \"fcb5225c-b80f-473f-9a58-f6e0cd3c3a72\"}, {\"marker\": {\"opacity\": 0.75}, \"mode\": \"markers\", \"name\": \"Cluster_3\", \"text\": [\"Customer Name: Anderson\", \"Customer Name: Bell\", \"Customer Name: Campbell\", \"Customer Name: Cook\", \"Customer Name: Cox\", \"Customer Name: Flores\", \"Customer Name: Gray\", \"Customer Name: Jenkins\", \"Customer Name: Johnson\", \"Customer Name: Moore\", \"Customer Name: Morris\", \"Customer Name: Peterson\", \"Customer Name: Phillips\", \"Customer Name: Rodriguez\", \"Customer Name: Russell\", \"Customer Name: Smith\"], \"x\": [0.6489070049350057, 0.7249763799527564, 0.6953580285427906, 0.6489070049350057, 0.7249763799527564, 0.6158560286719198, 0.6086076169946548, 0.6489070049350057, 0.6785253563449715, 0.6158560286719198, 0.6785253563449715, 0.7800918938024124, 0.6158560286719198, 0.6449014064965484, 0.5984503828887634, 0.6326887008697389], \"y\": [0.9894184124757096, 1.446582403764448, 1.2044988819868312, 0.9894184124757096, 1.446582403764448, 0.7911417345784854, 0.6488669718455907, 0.9894184124757096, 1.2315019342533262, 0.7911417345784854, 1.2315019342533262, 0.7670146229865908, 0.7911417345784854, 0.8077965775577528, 0.5927161080466313, 0.7641386823119903], \"type\": \"scattergl\", \"uid\": \"f74560a3-fa5a-420d-99bf-9040dfd7a8da\"}], {\"hovermode\": \"closest\", \"title\": {\"text\": \"PCA vs. Clusters\"}, \"xaxis\": {\"title\": {\"text\": \"PCA1\"}}, \"yaxis\": {\"title\": {\"text\": \"PCA2\"}}}, {\"showLink\": false, \"linkText\": \"Export to plot.ly\", \"plotlyServerURL\": \"https://plot.ly\"})});</script><script type=\"text/javascript\">window.addEventListener(\"resize\", function(){window._Plotly.Plots.resize(document.getElementById(\"85aaef8d-eb0b-48fc-978d-55bd47728db5\"));});</script>"
      ]
     },
     "metadata": {},
     "output_type": "display_data"
    }
   ],
   "source": [
    "plot_pca(pivot_transactions, X_matrix, SC)"
   ]
  },
  {
   "cell_type": "code",
   "execution_count": 23,
   "metadata": {},
   "outputs": [
    {
     "data": {
      "text/plain": [
       "AgglomerativeClustering(affinity='euclidean', compute_full_tree='auto',\n",
       "            connectivity=None, linkage='ward', memory=None, n_clusters=4,\n",
       "            pooling_func='deprecated')"
      ]
     },
     "execution_count": 23,
     "metadata": {},
     "output_type": "execute_result"
    }
   ],
   "source": [
    "AC=AgglomerativeClustering(n_clusters=4)\n",
    "AC.fit(pivot_transactions)"
   ]
  },
  {
   "cell_type": "code",
   "execution_count": 24,
   "metadata": {},
   "outputs": [
    {
     "data": {
      "application/vnd.plotly.v1+json": {
       "config": {
        "linkText": "Export to plot.ly",
        "plotlyServerURL": "https://plot.ly",
        "showLink": false
       },
       "data": [
        {
         "marker": {
          "opacity": 0.75
         },
         "mode": "markers",
         "name": "Cluster_0",
         "text": [
          "Customer Name: Allen",
          "Customer Name: Baker",
          "Customer Name: Barnes",
          "Customer Name: Brooks",
          "Customer Name: Butler",
          "Customer Name: Clark",
          "Customer Name: Cooper",
          "Customer Name: Davis",
          "Customer Name: Fisher",
          "Customer Name: Foster",
          "Customer Name: Garcia",
          "Customer Name: Gomez",
          "Customer Name: Gonzalez",
          "Customer Name: Hall",
          "Customer Name: Howard",
          "Customer Name: Jackson",
          "Customer Name: Kelly",
          "Customer Name: Long",
          "Customer Name: Lopez",
          "Customer Name: Martin",
          "Customer Name: Martinez",
          "Customer Name: Miller",
          "Customer Name: Nelson",
          "Customer Name: Nguyen",
          "Customer Name: Parker",
          "Customer Name: Powell",
          "Customer Name: Price",
          "Customer Name: Ramirez",
          "Customer Name: Reed",
          "Customer Name: Reyes",
          "Customer Name: Roberts",
          "Customer Name: Sanchez",
          "Customer Name: Sanders",
          "Customer Name: Scott",
          "Customer Name: Thomas",
          "Customer Name: Thompson",
          "Customer Name: Ward",
          "Customer Name: White",
          "Customer Name: Williams",
          "Customer Name: Wood",
          "Customer Name: Young"
         ],
         "type": "scattergl",
         "uid": "2257005d-1be7-45d2-b484-6619638059bc",
         "x": [
          -0.31223778458332985,
          1.5004222067226338,
          1.8239360739300268,
          1.6562437575624354,
          1.6613361185853266,
          -0.12206363683530895,
          -0.26098275212325583,
          1.6895973225368945,
          1.7910381185671038,
          -0.05892232379246432,
          -0.2939810875221101,
          -0.27213751338340375,
          -0.2551419536915965,
          1.7048496853689354,
          1.7196724576339122,
          1.8420359654053962,
          1.6806734930523903,
          -1.3131959355773473,
          -0.22778404221184426,
          -0.2618238924155828,
          -0.32352727885540855,
          1.9736129963418954,
          1.575447701105338,
          -0.2129064904391535,
          -0.3614555252010125,
          -0.35869070152223503,
          1.6865817716903306,
          -0.3679614191110162,
          -0.3316875055593483,
          -0.3545488312986117,
          -0.25346077387293636,
          1.8939609619736764,
          -0.010874688232942584,
          -0.2324239891674203,
          -0.11563445636191068,
          -0.4915821226400368,
          -0.2928884255237171,
          1.5690743912386753,
          1.657888226099847,
          -0.1604033129442764,
          1.930487509617139
         ],
         "y": [
          0.27144829416179356,
          -0.6233743520494789,
          -0.6064863183893973,
          -0.6461066280057365,
          -0.5636902868482075,
          -0.00018694077253668124,
          0.2686043070172626,
          -0.23917111050854517,
          -0.5054373691076424,
          0.028013113095586007,
          0.23353484296985724,
          0.31221839995192496,
          0.08775162287004494,
          -0.2452670559698367,
          -0.2299489776831134,
          -0.017398580985476256,
          -0.28761376286335216,
          -0.13495278077130396,
          0.32392446465056185,
          0.4721782082790791,
          0.2631936842292491,
          -0.693325272761939,
          -0.5896724690301154,
          -0.1164861188138504,
          -0.03178932623135724,
          0.2835277709969662,
          -0.7413555431894192,
          0.3092878876546906,
          0.29811949305122987,
          0.3259956090607312,
          0.014723769412656504,
          0.2121654880398416,
          0.7154201209074937,
          0.1057702949690482,
          0.7875566116411349,
          0.09416199566809222,
          0.2005116194414536,
          -0.5155943096726483,
          -0.6267721506362398,
          0.009665408982614573,
          -0.6118204712387366
         ]
        },
        {
         "marker": {
          "opacity": 0.75
         },
         "mode": "markers",
         "name": "Cluster_1",
         "text": [
          "Customer Name: Adams",
          "Customer Name: Bailey",
          "Customer Name: Bennett",
          "Customer Name: Brown",
          "Customer Name: Carter",
          "Customer Name: Collins",
          "Customer Name: Cruz",
          "Customer Name: Diaz",
          "Customer Name: Edwards",
          "Customer Name: Green",
          "Customer Name: Gutierrez",
          "Customer Name: Hernandez",
          "Customer Name: Hill",
          "Customer Name: Hughes",
          "Customer Name: James",
          "Customer Name: Jones",
          "Customer Name: King",
          "Customer Name: Lewis",
          "Customer Name: Morgan",
          "Customer Name: Murphy",
          "Customer Name: Myers",
          "Customer Name: Ortiz",
          "Customer Name: Perez",
          "Customer Name: Perry",
          "Customer Name: Rivera",
          "Customer Name: Robinson",
          "Customer Name: Ross",
          "Customer Name: Stewart",
          "Customer Name: Sullivan",
          "Customer Name: Taylor",
          "Customer Name: Torres",
          "Customer Name: Walker",
          "Customer Name: Watson",
          "Customer Name: Wilson"
         ],
         "type": "scattergl",
         "uid": "f9baae3a-9536-4594-86ea-cbd21684e6da",
         "x": [
          -1.681139796999947,
          -1.5124537449953586,
          -1.5270242599224466,
          -1.6765910532334558,
          -1.7422266237492765,
          -0.4551602695652739,
          -1.5651821970346507,
          -1.7711364711173812,
          -0.4051020226485951,
          -1.3797503899992292,
          -1.3647891209555443,
          -0.5162355489846766,
          -1.6771834771615959,
          -1.8367720416332018,
          -1.788592333360401,
          -0.4608256571762814,
          -1.7254808687184433,
          -1.606999162879284,
          -1.5270242599224466,
          -1.3649276177342524,
          -1.5170024887618498,
          -0.4608256571762814,
          -1.5170024887618498,
          -1.7756852148838724,
          -1.4957079899645256,
          -1.5438876982373264,
          -0.45276255573722585,
          -1.659727614918576,
          -1.5444801221654663,
          -1.7925486531987522,
          -0.4608256571762814,
          -1.5484364420038175,
          -1.5438876982373264,
          -1.4955903066804788
         ],
         "y": [
          -0.24008590572354477,
          -0.24485766325418173,
          -0.11818314399477205,
          -0.3984023544453802,
          -0.4933901353486292,
          -0.010476510476100546,
          -0.10907737410002823,
          -0.6832049672717677,
          -0.0863821721219822,
          0.030839179677461814,
          -0.30719116835490173,
          0.0745927493185183,
          -0.4663316082619825,
          -0.7781927481750167,
          -0.7556565886073346,
          -0.048542578629085155,
          -0.3487018240405022,
          -0.5296602760805692,
          -0.11818314399477205,
          0.04615725796418511,
          -0.0865412145323463,
          -0.048542578629085155,
          -0.0865412145323463,
          -0.5248885185499321,
          -0.10016935194605477,
          -0.12270551151373672,
          0.04428380443636483,
          -0.39387998692641557,
          -0.19063476533033902,
          -0.5294108860688967,
          -0.048542578629085155,
          0.03561093720809875,
          -0.12270551151373672,
          -0.24033529573521706
         ]
        },
        {
         "marker": {
          "opacity": 0.75
         },
         "mode": "markers",
         "name": "Cluster_2",
         "text": [
          "Customer Name: Anderson",
          "Customer Name: Bell",
          "Customer Name: Campbell",
          "Customer Name: Cook",
          "Customer Name: Cox",
          "Customer Name: Flores",
          "Customer Name: Gray",
          "Customer Name: Jenkins",
          "Customer Name: Johnson",
          "Customer Name: Mitchell",
          "Customer Name: Moore",
          "Customer Name: Morris",
          "Customer Name: Peterson",
          "Customer Name: Phillips",
          "Customer Name: Rodriguez",
          "Customer Name: Russell",
          "Customer Name: Smith"
         ],
         "type": "scattergl",
         "uid": "18d5fcc1-ede3-4293-8741-51180bc18f80",
         "x": [
          0.6489070049350057,
          0.7249763799527564,
          0.6953580285427906,
          0.6489070049350057,
          0.7249763799527564,
          0.6158560286719198,
          0.6086076169946548,
          0.6489070049350057,
          0.6785253563449715,
          -0.27438991506325466,
          0.6158560286719198,
          0.6785253563449715,
          0.7800918938024124,
          0.6158560286719198,
          0.6449014064965484,
          0.5984503828887634,
          0.6326887008697389
         ],
         "y": [
          0.9894184124757096,
          1.446582403764448,
          1.2044988819868312,
          0.9894184124757096,
          1.446582403764448,
          0.7911417345784854,
          0.6488669718455907,
          0.9894184124757096,
          1.2315019342533262,
          0.4814454224633712,
          0.7911417345784854,
          1.2315019342533262,
          0.7670146229865908,
          0.7911417345784854,
          0.8077965775577528,
          0.5927161080466313,
          0.7641386823119903
         ]
        },
        {
         "marker": {
          "opacity": 0.75
         },
         "mode": "markers",
         "name": "Cluster_3",
         "text": [
          "Customer Name: Evans",
          "Customer Name: Harris",
          "Customer Name: Lee",
          "Customer Name: Morales",
          "Customer Name: Richardson",
          "Customer Name: Rogers",
          "Customer Name: Turner",
          "Customer Name: Wright"
         ],
         "type": "scattergl",
         "uid": "55fcd8b0-0873-4516-b04b-0dc4e8b9d78d",
         "x": [
          1.7167499951734102,
          1.8127277025266715,
          1.9295217653691188,
          1.7018863017658405,
          1.8004063170727935,
          1.5710411435946279,
          1.7732177297891691,
          1.689873547890176
         ],
         "y": [
          -0.31206694772097454,
          -0.9301394137372403,
          -0.6256415043748939,
          -1.3628902830995282,
          -0.5520534961261483,
          -1.1565694929732575,
          -0.3884616731756707,
          -0.22789310652844585
         ]
        }
       ],
       "layout": {
        "hovermode": "closest",
        "title": {
         "text": "PCA vs. Clusters"
        },
        "xaxis": {
         "title": {
          "text": "PCA1"
         }
        },
        "yaxis": {
         "title": {
          "text": "PCA2"
         }
        }
       }
      },
      "text/html": [
       "<div id=\"82a65c78-53f3-4b71-acf4-da4d0d5cc3e3\" style=\"height: 525px; width: 100%;\" class=\"plotly-graph-div\"></div><script type=\"text/javascript\">require([\"plotly\"], function(Plotly) { window.PLOTLYENV=window.PLOTLYENV || {};window.PLOTLYENV.BASE_URL=\"https://plot.ly\";Plotly.newPlot(\"82a65c78-53f3-4b71-acf4-da4d0d5cc3e3\", [{\"marker\": {\"opacity\": 0.75}, \"mode\": \"markers\", \"name\": \"Cluster_0\", \"text\": [\"Customer Name: Allen\", \"Customer Name: Baker\", \"Customer Name: Barnes\", \"Customer Name: Brooks\", \"Customer Name: Butler\", \"Customer Name: Clark\", \"Customer Name: Cooper\", \"Customer Name: Davis\", \"Customer Name: Fisher\", \"Customer Name: Foster\", \"Customer Name: Garcia\", \"Customer Name: Gomez\", \"Customer Name: Gonzalez\", \"Customer Name: Hall\", \"Customer Name: Howard\", \"Customer Name: Jackson\", \"Customer Name: Kelly\", \"Customer Name: Long\", \"Customer Name: Lopez\", \"Customer Name: Martin\", \"Customer Name: Martinez\", \"Customer Name: Miller\", \"Customer Name: Nelson\", \"Customer Name: Nguyen\", \"Customer Name: Parker\", \"Customer Name: Powell\", \"Customer Name: Price\", \"Customer Name: Ramirez\", \"Customer Name: Reed\", \"Customer Name: Reyes\", \"Customer Name: Roberts\", \"Customer Name: Sanchez\", \"Customer Name: Sanders\", \"Customer Name: Scott\", \"Customer Name: Thomas\", \"Customer Name: Thompson\", \"Customer Name: Ward\", \"Customer Name: White\", \"Customer Name: Williams\", \"Customer Name: Wood\", \"Customer Name: Young\"], \"x\": [-0.31223778458332985, 1.5004222067226338, 1.8239360739300268, 1.6562437575624354, 1.6613361185853266, -0.12206363683530895, -0.26098275212325583, 1.6895973225368945, 1.7910381185671038, -0.05892232379246432, -0.2939810875221101, -0.27213751338340375, -0.2551419536915965, 1.7048496853689354, 1.7196724576339122, 1.8420359654053962, 1.6806734930523903, -1.3131959355773473, -0.22778404221184426, -0.2618238924155828, -0.32352727885540855, 1.9736129963418954, 1.575447701105338, -0.2129064904391535, -0.3614555252010125, -0.35869070152223503, 1.6865817716903306, -0.3679614191110162, -0.3316875055593483, -0.3545488312986117, -0.25346077387293636, 1.8939609619736764, -0.010874688232942584, -0.2324239891674203, -0.11563445636191068, -0.4915821226400368, -0.2928884255237171, 1.5690743912386753, 1.657888226099847, -0.1604033129442764, 1.930487509617139], \"y\": [0.27144829416179356, -0.6233743520494789, -0.6064863183893973, -0.6461066280057365, -0.5636902868482075, -0.00018694077253668124, 0.2686043070172626, -0.23917111050854517, -0.5054373691076424, 0.028013113095586007, 0.23353484296985724, 0.31221839995192496, 0.08775162287004494, -0.2452670559698367, -0.2299489776831134, -0.017398580985476256, -0.28761376286335216, -0.13495278077130396, 0.32392446465056185, 0.4721782082790791, 0.2631936842292491, -0.693325272761939, -0.5896724690301154, -0.1164861188138504, -0.03178932623135724, 0.2835277709969662, -0.7413555431894192, 0.3092878876546906, 0.29811949305122987, 0.3259956090607312, 0.014723769412656504, 0.2121654880398416, 0.7154201209074937, 0.1057702949690482, 0.7875566116411349, 0.09416199566809222, 0.2005116194414536, -0.5155943096726483, -0.6267721506362398, 0.009665408982614573, -0.6118204712387366], \"type\": \"scattergl\", \"uid\": \"2257005d-1be7-45d2-b484-6619638059bc\"}, {\"marker\": {\"opacity\": 0.75}, \"mode\": \"markers\", \"name\": \"Cluster_1\", \"text\": [\"Customer Name: Adams\", \"Customer Name: Bailey\", \"Customer Name: Bennett\", \"Customer Name: Brown\", \"Customer Name: Carter\", \"Customer Name: Collins\", \"Customer Name: Cruz\", \"Customer Name: Diaz\", \"Customer Name: Edwards\", \"Customer Name: Green\", \"Customer Name: Gutierrez\", \"Customer Name: Hernandez\", \"Customer Name: Hill\", \"Customer Name: Hughes\", \"Customer Name: James\", \"Customer Name: Jones\", \"Customer Name: King\", \"Customer Name: Lewis\", \"Customer Name: Morgan\", \"Customer Name: Murphy\", \"Customer Name: Myers\", \"Customer Name: Ortiz\", \"Customer Name: Perez\", \"Customer Name: Perry\", \"Customer Name: Rivera\", \"Customer Name: Robinson\", \"Customer Name: Ross\", \"Customer Name: Stewart\", \"Customer Name: Sullivan\", \"Customer Name: Taylor\", \"Customer Name: Torres\", \"Customer Name: Walker\", \"Customer Name: Watson\", \"Customer Name: Wilson\"], \"x\": [-1.681139796999947, -1.5124537449953586, -1.5270242599224466, -1.6765910532334558, -1.7422266237492765, -0.4551602695652739, -1.5651821970346507, -1.7711364711173812, -0.4051020226485951, -1.3797503899992292, -1.3647891209555443, -0.5162355489846766, -1.6771834771615959, -1.8367720416332018, -1.788592333360401, -0.4608256571762814, -1.7254808687184433, -1.606999162879284, -1.5270242599224466, -1.3649276177342524, -1.5170024887618498, -0.4608256571762814, -1.5170024887618498, -1.7756852148838724, -1.4957079899645256, -1.5438876982373264, -0.45276255573722585, -1.659727614918576, -1.5444801221654663, -1.7925486531987522, -0.4608256571762814, -1.5484364420038175, -1.5438876982373264, -1.4955903066804788], \"y\": [-0.24008590572354477, -0.24485766325418173, -0.11818314399477205, -0.3984023544453802, -0.4933901353486292, -0.010476510476100546, -0.10907737410002823, -0.6832049672717677, -0.0863821721219822, 0.030839179677461814, -0.30719116835490173, 0.0745927493185183, -0.4663316082619825, -0.7781927481750167, -0.7556565886073346, -0.048542578629085155, -0.3487018240405022, -0.5296602760805692, -0.11818314399477205, 0.04615725796418511, -0.0865412145323463, -0.048542578629085155, -0.0865412145323463, -0.5248885185499321, -0.10016935194605477, -0.12270551151373672, 0.04428380443636483, -0.39387998692641557, -0.19063476533033902, -0.5294108860688967, -0.048542578629085155, 0.03561093720809875, -0.12270551151373672, -0.24033529573521706], \"type\": \"scattergl\", \"uid\": \"f9baae3a-9536-4594-86ea-cbd21684e6da\"}, {\"marker\": {\"opacity\": 0.75}, \"mode\": \"markers\", \"name\": \"Cluster_2\", \"text\": [\"Customer Name: Anderson\", \"Customer Name: Bell\", \"Customer Name: Campbell\", \"Customer Name: Cook\", \"Customer Name: Cox\", \"Customer Name: Flores\", \"Customer Name: Gray\", \"Customer Name: Jenkins\", \"Customer Name: Johnson\", \"Customer Name: Mitchell\", \"Customer Name: Moore\", \"Customer Name: Morris\", \"Customer Name: Peterson\", \"Customer Name: Phillips\", \"Customer Name: Rodriguez\", \"Customer Name: Russell\", \"Customer Name: Smith\"], \"x\": [0.6489070049350057, 0.7249763799527564, 0.6953580285427906, 0.6489070049350057, 0.7249763799527564, 0.6158560286719198, 0.6086076169946548, 0.6489070049350057, 0.6785253563449715, -0.27438991506325466, 0.6158560286719198, 0.6785253563449715, 0.7800918938024124, 0.6158560286719198, 0.6449014064965484, 0.5984503828887634, 0.6326887008697389], \"y\": [0.9894184124757096, 1.446582403764448, 1.2044988819868312, 0.9894184124757096, 1.446582403764448, 0.7911417345784854, 0.6488669718455907, 0.9894184124757096, 1.2315019342533262, 0.4814454224633712, 0.7911417345784854, 1.2315019342533262, 0.7670146229865908, 0.7911417345784854, 0.8077965775577528, 0.5927161080466313, 0.7641386823119903], \"type\": \"scattergl\", \"uid\": \"18d5fcc1-ede3-4293-8741-51180bc18f80\"}, {\"marker\": {\"opacity\": 0.75}, \"mode\": \"markers\", \"name\": \"Cluster_3\", \"text\": [\"Customer Name: Evans\", \"Customer Name: Harris\", \"Customer Name: Lee\", \"Customer Name: Morales\", \"Customer Name: Richardson\", \"Customer Name: Rogers\", \"Customer Name: Turner\", \"Customer Name: Wright\"], \"x\": [1.7167499951734102, 1.8127277025266715, 1.9295217653691188, 1.7018863017658405, 1.8004063170727935, 1.5710411435946279, 1.7732177297891691, 1.689873547890176], \"y\": [-0.31206694772097454, -0.9301394137372403, -0.6256415043748939, -1.3628902830995282, -0.5520534961261483, -1.1565694929732575, -0.3884616731756707, -0.22789310652844585], \"type\": \"scattergl\", \"uid\": \"55fcd8b0-0873-4516-b04b-0dc4e8b9d78d\"}], {\"hovermode\": \"closest\", \"title\": {\"text\": \"PCA vs. Clusters\"}, \"xaxis\": {\"title\": {\"text\": \"PCA1\"}}, \"yaxis\": {\"title\": {\"text\": \"PCA2\"}}}, {\"showLink\": false, \"linkText\": \"Export to plot.ly\", \"plotlyServerURL\": \"https://plot.ly\"})});</script><script type=\"text/javascript\">window.addEventListener(\"resize\", function(){window._Plotly.Plots.resize(document.getElementById(\"82a65c78-53f3-4b71-acf4-da4d0d5cc3e3\"));});</script>"
      ],
      "text/vnd.plotly.v1+html": [
       "<div id=\"82a65c78-53f3-4b71-acf4-da4d0d5cc3e3\" style=\"height: 525px; width: 100%;\" class=\"plotly-graph-div\"></div><script type=\"text/javascript\">require([\"plotly\"], function(Plotly) { window.PLOTLYENV=window.PLOTLYENV || {};window.PLOTLYENV.BASE_URL=\"https://plot.ly\";Plotly.newPlot(\"82a65c78-53f3-4b71-acf4-da4d0d5cc3e3\", [{\"marker\": {\"opacity\": 0.75}, \"mode\": \"markers\", \"name\": \"Cluster_0\", \"text\": [\"Customer Name: Allen\", \"Customer Name: Baker\", \"Customer Name: Barnes\", \"Customer Name: Brooks\", \"Customer Name: Butler\", \"Customer Name: Clark\", \"Customer Name: Cooper\", \"Customer Name: Davis\", \"Customer Name: Fisher\", \"Customer Name: Foster\", \"Customer Name: Garcia\", \"Customer Name: Gomez\", \"Customer Name: Gonzalez\", \"Customer Name: Hall\", \"Customer Name: Howard\", \"Customer Name: Jackson\", \"Customer Name: Kelly\", \"Customer Name: Long\", \"Customer Name: Lopez\", \"Customer Name: Martin\", \"Customer Name: Martinez\", \"Customer Name: Miller\", \"Customer Name: Nelson\", \"Customer Name: Nguyen\", \"Customer Name: Parker\", \"Customer Name: Powell\", \"Customer Name: Price\", \"Customer Name: Ramirez\", \"Customer Name: Reed\", \"Customer Name: Reyes\", \"Customer Name: Roberts\", \"Customer Name: Sanchez\", \"Customer Name: Sanders\", \"Customer Name: Scott\", \"Customer Name: Thomas\", \"Customer Name: Thompson\", \"Customer Name: Ward\", \"Customer Name: White\", \"Customer Name: Williams\", \"Customer Name: Wood\", \"Customer Name: Young\"], \"x\": [-0.31223778458332985, 1.5004222067226338, 1.8239360739300268, 1.6562437575624354, 1.6613361185853266, -0.12206363683530895, -0.26098275212325583, 1.6895973225368945, 1.7910381185671038, -0.05892232379246432, -0.2939810875221101, -0.27213751338340375, -0.2551419536915965, 1.7048496853689354, 1.7196724576339122, 1.8420359654053962, 1.6806734930523903, -1.3131959355773473, -0.22778404221184426, -0.2618238924155828, -0.32352727885540855, 1.9736129963418954, 1.575447701105338, -0.2129064904391535, -0.3614555252010125, -0.35869070152223503, 1.6865817716903306, -0.3679614191110162, -0.3316875055593483, -0.3545488312986117, -0.25346077387293636, 1.8939609619736764, -0.010874688232942584, -0.2324239891674203, -0.11563445636191068, -0.4915821226400368, -0.2928884255237171, 1.5690743912386753, 1.657888226099847, -0.1604033129442764, 1.930487509617139], \"y\": [0.27144829416179356, -0.6233743520494789, -0.6064863183893973, -0.6461066280057365, -0.5636902868482075, -0.00018694077253668124, 0.2686043070172626, -0.23917111050854517, -0.5054373691076424, 0.028013113095586007, 0.23353484296985724, 0.31221839995192496, 0.08775162287004494, -0.2452670559698367, -0.2299489776831134, -0.017398580985476256, -0.28761376286335216, -0.13495278077130396, 0.32392446465056185, 0.4721782082790791, 0.2631936842292491, -0.693325272761939, -0.5896724690301154, -0.1164861188138504, -0.03178932623135724, 0.2835277709969662, -0.7413555431894192, 0.3092878876546906, 0.29811949305122987, 0.3259956090607312, 0.014723769412656504, 0.2121654880398416, 0.7154201209074937, 0.1057702949690482, 0.7875566116411349, 0.09416199566809222, 0.2005116194414536, -0.5155943096726483, -0.6267721506362398, 0.009665408982614573, -0.6118204712387366], \"type\": \"scattergl\", \"uid\": \"2257005d-1be7-45d2-b484-6619638059bc\"}, {\"marker\": {\"opacity\": 0.75}, \"mode\": \"markers\", \"name\": \"Cluster_1\", \"text\": [\"Customer Name: Adams\", \"Customer Name: Bailey\", \"Customer Name: Bennett\", \"Customer Name: Brown\", \"Customer Name: Carter\", \"Customer Name: Collins\", \"Customer Name: Cruz\", \"Customer Name: Diaz\", \"Customer Name: Edwards\", \"Customer Name: Green\", \"Customer Name: Gutierrez\", \"Customer Name: Hernandez\", \"Customer Name: Hill\", \"Customer Name: Hughes\", \"Customer Name: James\", \"Customer Name: Jones\", \"Customer Name: King\", \"Customer Name: Lewis\", \"Customer Name: Morgan\", \"Customer Name: Murphy\", \"Customer Name: Myers\", \"Customer Name: Ortiz\", \"Customer Name: Perez\", \"Customer Name: Perry\", \"Customer Name: Rivera\", \"Customer Name: Robinson\", \"Customer Name: Ross\", \"Customer Name: Stewart\", \"Customer Name: Sullivan\", \"Customer Name: Taylor\", \"Customer Name: Torres\", \"Customer Name: Walker\", \"Customer Name: Watson\", \"Customer Name: Wilson\"], \"x\": [-1.681139796999947, -1.5124537449953586, -1.5270242599224466, -1.6765910532334558, -1.7422266237492765, -0.4551602695652739, -1.5651821970346507, -1.7711364711173812, -0.4051020226485951, -1.3797503899992292, -1.3647891209555443, -0.5162355489846766, -1.6771834771615959, -1.8367720416332018, -1.788592333360401, -0.4608256571762814, -1.7254808687184433, -1.606999162879284, -1.5270242599224466, -1.3649276177342524, -1.5170024887618498, -0.4608256571762814, -1.5170024887618498, -1.7756852148838724, -1.4957079899645256, -1.5438876982373264, -0.45276255573722585, -1.659727614918576, -1.5444801221654663, -1.7925486531987522, -0.4608256571762814, -1.5484364420038175, -1.5438876982373264, -1.4955903066804788], \"y\": [-0.24008590572354477, -0.24485766325418173, -0.11818314399477205, -0.3984023544453802, -0.4933901353486292, -0.010476510476100546, -0.10907737410002823, -0.6832049672717677, -0.0863821721219822, 0.030839179677461814, -0.30719116835490173, 0.0745927493185183, -0.4663316082619825, -0.7781927481750167, -0.7556565886073346, -0.048542578629085155, -0.3487018240405022, -0.5296602760805692, -0.11818314399477205, 0.04615725796418511, -0.0865412145323463, -0.048542578629085155, -0.0865412145323463, -0.5248885185499321, -0.10016935194605477, -0.12270551151373672, 0.04428380443636483, -0.39387998692641557, -0.19063476533033902, -0.5294108860688967, -0.048542578629085155, 0.03561093720809875, -0.12270551151373672, -0.24033529573521706], \"type\": \"scattergl\", \"uid\": \"f9baae3a-9536-4594-86ea-cbd21684e6da\"}, {\"marker\": {\"opacity\": 0.75}, \"mode\": \"markers\", \"name\": \"Cluster_2\", \"text\": [\"Customer Name: Anderson\", \"Customer Name: Bell\", \"Customer Name: Campbell\", \"Customer Name: Cook\", \"Customer Name: Cox\", \"Customer Name: Flores\", \"Customer Name: Gray\", \"Customer Name: Jenkins\", \"Customer Name: Johnson\", \"Customer Name: Mitchell\", \"Customer Name: Moore\", \"Customer Name: Morris\", \"Customer Name: Peterson\", \"Customer Name: Phillips\", \"Customer Name: Rodriguez\", \"Customer Name: Russell\", \"Customer Name: Smith\"], \"x\": [0.6489070049350057, 0.7249763799527564, 0.6953580285427906, 0.6489070049350057, 0.7249763799527564, 0.6158560286719198, 0.6086076169946548, 0.6489070049350057, 0.6785253563449715, -0.27438991506325466, 0.6158560286719198, 0.6785253563449715, 0.7800918938024124, 0.6158560286719198, 0.6449014064965484, 0.5984503828887634, 0.6326887008697389], \"y\": [0.9894184124757096, 1.446582403764448, 1.2044988819868312, 0.9894184124757096, 1.446582403764448, 0.7911417345784854, 0.6488669718455907, 0.9894184124757096, 1.2315019342533262, 0.4814454224633712, 0.7911417345784854, 1.2315019342533262, 0.7670146229865908, 0.7911417345784854, 0.8077965775577528, 0.5927161080466313, 0.7641386823119903], \"type\": \"scattergl\", \"uid\": \"18d5fcc1-ede3-4293-8741-51180bc18f80\"}, {\"marker\": {\"opacity\": 0.75}, \"mode\": \"markers\", \"name\": \"Cluster_3\", \"text\": [\"Customer Name: Evans\", \"Customer Name: Harris\", \"Customer Name: Lee\", \"Customer Name: Morales\", \"Customer Name: Richardson\", \"Customer Name: Rogers\", \"Customer Name: Turner\", \"Customer Name: Wright\"], \"x\": [1.7167499951734102, 1.8127277025266715, 1.9295217653691188, 1.7018863017658405, 1.8004063170727935, 1.5710411435946279, 1.7732177297891691, 1.689873547890176], \"y\": [-0.31206694772097454, -0.9301394137372403, -0.6256415043748939, -1.3628902830995282, -0.5520534961261483, -1.1565694929732575, -0.3884616731756707, -0.22789310652844585], \"type\": \"scattergl\", \"uid\": \"55fcd8b0-0873-4516-b04b-0dc4e8b9d78d\"}], {\"hovermode\": \"closest\", \"title\": {\"text\": \"PCA vs. Clusters\"}, \"xaxis\": {\"title\": {\"text\": \"PCA1\"}}, \"yaxis\": {\"title\": {\"text\": \"PCA2\"}}}, {\"showLink\": false, \"linkText\": \"Export to plot.ly\", \"plotlyServerURL\": \"https://plot.ly\"})});</script><script type=\"text/javascript\">window.addEventListener(\"resize\", function(){window._Plotly.Plots.resize(document.getElementById(\"82a65c78-53f3-4b71-acf4-da4d0d5cc3e3\"));});</script>"
      ]
     },
     "metadata": {},
     "output_type": "display_data"
    }
   ],
   "source": [
    "plot_pca(pivot_transactions, X_matrix, AC)"
   ]
  },
  {
   "cell_type": "code",
   "execution_count": 25,
   "metadata": {},
   "outputs": [
    {
     "data": {
      "text/plain": [
       "DBSCAN(algorithm='auto', eps=1, leaf_size=30, metric='euclidean',\n",
       "    metric_params=None, min_samples=5, n_jobs=None, p=None)"
      ]
     },
     "execution_count": 25,
     "metadata": {},
     "output_type": "execute_result"
    }
   ],
   "source": [
    "## DBSCAN.1\n",
    "DB=DBSCAN(eps=1, min_samples=5)\n",
    "DB.fit(pivot_transactions)"
   ]
  },
  {
   "cell_type": "code",
   "execution_count": 26,
   "metadata": {},
   "outputs": [
    {
     "data": {
      "application/vnd.plotly.v1+json": {
       "config": {
        "linkText": "Export to plot.ly",
        "plotlyServerURL": "https://plot.ly",
        "showLink": false
       },
       "data": [
        {
         "marker": {
          "opacity": 0.75
         },
         "mode": "markers",
         "name": "Cluster_-1",
         "text": [
          "Customer Name: Allen",
          "Customer Name: Baker",
          "Customer Name: Barnes",
          "Customer Name: Brooks",
          "Customer Name: Butler",
          "Customer Name: Clark",
          "Customer Name: Collins",
          "Customer Name: Cooper",
          "Customer Name: Davis",
          "Customer Name: Evans",
          "Customer Name: Fisher",
          "Customer Name: Foster",
          "Customer Name: Garcia",
          "Customer Name: Gomez",
          "Customer Name: Gonzalez",
          "Customer Name: Gray",
          "Customer Name: Gutierrez",
          "Customer Name: Hall",
          "Customer Name: Harris",
          "Customer Name: Hernandez",
          "Customer Name: Hill",
          "Customer Name: Howard",
          "Customer Name: Jackson",
          "Customer Name: James",
          "Customer Name: Kelly",
          "Customer Name: King",
          "Customer Name: Lee",
          "Customer Name: Long",
          "Customer Name: Lopez",
          "Customer Name: Martin",
          "Customer Name: Martinez",
          "Customer Name: Miller",
          "Customer Name: Mitchell",
          "Customer Name: Morales",
          "Customer Name: Nelson",
          "Customer Name: Nguyen",
          "Customer Name: Parker",
          "Customer Name: Peterson",
          "Customer Name: Powell",
          "Customer Name: Price",
          "Customer Name: Ramirez",
          "Customer Name: Reed",
          "Customer Name: Reyes",
          "Customer Name: Richardson",
          "Customer Name: Roberts",
          "Customer Name: Rogers",
          "Customer Name: Ross",
          "Customer Name: Sanchez",
          "Customer Name: Sanders",
          "Customer Name: Scott",
          "Customer Name: Sullivan",
          "Customer Name: Thomas",
          "Customer Name: Thompson",
          "Customer Name: Turner",
          "Customer Name: Ward",
          "Customer Name: White",
          "Customer Name: Williams",
          "Customer Name: Wood",
          "Customer Name: Wright",
          "Customer Name: Young"
         ],
         "type": "scattergl",
         "uid": "c95ea3bf-2abc-491e-b402-2695d0b6f515",
         "x": [
          -0.31223778458332985,
          1.5004222067226338,
          1.8239360739300268,
          1.6562437575624354,
          1.6613361185853266,
          -0.12206363683530895,
          -0.4551602695652739,
          -0.26098275212325583,
          1.6895973225368945,
          1.7167499951734102,
          1.7910381185671038,
          -0.05892232379246432,
          -0.2939810875221101,
          -0.27213751338340375,
          -0.2551419536915965,
          0.6086076169946548,
          -1.3647891209555443,
          1.7048496853689354,
          1.8127277025266715,
          -0.5162355489846766,
          -1.6771834771615959,
          1.7196724576339122,
          1.8420359654053962,
          -1.788592333360401,
          1.6806734930523903,
          -1.7254808687184433,
          1.9295217653691188,
          -1.3131959355773473,
          -0.22778404221184426,
          -0.2618238924155828,
          -0.32352727885540855,
          1.9736129963418954,
          -0.27438991506325466,
          1.7018863017658405,
          1.575447701105338,
          -0.2129064904391535,
          -0.3614555252010125,
          0.7800918938024124,
          -0.35869070152223503,
          1.6865817716903306,
          -0.3679614191110162,
          -0.3316875055593483,
          -0.3545488312986117,
          1.8004063170727935,
          -0.25346077387293636,
          1.5710411435946279,
          -0.45276255573722585,
          1.8939609619736764,
          -0.010874688232942584,
          -0.2324239891674203,
          -1.5444801221654663,
          -0.11563445636191068,
          -0.4915821226400368,
          1.7732177297891691,
          -0.2928884255237171,
          1.5690743912386753,
          1.657888226099847,
          -0.1604033129442764,
          1.689873547890176,
          1.930487509617139
         ],
         "y": [
          0.27144829416179356,
          -0.6233743520494789,
          -0.6064863183893973,
          -0.6461066280057365,
          -0.5636902868482075,
          -0.00018694077253668124,
          -0.010476510476100546,
          0.2686043070172626,
          -0.23917111050854517,
          -0.31206694772097454,
          -0.5054373691076424,
          0.028013113095586007,
          0.23353484296985724,
          0.31221839995192496,
          0.08775162287004494,
          0.6488669718455907,
          -0.30719116835490173,
          -0.2452670559698367,
          -0.9301394137372403,
          0.0745927493185183,
          -0.4663316082619825,
          -0.2299489776831134,
          -0.017398580985476256,
          -0.7556565886073346,
          -0.28761376286335216,
          -0.3487018240405022,
          -0.6256415043748939,
          -0.13495278077130396,
          0.32392446465056185,
          0.4721782082790791,
          0.2631936842292491,
          -0.693325272761939,
          0.4814454224633712,
          -1.3628902830995282,
          -0.5896724690301154,
          -0.1164861188138504,
          -0.03178932623135724,
          0.7670146229865908,
          0.2835277709969662,
          -0.7413555431894192,
          0.3092878876546906,
          0.29811949305122987,
          0.3259956090607312,
          -0.5520534961261483,
          0.014723769412656504,
          -1.1565694929732575,
          0.04428380443636483,
          0.2121654880398416,
          0.7154201209074937,
          0.1057702949690482,
          -0.19063476533033902,
          0.7875566116411349,
          0.09416199566809222,
          -0.3884616731756707,
          0.2005116194414536,
          -0.5155943096726483,
          -0.6267721506362398,
          0.009665408982614573,
          -0.22789310652844585,
          -0.6118204712387366
         ]
        },
        {
         "marker": {
          "opacity": 0.75
         },
         "mode": "markers",
         "name": "Cluster_0",
         "text": [
          "Customer Name: Adams",
          "Customer Name: Cruz",
          "Customer Name: Myers",
          "Customer Name: Perez",
          "Customer Name: Perry",
          "Customer Name: Taylor",
          "Customer Name: Walker"
         ],
         "type": "scattergl",
         "uid": "8b9d328b-2ef0-4d11-9030-a3e4928373c4",
         "x": [
          -1.681139796999947,
          -1.5651821970346507,
          -1.5170024887618498,
          -1.5170024887618498,
          -1.7756852148838724,
          -1.7925486531987522,
          -1.5484364420038175
         ],
         "y": [
          -0.24008590572354477,
          -0.10907737410002823,
          -0.0865412145323463,
          -0.0865412145323463,
          -0.5248885185499321,
          -0.5294108860688967,
          0.03561093720809875
         ]
        },
        {
         "marker": {
          "opacity": 0.75
         },
         "mode": "markers",
         "name": "Cluster_1",
         "text": [
          "Customer Name: Anderson",
          "Customer Name: Bell",
          "Customer Name: Campbell",
          "Customer Name: Cook",
          "Customer Name: Cox",
          "Customer Name: Flores",
          "Customer Name: Jenkins",
          "Customer Name: Johnson",
          "Customer Name: Moore",
          "Customer Name: Morris",
          "Customer Name: Phillips",
          "Customer Name: Rodriguez",
          "Customer Name: Russell",
          "Customer Name: Smith"
         ],
         "type": "scattergl",
         "uid": "26e71c37-a3ff-4df7-89c5-9721156ee398",
         "x": [
          0.6489070049350057,
          0.7249763799527564,
          0.6953580285427906,
          0.6489070049350057,
          0.7249763799527564,
          0.6158560286719198,
          0.6489070049350057,
          0.6785253563449715,
          0.6158560286719198,
          0.6785253563449715,
          0.6158560286719198,
          0.6449014064965484,
          0.5984503828887634,
          0.6326887008697389
         ],
         "y": [
          0.9894184124757096,
          1.446582403764448,
          1.2044988819868312,
          0.9894184124757096,
          1.446582403764448,
          0.7911417345784854,
          0.9894184124757096,
          1.2315019342533262,
          0.7911417345784854,
          1.2315019342533262,
          0.7911417345784854,
          0.8077965775577528,
          0.5927161080466313,
          0.7641386823119903
         ]
        },
        {
         "marker": {
          "opacity": 0.75
         },
         "mode": "markers",
         "name": "Cluster_2",
         "text": [
          "Customer Name: Bailey",
          "Customer Name: Bennett",
          "Customer Name: Brown",
          "Customer Name: Carter",
          "Customer Name: Diaz",
          "Customer Name: Edwards",
          "Customer Name: Hughes",
          "Customer Name: Jones",
          "Customer Name: Lewis",
          "Customer Name: Morgan",
          "Customer Name: Ortiz",
          "Customer Name: Robinson",
          "Customer Name: Stewart",
          "Customer Name: Torres",
          "Customer Name: Watson",
          "Customer Name: Wilson"
         ],
         "type": "scattergl",
         "uid": "6e6937ef-2354-46ff-9520-08c5927e591e",
         "x": [
          -1.5124537449953586,
          -1.5270242599224466,
          -1.6765910532334558,
          -1.7422266237492765,
          -1.7711364711173812,
          -0.4051020226485951,
          -1.8367720416332018,
          -0.4608256571762814,
          -1.606999162879284,
          -1.5270242599224466,
          -0.4608256571762814,
          -1.5438876982373264,
          -1.659727614918576,
          -0.4608256571762814,
          -1.5438876982373264,
          -1.4955903066804788
         ],
         "y": [
          -0.24485766325418173,
          -0.11818314399477205,
          -0.3984023544453802,
          -0.4933901353486292,
          -0.6832049672717677,
          -0.0863821721219822,
          -0.7781927481750167,
          -0.048542578629085155,
          -0.5296602760805692,
          -0.11818314399477205,
          -0.048542578629085155,
          -0.12270551151373672,
          -0.39387998692641557,
          -0.048542578629085155,
          -0.12270551151373672,
          -0.24033529573521706
         ]
        },
        {
         "marker": {
          "opacity": 0.75
         },
         "mode": "markers",
         "name": "Cluster_3",
         "text": [
          "Customer Name: Green",
          "Customer Name: Murphy",
          "Customer Name: Rivera"
         ],
         "type": "scattergl",
         "uid": "563696ee-7cd3-4462-ba2b-0c9d3f8fc2c5",
         "x": [
          -1.3797503899992292,
          -1.3649276177342524,
          -1.4957079899645256
         ],
         "y": [
          0.030839179677461814,
          0.04615725796418511,
          -0.10016935194605477
         ]
        }
       ],
       "layout": {
        "hovermode": "closest",
        "title": {
         "text": "PCA vs. Clusters"
        },
        "xaxis": {
         "title": {
          "text": "PCA1"
         }
        },
        "yaxis": {
         "title": {
          "text": "PCA2"
         }
        }
       }
      },
      "text/html": [
       "<div id=\"cb9b752b-ceed-4712-898d-0d49e141cc6a\" style=\"height: 525px; width: 100%;\" class=\"plotly-graph-div\"></div><script type=\"text/javascript\">require([\"plotly\"], function(Plotly) { window.PLOTLYENV=window.PLOTLYENV || {};window.PLOTLYENV.BASE_URL=\"https://plot.ly\";Plotly.newPlot(\"cb9b752b-ceed-4712-898d-0d49e141cc6a\", [{\"marker\": {\"opacity\": 0.75}, \"mode\": \"markers\", \"name\": \"Cluster_-1\", \"text\": [\"Customer Name: Allen\", \"Customer Name: Baker\", \"Customer Name: Barnes\", \"Customer Name: Brooks\", \"Customer Name: Butler\", \"Customer Name: Clark\", \"Customer Name: Collins\", \"Customer Name: Cooper\", \"Customer Name: Davis\", \"Customer Name: Evans\", \"Customer Name: Fisher\", \"Customer Name: Foster\", \"Customer Name: Garcia\", \"Customer Name: Gomez\", \"Customer Name: Gonzalez\", \"Customer Name: Gray\", \"Customer Name: Gutierrez\", \"Customer Name: Hall\", \"Customer Name: Harris\", \"Customer Name: Hernandez\", \"Customer Name: Hill\", \"Customer Name: Howard\", \"Customer Name: Jackson\", \"Customer Name: James\", \"Customer Name: Kelly\", \"Customer Name: King\", \"Customer Name: Lee\", \"Customer Name: Long\", \"Customer Name: Lopez\", \"Customer Name: Martin\", \"Customer Name: Martinez\", \"Customer Name: Miller\", \"Customer Name: Mitchell\", \"Customer Name: Morales\", \"Customer Name: Nelson\", \"Customer Name: Nguyen\", \"Customer Name: Parker\", \"Customer Name: Peterson\", \"Customer Name: Powell\", \"Customer Name: Price\", \"Customer Name: Ramirez\", \"Customer Name: Reed\", \"Customer Name: Reyes\", \"Customer Name: Richardson\", \"Customer Name: Roberts\", \"Customer Name: Rogers\", \"Customer Name: Ross\", \"Customer Name: Sanchez\", \"Customer Name: Sanders\", \"Customer Name: Scott\", \"Customer Name: Sullivan\", \"Customer Name: Thomas\", \"Customer Name: Thompson\", \"Customer Name: Turner\", \"Customer Name: Ward\", \"Customer Name: White\", \"Customer Name: Williams\", \"Customer Name: Wood\", \"Customer Name: Wright\", \"Customer Name: Young\"], \"x\": [-0.31223778458332985, 1.5004222067226338, 1.8239360739300268, 1.6562437575624354, 1.6613361185853266, -0.12206363683530895, -0.4551602695652739, -0.26098275212325583, 1.6895973225368945, 1.7167499951734102, 1.7910381185671038, -0.05892232379246432, -0.2939810875221101, -0.27213751338340375, -0.2551419536915965, 0.6086076169946548, -1.3647891209555443, 1.7048496853689354, 1.8127277025266715, -0.5162355489846766, -1.6771834771615959, 1.7196724576339122, 1.8420359654053962, -1.788592333360401, 1.6806734930523903, -1.7254808687184433, 1.9295217653691188, -1.3131959355773473, -0.22778404221184426, -0.2618238924155828, -0.32352727885540855, 1.9736129963418954, -0.27438991506325466, 1.7018863017658405, 1.575447701105338, -0.2129064904391535, -0.3614555252010125, 0.7800918938024124, -0.35869070152223503, 1.6865817716903306, -0.3679614191110162, -0.3316875055593483, -0.3545488312986117, 1.8004063170727935, -0.25346077387293636, 1.5710411435946279, -0.45276255573722585, 1.8939609619736764, -0.010874688232942584, -0.2324239891674203, -1.5444801221654663, -0.11563445636191068, -0.4915821226400368, 1.7732177297891691, -0.2928884255237171, 1.5690743912386753, 1.657888226099847, -0.1604033129442764, 1.689873547890176, 1.930487509617139], \"y\": [0.27144829416179356, -0.6233743520494789, -0.6064863183893973, -0.6461066280057365, -0.5636902868482075, -0.00018694077253668124, -0.010476510476100546, 0.2686043070172626, -0.23917111050854517, -0.31206694772097454, -0.5054373691076424, 0.028013113095586007, 0.23353484296985724, 0.31221839995192496, 0.08775162287004494, 0.6488669718455907, -0.30719116835490173, -0.2452670559698367, -0.9301394137372403, 0.0745927493185183, -0.4663316082619825, -0.2299489776831134, -0.017398580985476256, -0.7556565886073346, -0.28761376286335216, -0.3487018240405022, -0.6256415043748939, -0.13495278077130396, 0.32392446465056185, 0.4721782082790791, 0.2631936842292491, -0.693325272761939, 0.4814454224633712, -1.3628902830995282, -0.5896724690301154, -0.1164861188138504, -0.03178932623135724, 0.7670146229865908, 0.2835277709969662, -0.7413555431894192, 0.3092878876546906, 0.29811949305122987, 0.3259956090607312, -0.5520534961261483, 0.014723769412656504, -1.1565694929732575, 0.04428380443636483, 0.2121654880398416, 0.7154201209074937, 0.1057702949690482, -0.19063476533033902, 0.7875566116411349, 0.09416199566809222, -0.3884616731756707, 0.2005116194414536, -0.5155943096726483, -0.6267721506362398, 0.009665408982614573, -0.22789310652844585, -0.6118204712387366], \"type\": \"scattergl\", \"uid\": \"c95ea3bf-2abc-491e-b402-2695d0b6f515\"}, {\"marker\": {\"opacity\": 0.75}, \"mode\": \"markers\", \"name\": \"Cluster_0\", \"text\": [\"Customer Name: Adams\", \"Customer Name: Cruz\", \"Customer Name: Myers\", \"Customer Name: Perez\", \"Customer Name: Perry\", \"Customer Name: Taylor\", \"Customer Name: Walker\"], \"x\": [-1.681139796999947, -1.5651821970346507, -1.5170024887618498, -1.5170024887618498, -1.7756852148838724, -1.7925486531987522, -1.5484364420038175], \"y\": [-0.24008590572354477, -0.10907737410002823, -0.0865412145323463, -0.0865412145323463, -0.5248885185499321, -0.5294108860688967, 0.03561093720809875], \"type\": \"scattergl\", \"uid\": \"8b9d328b-2ef0-4d11-9030-a3e4928373c4\"}, {\"marker\": {\"opacity\": 0.75}, \"mode\": \"markers\", \"name\": \"Cluster_1\", \"text\": [\"Customer Name: Anderson\", \"Customer Name: Bell\", \"Customer Name: Campbell\", \"Customer Name: Cook\", \"Customer Name: Cox\", \"Customer Name: Flores\", \"Customer Name: Jenkins\", \"Customer Name: Johnson\", \"Customer Name: Moore\", \"Customer Name: Morris\", \"Customer Name: Phillips\", \"Customer Name: Rodriguez\", \"Customer Name: Russell\", \"Customer Name: Smith\"], \"x\": [0.6489070049350057, 0.7249763799527564, 0.6953580285427906, 0.6489070049350057, 0.7249763799527564, 0.6158560286719198, 0.6489070049350057, 0.6785253563449715, 0.6158560286719198, 0.6785253563449715, 0.6158560286719198, 0.6449014064965484, 0.5984503828887634, 0.6326887008697389], \"y\": [0.9894184124757096, 1.446582403764448, 1.2044988819868312, 0.9894184124757096, 1.446582403764448, 0.7911417345784854, 0.9894184124757096, 1.2315019342533262, 0.7911417345784854, 1.2315019342533262, 0.7911417345784854, 0.8077965775577528, 0.5927161080466313, 0.7641386823119903], \"type\": \"scattergl\", \"uid\": \"26e71c37-a3ff-4df7-89c5-9721156ee398\"}, {\"marker\": {\"opacity\": 0.75}, \"mode\": \"markers\", \"name\": \"Cluster_2\", \"text\": [\"Customer Name: Bailey\", \"Customer Name: Bennett\", \"Customer Name: Brown\", \"Customer Name: Carter\", \"Customer Name: Diaz\", \"Customer Name: Edwards\", \"Customer Name: Hughes\", \"Customer Name: Jones\", \"Customer Name: Lewis\", \"Customer Name: Morgan\", \"Customer Name: Ortiz\", \"Customer Name: Robinson\", \"Customer Name: Stewart\", \"Customer Name: Torres\", \"Customer Name: Watson\", \"Customer Name: Wilson\"], \"x\": [-1.5124537449953586, -1.5270242599224466, -1.6765910532334558, -1.7422266237492765, -1.7711364711173812, -0.4051020226485951, -1.8367720416332018, -0.4608256571762814, -1.606999162879284, -1.5270242599224466, -0.4608256571762814, -1.5438876982373264, -1.659727614918576, -0.4608256571762814, -1.5438876982373264, -1.4955903066804788], \"y\": [-0.24485766325418173, -0.11818314399477205, -0.3984023544453802, -0.4933901353486292, -0.6832049672717677, -0.0863821721219822, -0.7781927481750167, -0.048542578629085155, -0.5296602760805692, -0.11818314399477205, -0.048542578629085155, -0.12270551151373672, -0.39387998692641557, -0.048542578629085155, -0.12270551151373672, -0.24033529573521706], \"type\": \"scattergl\", \"uid\": \"6e6937ef-2354-46ff-9520-08c5927e591e\"}, {\"marker\": {\"opacity\": 0.75}, \"mode\": \"markers\", \"name\": \"Cluster_3\", \"text\": [\"Customer Name: Green\", \"Customer Name: Murphy\", \"Customer Name: Rivera\"], \"x\": [-1.3797503899992292, -1.3649276177342524, -1.4957079899645256], \"y\": [0.030839179677461814, 0.04615725796418511, -0.10016935194605477], \"type\": \"scattergl\", \"uid\": \"563696ee-7cd3-4462-ba2b-0c9d3f8fc2c5\"}], {\"hovermode\": \"closest\", \"title\": {\"text\": \"PCA vs. Clusters\"}, \"xaxis\": {\"title\": {\"text\": \"PCA1\"}}, \"yaxis\": {\"title\": {\"text\": \"PCA2\"}}}, {\"showLink\": false, \"linkText\": \"Export to plot.ly\", \"plotlyServerURL\": \"https://plot.ly\"})});</script><script type=\"text/javascript\">window.addEventListener(\"resize\", function(){window._Plotly.Plots.resize(document.getElementById(\"cb9b752b-ceed-4712-898d-0d49e141cc6a\"));});</script>"
      ],
      "text/vnd.plotly.v1+html": [
       "<div id=\"cb9b752b-ceed-4712-898d-0d49e141cc6a\" style=\"height: 525px; width: 100%;\" class=\"plotly-graph-div\"></div><script type=\"text/javascript\">require([\"plotly\"], function(Plotly) { window.PLOTLYENV=window.PLOTLYENV || {};window.PLOTLYENV.BASE_URL=\"https://plot.ly\";Plotly.newPlot(\"cb9b752b-ceed-4712-898d-0d49e141cc6a\", [{\"marker\": {\"opacity\": 0.75}, \"mode\": \"markers\", \"name\": \"Cluster_-1\", \"text\": [\"Customer Name: Allen\", \"Customer Name: Baker\", \"Customer Name: Barnes\", \"Customer Name: Brooks\", \"Customer Name: Butler\", \"Customer Name: Clark\", \"Customer Name: Collins\", \"Customer Name: Cooper\", \"Customer Name: Davis\", \"Customer Name: Evans\", \"Customer Name: Fisher\", \"Customer Name: Foster\", \"Customer Name: Garcia\", \"Customer Name: Gomez\", \"Customer Name: Gonzalez\", \"Customer Name: Gray\", \"Customer Name: Gutierrez\", \"Customer Name: Hall\", \"Customer Name: Harris\", \"Customer Name: Hernandez\", \"Customer Name: Hill\", \"Customer Name: Howard\", \"Customer Name: Jackson\", \"Customer Name: James\", \"Customer Name: Kelly\", \"Customer Name: King\", \"Customer Name: Lee\", \"Customer Name: Long\", \"Customer Name: Lopez\", \"Customer Name: Martin\", \"Customer Name: Martinez\", \"Customer Name: Miller\", \"Customer Name: Mitchell\", \"Customer Name: Morales\", \"Customer Name: Nelson\", \"Customer Name: Nguyen\", \"Customer Name: Parker\", \"Customer Name: Peterson\", \"Customer Name: Powell\", \"Customer Name: Price\", \"Customer Name: Ramirez\", \"Customer Name: Reed\", \"Customer Name: Reyes\", \"Customer Name: Richardson\", \"Customer Name: Roberts\", \"Customer Name: Rogers\", \"Customer Name: Ross\", \"Customer Name: Sanchez\", \"Customer Name: Sanders\", \"Customer Name: Scott\", \"Customer Name: Sullivan\", \"Customer Name: Thomas\", \"Customer Name: Thompson\", \"Customer Name: Turner\", \"Customer Name: Ward\", \"Customer Name: White\", \"Customer Name: Williams\", \"Customer Name: Wood\", \"Customer Name: Wright\", \"Customer Name: Young\"], \"x\": [-0.31223778458332985, 1.5004222067226338, 1.8239360739300268, 1.6562437575624354, 1.6613361185853266, -0.12206363683530895, -0.4551602695652739, -0.26098275212325583, 1.6895973225368945, 1.7167499951734102, 1.7910381185671038, -0.05892232379246432, -0.2939810875221101, -0.27213751338340375, -0.2551419536915965, 0.6086076169946548, -1.3647891209555443, 1.7048496853689354, 1.8127277025266715, -0.5162355489846766, -1.6771834771615959, 1.7196724576339122, 1.8420359654053962, -1.788592333360401, 1.6806734930523903, -1.7254808687184433, 1.9295217653691188, -1.3131959355773473, -0.22778404221184426, -0.2618238924155828, -0.32352727885540855, 1.9736129963418954, -0.27438991506325466, 1.7018863017658405, 1.575447701105338, -0.2129064904391535, -0.3614555252010125, 0.7800918938024124, -0.35869070152223503, 1.6865817716903306, -0.3679614191110162, -0.3316875055593483, -0.3545488312986117, 1.8004063170727935, -0.25346077387293636, 1.5710411435946279, -0.45276255573722585, 1.8939609619736764, -0.010874688232942584, -0.2324239891674203, -1.5444801221654663, -0.11563445636191068, -0.4915821226400368, 1.7732177297891691, -0.2928884255237171, 1.5690743912386753, 1.657888226099847, -0.1604033129442764, 1.689873547890176, 1.930487509617139], \"y\": [0.27144829416179356, -0.6233743520494789, -0.6064863183893973, -0.6461066280057365, -0.5636902868482075, -0.00018694077253668124, -0.010476510476100546, 0.2686043070172626, -0.23917111050854517, -0.31206694772097454, -0.5054373691076424, 0.028013113095586007, 0.23353484296985724, 0.31221839995192496, 0.08775162287004494, 0.6488669718455907, -0.30719116835490173, -0.2452670559698367, -0.9301394137372403, 0.0745927493185183, -0.4663316082619825, -0.2299489776831134, -0.017398580985476256, -0.7556565886073346, -0.28761376286335216, -0.3487018240405022, -0.6256415043748939, -0.13495278077130396, 0.32392446465056185, 0.4721782082790791, 0.2631936842292491, -0.693325272761939, 0.4814454224633712, -1.3628902830995282, -0.5896724690301154, -0.1164861188138504, -0.03178932623135724, 0.7670146229865908, 0.2835277709969662, -0.7413555431894192, 0.3092878876546906, 0.29811949305122987, 0.3259956090607312, -0.5520534961261483, 0.014723769412656504, -1.1565694929732575, 0.04428380443636483, 0.2121654880398416, 0.7154201209074937, 0.1057702949690482, -0.19063476533033902, 0.7875566116411349, 0.09416199566809222, -0.3884616731756707, 0.2005116194414536, -0.5155943096726483, -0.6267721506362398, 0.009665408982614573, -0.22789310652844585, -0.6118204712387366], \"type\": \"scattergl\", \"uid\": \"c95ea3bf-2abc-491e-b402-2695d0b6f515\"}, {\"marker\": {\"opacity\": 0.75}, \"mode\": \"markers\", \"name\": \"Cluster_0\", \"text\": [\"Customer Name: Adams\", \"Customer Name: Cruz\", \"Customer Name: Myers\", \"Customer Name: Perez\", \"Customer Name: Perry\", \"Customer Name: Taylor\", \"Customer Name: Walker\"], \"x\": [-1.681139796999947, -1.5651821970346507, -1.5170024887618498, -1.5170024887618498, -1.7756852148838724, -1.7925486531987522, -1.5484364420038175], \"y\": [-0.24008590572354477, -0.10907737410002823, -0.0865412145323463, -0.0865412145323463, -0.5248885185499321, -0.5294108860688967, 0.03561093720809875], \"type\": \"scattergl\", \"uid\": \"8b9d328b-2ef0-4d11-9030-a3e4928373c4\"}, {\"marker\": {\"opacity\": 0.75}, \"mode\": \"markers\", \"name\": \"Cluster_1\", \"text\": [\"Customer Name: Anderson\", \"Customer Name: Bell\", \"Customer Name: Campbell\", \"Customer Name: Cook\", \"Customer Name: Cox\", \"Customer Name: Flores\", \"Customer Name: Jenkins\", \"Customer Name: Johnson\", \"Customer Name: Moore\", \"Customer Name: Morris\", \"Customer Name: Phillips\", \"Customer Name: Rodriguez\", \"Customer Name: Russell\", \"Customer Name: Smith\"], \"x\": [0.6489070049350057, 0.7249763799527564, 0.6953580285427906, 0.6489070049350057, 0.7249763799527564, 0.6158560286719198, 0.6489070049350057, 0.6785253563449715, 0.6158560286719198, 0.6785253563449715, 0.6158560286719198, 0.6449014064965484, 0.5984503828887634, 0.6326887008697389], \"y\": [0.9894184124757096, 1.446582403764448, 1.2044988819868312, 0.9894184124757096, 1.446582403764448, 0.7911417345784854, 0.9894184124757096, 1.2315019342533262, 0.7911417345784854, 1.2315019342533262, 0.7911417345784854, 0.8077965775577528, 0.5927161080466313, 0.7641386823119903], \"type\": \"scattergl\", \"uid\": \"26e71c37-a3ff-4df7-89c5-9721156ee398\"}, {\"marker\": {\"opacity\": 0.75}, \"mode\": \"markers\", \"name\": \"Cluster_2\", \"text\": [\"Customer Name: Bailey\", \"Customer Name: Bennett\", \"Customer Name: Brown\", \"Customer Name: Carter\", \"Customer Name: Diaz\", \"Customer Name: Edwards\", \"Customer Name: Hughes\", \"Customer Name: Jones\", \"Customer Name: Lewis\", \"Customer Name: Morgan\", \"Customer Name: Ortiz\", \"Customer Name: Robinson\", \"Customer Name: Stewart\", \"Customer Name: Torres\", \"Customer Name: Watson\", \"Customer Name: Wilson\"], \"x\": [-1.5124537449953586, -1.5270242599224466, -1.6765910532334558, -1.7422266237492765, -1.7711364711173812, -0.4051020226485951, -1.8367720416332018, -0.4608256571762814, -1.606999162879284, -1.5270242599224466, -0.4608256571762814, -1.5438876982373264, -1.659727614918576, -0.4608256571762814, -1.5438876982373264, -1.4955903066804788], \"y\": [-0.24485766325418173, -0.11818314399477205, -0.3984023544453802, -0.4933901353486292, -0.6832049672717677, -0.0863821721219822, -0.7781927481750167, -0.048542578629085155, -0.5296602760805692, -0.11818314399477205, -0.048542578629085155, -0.12270551151373672, -0.39387998692641557, -0.048542578629085155, -0.12270551151373672, -0.24033529573521706], \"type\": \"scattergl\", \"uid\": \"6e6937ef-2354-46ff-9520-08c5927e591e\"}, {\"marker\": {\"opacity\": 0.75}, \"mode\": \"markers\", \"name\": \"Cluster_3\", \"text\": [\"Customer Name: Green\", \"Customer Name: Murphy\", \"Customer Name: Rivera\"], \"x\": [-1.3797503899992292, -1.3649276177342524, -1.4957079899645256], \"y\": [0.030839179677461814, 0.04615725796418511, -0.10016935194605477], \"type\": \"scattergl\", \"uid\": \"563696ee-7cd3-4462-ba2b-0c9d3f8fc2c5\"}], {\"hovermode\": \"closest\", \"title\": {\"text\": \"PCA vs. Clusters\"}, \"xaxis\": {\"title\": {\"text\": \"PCA1\"}}, \"yaxis\": {\"title\": {\"text\": \"PCA2\"}}}, {\"showLink\": false, \"linkText\": \"Export to plot.ly\", \"plotlyServerURL\": \"https://plot.ly\"})});</script><script type=\"text/javascript\">window.addEventListener(\"resize\", function(){window._Plotly.Plots.resize(document.getElementById(\"cb9b752b-ceed-4712-898d-0d49e141cc6a\"));});</script>"
      ]
     },
     "metadata": {},
     "output_type": "display_data"
    }
   ],
   "source": [
    "plot_pca(pivot_transactions, X_matrix, DB)"
   ]
  },
  {
   "cell_type": "code",
   "execution_count": null,
   "metadata": {},
   "outputs": [],
   "source": []
  },
  {
   "cell_type": "code",
   "execution_count": null,
   "metadata": {},
   "outputs": [],
   "source": []
  }
 ],
 "metadata": {
  "anaconda-cloud": {},
  "kernelspec": {
   "display_name": "Python 3",
   "language": "python",
   "name": "python3"
  }
 },
 "nbformat": 4,
 "nbformat_minor": 1
}
